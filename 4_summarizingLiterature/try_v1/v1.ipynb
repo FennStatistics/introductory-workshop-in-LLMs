{
 "cells": [
  {
   "cell_type": "markdown",
   "id": "745eb47a",
   "metadata": {},
   "source": [
    "# Upload data to supabase\n",
    "\n",
    "## Get API key(s)"
   ]
  },
  {
   "cell_type": "code",
   "execution_count": 23,
   "id": "2f150b66",
   "metadata": {},
   "outputs": [],
   "source": [
    "import os\n",
    "import sys\n",
    "\n",
    "# Assuming 'src' is one level down (in the current directory or a subdirectory)\n",
    "path_to_src = os.path.join('../..','src')  # Moves one level down to 'src' folder\n",
    "\n",
    "# Add the path to sys.path\n",
    "sys.path.append(path_to_src)\n",
    "\n",
    "# Now you can import your API_key module\n",
    "import API_key as key"
   ]
  },
  {
   "cell_type": "markdown",
   "id": "1f770440",
   "metadata": {},
   "source": [
    "aaa"
   ]
  },
  {
   "cell_type": "code",
   "execution_count": 24,
   "id": "14e22fcc",
   "metadata": {},
   "outputs": [],
   "source": [
    "import os\n",
    "import json\n",
    "#from dotenv import load_dotenv\n",
    "from supabase import create_client, Client\n",
    "from faker import Faker\n",
    "import faker_commerce\n",
    "\n",
    "\n",
    "def add_entries_to_vendor_table(supabase, vendor_count):\n",
    "    fake = Faker()\n",
    "    foreign_key_list = []\n",
    "    fake.add_provider(faker_commerce.Provider)\n",
    "    main_list = []\n",
    "    for i in range(vendor_count):\n",
    "        value = {'vendor_name': fake.company(), 'total_employees': fake.random_int(40, 169),\n",
    "                 'vendor_location': fake.country()}\n",
    "\n",
    "        main_list.append(value)\n",
    "    data = supabase.table('vendor2').insert(main_list).execute()\n",
    "    data_json = json.loads(data.json())\n",
    "    data_entries = data_json['data']\n",
    "    for i in range(len(data_entries)):\n",
    "        foreign_key_list.append(int(data_entries[i]['vendor_id']))\n",
    "    return foreign_key_list\n",
    "\n",
    "\n",
    "def add_entries_to_product_table(supabase, vendor_id):\n",
    "    fake = Faker()\n",
    "    fake.add_provider(faker_commerce.Provider)\n",
    "    main_list = []\n",
    "    iterator = fake.random_int(1, 15)\n",
    "    for i in range(iterator):\n",
    "        value = {'vendor_id': vendor_id, 'product_name': fake.ecommerce_name(),\n",
    "                 'inventory_count': fake.random_int(1, 100), 'price': fake.random_int(45, 100)}\n",
    "        main_list.append(value)\n",
    "    data = supabase.table('Product').insert(main_list).execute()\n",
    "\n",
    "\n",
    "def main():\n",
    "    vendor_count = 10\n",
    "    supabase: Client = create_client(key.SUPABASE_URL, key.SUPABASE_KEY)\n",
    "    fk_list = add_entries_to_vendor_table(supabase, vendor_count)\n",
    "    #for i in range(len(fk_list)):\n",
    "    #    add_entries_to_product_table(supabase, fk_list[i])\n",
    "\n",
    "\n",
    "main()\n"
   ]
  },
  {
   "cell_type": "code",
   "execution_count": 33,
   "id": "f8dd2496",
   "metadata": {},
   "outputs": [
    {
     "name": "stdout",
     "output_type": "stream",
     "text": [
      "Hello World: data='hello world' count=None\n",
      "Vendors: data=[{'vendor_id': 17, 'vendor_name': 'Mcbride-Daniels', 'vendor_location': 'Saint Martin', 'total_employees': 164, 'created_at': '2024-10-09T12:38:53.571458+00:00'}, {'vendor_id': 20, 'vendor_name': 'Cervantes Group', 'vendor_location': 'Turkey', 'total_employees': 166, 'created_at': '2024-10-09T12:38:53.571458+00:00'}, {'vendor_id': 24, 'vendor_name': 'Lopez LLC', 'vendor_location': 'France', 'total_employees': 163, 'created_at': '2024-10-09T12:49:41.538304+00:00'}, {'vendor_id': 25, 'vendor_name': 'Hart, Gonzalez and Martin', 'vendor_location': 'Andorra', 'total_employees': 163, 'created_at': '2024-10-09T12:49:41.538304+00:00'}, {'vendor_id': 52, 'vendor_name': 'Gilbert-Smith', 'vendor_location': 'Cocos (Keeling) Islands', 'total_employees': 167, 'created_at': '2024-10-09T12:57:38.891265+00:00'}, {'vendor_id': 77, 'vendor_name': 'Arias PLC', 'vendor_location': 'El Salvador', 'total_employees': 161, 'created_at': '2024-10-09T13:04:53.955608+00:00'}, {'vendor_id': 81, 'vendor_name': 'White and Sons', 'vendor_location': 'Nepal', 'total_employees': 165, 'created_at': '2024-10-09T13:04:53.955608+00:00'}] count=None\n"
     ]
    },
    {
     "data": {
      "text/plain": [
       "{'vendor_id': 17,\n",
       " 'vendor_name': 'Mcbride-Daniels',\n",
       " 'vendor_location': 'Saint Martin',\n",
       " 'total_employees': 164,\n",
       " 'created_at': '2024-10-09T12:38:53.571458+00:00'}"
      ]
     },
     "execution_count": 33,
     "metadata": {},
     "output_type": "execute_result"
    }
   ],
   "source": [
    "from supabase import create_client, Client\n",
    "\n",
    "supabase: Client = create_client(key.SUPABASE_URL, key.SUPABASE_KEY)\n",
    "\n",
    "data = supabase.rpc('hello_world').execute()\n",
    "print(\"Hello World:\", data)\n",
    "\n",
    "\n",
    "data = supabase.rpc('get_vendors').gt('total_employees', 160).execute()\n",
    "print(\"Vendors:\", data)\n",
    "vars(data)\n",
    "data.data[0]"
   ]
  }
 ],
 "metadata": {
  "kernelspec": {
   "display_name": "Python 3",
   "language": "python",
   "name": "python3"
  },
  "language_info": {
   "codemirror_mode": {
    "name": "ipython",
    "version": 3
   },
   "file_extension": ".py",
   "mimetype": "text/x-python",
   "name": "python",
   "nbconvert_exporter": "python",
   "pygments_lexer": "ipython3",
   "version": "3.11.9"
  }
 },
 "nbformat": 4,
 "nbformat_minor": 5
}
