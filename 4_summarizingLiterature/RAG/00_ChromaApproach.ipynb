{
 "cells": [
  {
   "cell_type": "markdown",
   "id": "745eb47a",
   "metadata": {},
   "source": [
    "# Data Indexing, Data Retrieval and Generation\n",
    "\n",
    "There are two central steps involved:\n",
    "\n",
    "\n",
    "**Data Indexing:**\n",
    "1. Documents are loaded and split into smaller text chunks.\n",
    "2. Text chunks are converted into vector embeddings and stored in a vector database (Vector DB) next to their respective text chunks.\n",
    "\n",
    "**Data Retrieval and Generation:**\n",
    "1. A user query is embedded and used to retrieve relevant text chunks from the Vector DB.\n",
    "2. Retrieved chunks are processed by a large language model (LLM) to generate a contextually relevant response.\n",
    "\n",
    "\n",
    "\n",
    "*** \n",
    "**Background information**\n",
    "\n",
    "* ...\n",
    "\n",
    "\n",
    "***\n",
    "**Coding sources**\n",
    "\n",
    "\n",
    "\n",
    "## Get API, local supabase server key(s)"
   ]
  },
  {
   "cell_type": "code",
   "execution_count": 1,
   "id": "2f150b66",
   "metadata": {},
   "outputs": [],
   "source": [
    "import os\n",
    "import sys\n",
    "\n",
    "# Assuming 'src' is one level down (in the current directory or a subdirectory)\n",
    "path_to_src = os.path.join('../..','src')  # Moves one level down to 'src' folder\n",
    "\n",
    "# Add the path to sys.path\n",
    "sys.path.append(path_to_src)\n",
    "\n",
    "# Now you can import your API_key module\n",
    "import API_key as key"
   ]
  },
  {
   "cell_type": "markdown",
   "id": "1f770440",
   "metadata": {},
   "source": [
    "## include self-written functions"
   ]
  },
  {
   "cell_type": "code",
   "execution_count": 2,
   "id": "bf4eadab",
   "metadata": {},
   "outputs": [],
   "source": [
    "import src.forChromaApproach as di_drg"
   ]
  },
  {
   "cell_type": "code",
   "execution_count": 3,
   "id": "bcb2d8bc",
   "metadata": {},
   "outputs": [
    {
     "name": "stdout",
     "output_type": "stream",
     "text": [
      "Current working directory: c:\\DATEN\\PHD\\WORKSHOPS\\introductory workshop in LLMs\\4_summarizingLiterature\\RAG\n"
     ]
    }
   ],
   "source": [
    "# Print the current working directory\n",
    "print(\"Current working directory:\", os.getcwd())"
   ]
  },
  {
   "cell_type": "markdown",
   "id": "5ce202d6",
   "metadata": {},
   "source": [
    "# Data Indexing\n",
    "## Data Preperation: Documents are loaded and split into smaller text chunks"
   ]
  },
  {
   "cell_type": "markdown",
   "id": "f5dbd003",
   "metadata": {},
   "source": [
    "**load_pdfs_by_filename**: Loads and stores PDF pages by filename:"
   ]
  },
  {
   "cell_type": "code",
   "execution_count": 4,
   "id": "81e9dcb8",
   "metadata": {},
   "outputs": [
    {
     "name": "stderr",
     "output_type": "stream",
     "text": [
      "Ignoring wrong pointing object 110 0 (offset 0)\n",
      "Ignoring wrong pointing object 244 0 (offset 0)\n",
      "Ignoring wrong pointing object 12 0 (offset 0)\n",
      "Ignoring wrong pointing object 1319 0 (offset 0)\n",
      "Ignoring wrong pointing object 9 0 (offset 0)\n",
      "Ignoring wrong pointing object 13 0 (offset 0)\n",
      "Ignoring wrong pointing object 44 0 (offset 0)\n",
      "Ignoring wrong pointing object 134 0 (offset 0)\n",
      "Ignoring wrong pointing object 118 0 (offset 0)\n",
      "Ignoring wrong pointing object 438 0 (offset 0)\n",
      "Ignoring wrong pointing object 41 0 (offset 0)\n",
      "Ignoring wrong pointing object 52 0 (offset 0)\n",
      "Ignoring wrong pointing object 9 0 (offset 0)\n",
      "Ignoring wrong pointing object 15 0 (offset 0)\n",
      "Ignoring wrong pointing object 199 0 (offset 0)\n",
      "Ignoring wrong pointing object 331 0 (offset 0)\n",
      "Ignoring wrong pointing object 9 0 (offset 0)\n",
      "Ignoring wrong pointing object 16 0 (offset 0)\n",
      "Ignoring wrong pointing object 150 0 (offset 0)\n",
      "Ignoring wrong pointing object 232 0 (offset 0)\n",
      "Ignoring wrong pointing object 9 0 (offset 0)\n",
      "Ignoring wrong pointing object 16 0 (offset 0)\n",
      "Ignoring wrong pointing object 135 0 (offset 0)\n",
      "Ignoring wrong pointing object 40 0 (offset 0)\n",
      "Ignoring wrong pointing object 68 0 (offset 0)\n",
      "Ignoring wrong pointing object 9 0 (offset 0)\n",
      "Ignoring wrong pointing object 12 0 (offset 0)\n",
      "Ignoring wrong pointing object 16 0 (offset 0)\n",
      "Ignoring wrong pointing object 50 0 (offset 0)\n",
      "Ignoring wrong pointing object 2 65536 (offset 0)\n",
      "Ignoring wrong pointing object 12 65536 (offset 0)\n",
      "Ignoring wrong pointing object 41 65536 (offset 0)\n",
      "Ignoring wrong pointing object 45 65536 (offset 0)\n",
      "Ignoring wrong pointing object 49 65536 (offset 0)\n",
      "Ignoring wrong pointing object 53 65536 (offset 0)\n",
      "Ignoring wrong pointing object 57 65536 (offset 0)\n",
      "Ignoring wrong pointing object 61 65536 (offset 0)\n",
      "Ignoring wrong pointing object 65 65536 (offset 0)\n",
      "Ignoring wrong pointing object 69 65536 (offset 0)\n",
      "Ignoring wrong pointing object 73 65536 (offset 0)\n",
      "Ignoring wrong pointing object 77 65536 (offset 0)\n",
      "Ignoring wrong pointing object 81 65536 (offset 0)\n",
      "Ignoring wrong pointing object 85 65536 (offset 0)\n",
      "Ignoring wrong pointing object 89 65536 (offset 0)\n",
      "Ignoring wrong pointing object 93 65536 (offset 0)\n",
      "Ignoring wrong pointing object 97 65536 (offset 0)\n",
      "Ignoring wrong pointing object 101 65536 (offset 0)\n",
      "Ignoring wrong pointing object 105 65536 (offset 0)\n",
      "Ignoring wrong pointing object 109 65536 (offset 0)\n",
      "Ignoring wrong pointing object 6 0 (offset 0)\n",
      "Ignoring wrong pointing object 8 0 (offset 0)\n",
      "Ignoring wrong pointing object 10 0 (offset 0)\n",
      "Ignoring wrong pointing object 12 0 (offset 0)\n",
      "Ignoring wrong pointing object 14 0 (offset 0)\n",
      "Ignoring wrong pointing object 16 0 (offset 0)\n",
      "Ignoring wrong pointing object 18 0 (offset 0)\n",
      "Ignoring wrong pointing object 27 0 (offset 0)\n",
      "Ignoring wrong pointing object 29 0 (offset 0)\n",
      "Ignoring wrong pointing object 43 0 (offset 0)\n",
      "Ignoring wrong pointing object 45 0 (offset 0)\n",
      "Ignoring wrong pointing object 47 0 (offset 0)\n",
      "Ignoring wrong pointing object 49 0 (offset 0)\n",
      "Ignoring wrong pointing object 51 0 (offset 0)\n",
      "Ignoring wrong pointing object 69 0 (offset 0)\n",
      "Ignoring wrong pointing object 71 0 (offset 0)\n",
      "Ignoring wrong pointing object 153 0 (offset 0)\n"
     ]
    },
    {
     "name": "stdout",
     "output_type": "stream",
     "text": [
      "\n",
      "PDF: 10.1002_sd.2048.pdf\n",
      "Total Pages: 14\n",
      "\n",
      "PDF: 10.1007_s00146-023-01650-z.pdf\n",
      "Total Pages: 8\n",
      "\n",
      "PDF: 10.1007_s10506-017-9206-9.pdf\n",
      "Total Pages: 15\n",
      "\n",
      "PDF: 10.1007_s11077-022-09452-8.pdf\n",
      "Total Pages: 23\n",
      "\n",
      "PDF: 10.1007_s11569-024-00454-9.pdf\n",
      "Total Pages: 29\n",
      "\n",
      "PDF: 10.1007_s40804-020-00200-0.pdf\n",
      "Total Pages: 27\n",
      "\n",
      "PDF: 10.1017_err.2019.8.pdf\n",
      "Total Pages: 19\n",
      "\n",
      "PDF: 10.1017_err.2021.52.pdf\n",
      "Total Pages: 25\n",
      "\n",
      "PDF: 10.1017_err.2022.14.pdf\n",
      "Total Pages: 16\n",
      "\n",
      "PDF: 10.1017_err.2023.1.pdf\n",
      "Total Pages: 19\n",
      "\n",
      "PDF: 10.1080_13600834.2018.1488659.pdf\n",
      "Total Pages: 19\n",
      "\n",
      "PDF: 10.1080_13669877.2021.1957985.pdf\n",
      "Total Pages: 14\n",
      "\n",
      "PDF: 10.1111_bioe.13124.pdf\n",
      "Total Pages: 9\n",
      "\n",
      "PDF: 10.1111_rego.12512.pdf\n",
      "Total Pages: 30\n",
      "\n",
      "PDF: 10.1111_rego.12563.pdf\n",
      "Total Pages: 18\n",
      "\n",
      "PDF: 10.1111_rego.12568.pdf\n",
      "Total Pages: 22\n",
      "\n",
      "PDF: 10.1177_0266382120923962.pdf\n",
      "Total Pages: 9\n",
      "\n",
      "PDF: 10.1177_2053951719860542.pdf\n",
      "Total Pages: 14\n",
      "\n",
      "PDF: 10.1177_20539517211039493.pdf\n",
      "Total Pages: 5\n",
      "\n",
      "PDF: 10.14658_pupj-jelt-2021-2-2.pdf\n",
      "Total Pages: 20\n",
      "\n",
      "PDF: 10.2139_ssrn.2609777.pdf\n",
      "Total Pages: 49\n",
      "\n",
      "PDF: 10.2139_ssrn.3501410.pdf\n",
      "Total Pages: 26\n",
      "\n",
      "PDF: 10.24251_HICSS.2020.647.pdf\n",
      "Total Pages: 10\n",
      "\n",
      "PDF: 10.24251_HICSS.2021.664.pdf\n",
      "Total Pages: 10\n",
      "\n",
      "PDF: 10.2979_gls.2023.a886162.pdf\n",
      "Total Pages: 27\n",
      "\n",
      "PDF: 10.4324_9780429262081-19.pdf\n",
      "Total Pages: 17\n",
      "\n",
      "PDF: 10.48550_arXiv.2305.02231.pdf\n",
      "Total Pages: 30\n",
      "\n",
      "PDF: doi-10.1017_err.2022.38.pdf\n",
      "Total Pages: 13\n",
      "\n",
      "PDF: white house_AI.pdf\n",
      "Total Pages: 16\n"
     ]
    }
   ],
   "source": [
    "path_to_PDFs = os.path.join('PDFs/AIregulation')  # Moves one level up to 'PDFs' folder\n",
    "\n",
    "\n",
    "pdf_pages = di_drg.load_pdfs_by_filename(path_to_PDFs, verbose=False)\n",
    "\n",
    "# Optional: Print the loaded pages by filename\n",
    "for filename, pages in pdf_pages.items():\n",
    "    print(f\"\\nPDF: {filename}\")\n",
    "    print(f\"Total Pages: {len(pages)}\")\n",
    "    # print(pages[0])"
   ]
  },
  {
   "cell_type": "code",
   "execution_count": 5,
   "id": "c8630b63",
   "metadata": {},
   "outputs": [
    {
     "name": "stdout",
     "output_type": "stream",
     "text": [
      "first PDF of folder: 10.1002_sd.2048.pdf\n",
      "First Page: page_content='RESEARCH ARTICLE\n",
      "Governing Artificial Intelligence to benefit the UN Sustainable\n",
      "Development Goals\n",
      "Jon Truby\n",
      "Law & Development, College of Law, Qatar\n",
      "University, Doha, Qatar\n",
      "Correspondence\n",
      "Jon Truby, Centre for Law & Development,\n",
      "College of Law, Qatar University, PO BOX\n",
      "2713 Doha, Qatar.\n",
      "Email: jon.truby@qu.edu.qa\n",
      "Funding information\n",
      "Qatar National Research Fund, Grant/Award\n",
      "Number: NPRP 11S-1119-170016Abstract\n",
      "Big Tech's unregulated roll-out out of experimental AI poses risks to the achievement of\n",
      "the UN Sustainable Development Goals (SDGs), w ith particular vulnerability for develop-\n",
      "ing countries. The goal of financial inclusion is threatened by the imperfect and\n",
      "ungoverned design and implementation of AI decision-making software making important\n",
      "financial decisions affecting customers. Aut omated decision-makin ga l g o r i t h m sh a v ed i s -\n",
      "played evidence of bias, lack ethical gover nance, and limit transparency in the basis for\n",
      "their decisions, causing unfair outcomes and amplify unequal access to finance. Poverty\n",
      "reduction and sustainable development targets are risked by Big Tech's potential exploita-\n",
      "tion of developing countries by using AI to harvest data and profits. Stakeholder progress\n",
      "toward preventing financial crime and corruptio ni sf u r t h e rt h r e a t e n e db yp o t e n t i a lm i s u s e\n",
      "of AI. In the light of such risks, Big Tech's unscrupulous history means it cannot be trusted\n",
      "to operate without regulatory oversight. The a rticle proposes effective pre-emptive regu-\n",
      "latory options to minimize scenarios of AI dam aging the SDGs. It explores internationally\n",
      "accepted principles of AI gove rnance, and argues for their implementation as regulatory\n",
      "requirements governing AI developers and code rs, with compliance verified through algo-\n",
      "rithmic auditing. Furthermore, it argues t hat AI governance frameworks must require a\n",
      "benefit to the SDGs. The article argues that proactively predicting such problems can\n",
      "enable continued AI innovation through well- designed regulations adhering to interna-\n",
      "tional principles. It highlights risks of unr egulated AI causing harm to human interests,\n",
      "where a public and regulatory backlash may re sult in over-regulation that could damage\n",
      "the otherwise beneficial development of AI.\n",
      "KEYWORDS\n",
      "Artificial intelligence, Big Tech, black box, financial inclusion, financial technology, regulation,\n",
      "SDGs, sustainable development, technology governance\n",
      "1|THE WILD WEST OF UNREGULATED\n",
      "EXPERIMENTAL AI\n",
      "1.1 |Unchecked development context\n",
      "The unchecked advancement of AI (Artificial Intelligence) risks\n",
      "diminishing progress toward the UN Sustainable Development Goals(SDGs) in a number of key target areas, and this risk is enhanced in\n",
      "the developing world (Vinuesa et al., 2020). Promising and feasible\n",
      "possibilities of AI-driven developmental progress are being over-\n",
      "shadowed by the current unfettered experimentation with untested\n",
      "AI technology in markets and societies. “Big Tech ”has proven beyond\n",
      "doubt that it cannot be trusted to self-regulate or adhere to voluntary\n",
      "standards, and in the absence of pre-emptive regulation, trust willReceived: 17 December 2019 Revised: 22 January 2020 Accepted: 5 February 2020\n",
      "DOI: 10.1002/sd.2048\n",
      "This is an open access article under the terms of the Creative Commons Attribution License, which permits use, distribution and reproduction in any me dium,\n",
      "provided the original work is properly cited.\n",
      "© 2020 The Authors. Sustainable Development published by ERP Environment and John Wiley & Sons Ltd\n",
      "946 Sustainable Development. 2020;28:946 –959. wileyonlinelibrary.com/journal/sd\n",
      "' metadata={'source': 'PDFs/AIregulation\\\\10.1002_sd.2048.pdf', 'page': 0} \n",
      "\n",
      "\n"
     ]
    }
   ],
   "source": [
    "# Assuming pdf_chunks is the dictionary containing chunks for each PDF\n",
    "first_key = list(pdf_pages.keys())[0]  # Get the first PDF filename\n",
    "print(\"first PDF of folder:\", first_key)\n",
    "first_pdf_pages = pdf_pages[first_key]  # Get the chunks for the first PDF\n",
    "\n",
    "\n",
    "# Print the first page\n",
    "print(\"First Page:\", first_pdf_pages[0], \"\\n\\n\")"
   ]
  },
  {
   "cell_type": "markdown",
   "id": "d04d581a",
   "metadata": {},
   "source": [
    "**split_pdf_pages_into_chunks**: Splits and stores PDF pages into chunks by filename:"
   ]
  },
  {
   "cell_type": "code",
   "execution_count": 6,
   "id": "63c2bf01",
   "metadata": {},
   "outputs": [
    {
     "name": "stdout",
     "output_type": "stream",
     "text": [
      "\n",
      "PDF: 10.1002_sd.2048.pdf\n",
      "Total Chunks: 254\n",
      "\n",
      "PDF: 10.1007_s00146-023-01650-z.pdf\n",
      "Total Chunks: 136\n",
      "\n",
      "PDF: 10.1007_s10506-017-9206-9.pdf\n",
      "Total Chunks: 120\n",
      "\n",
      "PDF: 10.1007_s11077-022-09452-8.pdf\n",
      "Total Chunks: 256\n",
      "\n",
      "PDF: 10.1007_s11569-024-00454-9.pdf\n",
      "Total Chunks: 405\n",
      "\n",
      "PDF: 10.1007_s40804-020-00200-0.pdf\n",
      "Total Chunks: 248\n",
      "\n",
      "PDF: 10.1017_err.2019.8.pdf\n",
      "Total Chunks: 181\n",
      "\n",
      "PDF: 10.1017_err.2021.52.pdf\n",
      "Total Chunks: 285\n",
      "\n",
      "PDF: 10.1017_err.2022.14.pdf\n",
      "Total Chunks: 182\n",
      "\n",
      "PDF: 10.1017_err.2023.1.pdf\n",
      "Total Chunks: 241\n",
      "\n",
      "PDF: 10.1080_13600834.2018.1488659.pdf\n",
      "Total Chunks: 184\n",
      "\n",
      "PDF: 10.1080_13669877.2021.1957985.pdf\n",
      "Total Chunks: 161\n",
      "\n",
      "PDF: 10.1111_bioe.13124.pdf\n",
      "Total Chunks: 162\n",
      "\n",
      "PDF: 10.1111_rego.12512.pdf\n",
      "Total Chunks: 416\n",
      "\n",
      "PDF: 10.1111_rego.12563.pdf\n",
      "Total Chunks: 290\n",
      "\n",
      "PDF: 10.1111_rego.12568.pdf\n",
      "Total Chunks: 337\n",
      "\n",
      "PDF: 10.1177_0266382120923962.pdf\n",
      "Total Chunks: 116\n",
      "\n",
      "PDF: 10.1177_2053951719860542.pdf\n",
      "Total Chunks: 195\n",
      "\n",
      "PDF: 10.1177_20539517211039493.pdf\n",
      "Total Chunks: 66\n",
      "\n",
      "PDF: 10.14658_pupj-jelt-2021-2-2.pdf\n",
      "Total Chunks: 147\n",
      "\n",
      "PDF: 10.2139_ssrn.2609777.pdf\n",
      "Total Chunks: 424\n",
      "\n",
      "PDF: 10.2139_ssrn.3501410.pdf\n",
      "Total Chunks: 282\n",
      "\n",
      "PDF: 10.24251_HICSS.2020.647.pdf\n",
      "Total Chunks: 135\n",
      "\n",
      "PDF: 10.24251_HICSS.2021.664.pdf\n",
      "Total Chunks: 147\n",
      "\n",
      "PDF: 10.2979_gls.2023.a886162.pdf\n",
      "Total Chunks: 195\n",
      "\n",
      "PDF: 10.4324_9780429262081-19.pdf\n",
      "Total Chunks: 163\n",
      "\n",
      "PDF: 10.48550_arXiv.2305.02231.pdf\n",
      "Total Chunks: 496\n",
      "\n",
      "PDF: doi-10.1017_err.2022.38.pdf\n",
      "Total Chunks: 154\n",
      "\n",
      "PDF: white house_AI.pdf\n",
      "Total Chunks: 135\n"
     ]
    }
   ],
   "source": [
    "pdf_chunks = di_drg.split_pdf_pages_into_chunks(pdf_pages, chunk_size=500, chunk_overlap=150, verbose=False)\n",
    "\n",
    "# Optional: Print a summary of chunks created per PDF\n",
    "for filename, chunks in pdf_chunks.items():\n",
    "    print(f\"\\nPDF: {filename}\")\n",
    "    print(f\"Total Chunks: {len(chunks)}\")"
   ]
  },
  {
   "cell_type": "code",
   "execution_count": 7,
   "id": "fe313b08",
   "metadata": {},
   "outputs": [
    {
     "name": "stdout",
     "output_type": "stream",
     "text": [
      "first PDF of folder: 10.1002_sd.2048.pdf\n",
      "\n",
      "First Chunk: page_content='RESEARCH ARTICLE\n",
      "Governing Artificial Intelligence to benefit the UN Sustainable\n",
      "Development Goals\n",
      "Jon Truby\n",
      "Law & Development, College of Law, Qatar\n",
      "University, Doha, Qatar\n",
      "Correspondence\n",
      "Jon Truby, Centre for Law & Development,\n",
      "College of Law, Qatar University, PO BOX\n",
      "2713 Doha, Qatar.\n",
      "Email: jon.truby@qu.edu.qa\n",
      "Funding information\n",
      "Qatar National Research Fund, Grant/Award\n",
      "Number: NPRP 11S-1119-170016Abstract' metadata={'source': 'PDFs/AIregulation\\\\10.1002_sd.2048.pdf', 'page': 0} \n",
      "\n",
      "\n",
      "Second Chunk: page_content='2713 Doha, Qatar.\n",
      "Email: jon.truby@qu.edu.qa\n",
      "Funding information\n",
      "Qatar National Research Fund, Grant/Award\n",
      "Number: NPRP 11S-1119-170016Abstract\n",
      "Big Tech's unregulated roll-out out of experimental AI poses risks to the achievement of\n",
      "the UN Sustainable Development Goals (SDGs), w ith particular vulnerability for develop-\n",
      "ing countries. The goal of financial inclusion is threatened by the imperfect and\n",
      "ungoverned design and implementation of AI decision-making software making important' metadata={'source': 'PDFs/AIregulation\\\\10.1002_sd.2048.pdf', 'page': 0}\n"
     ]
    }
   ],
   "source": [
    "# Assuming pdf_chunks is the dictionary containing chunks for each PDF\n",
    "first_key = list(pdf_chunks.keys())[0]  # Get the first PDF filename\n",
    "print(\"first PDF of folder:\", first_key)\n",
    "first_pdf_chunks = pdf_chunks[first_key]  # Get the chunks for the first PDF\n",
    "\n",
    "# Access the first and second chunks\n",
    "first_chunk = first_pdf_chunks[0]\n",
    "second_chunk = first_pdf_chunks[1]\n",
    "\n",
    "# Print the first two chunks\n",
    "print(\"\\nFirst Chunk:\", first_chunk, \"\\n\\n\")\n",
    "print(\"Second Chunk:\", second_chunk)"
   ]
  },
  {
   "cell_type": "code",
   "execution_count": 8,
   "id": "506bbb83",
   "metadata": {},
   "outputs": [
    {
     "name": "stdout",
     "output_type": "stream",
     "text": [
      "page content: RESEARCH ARTICLE\n",
      "Governing Artificial Intelligence to benefit the UN Sustainable\n",
      "Development Goals\n",
      "Jon Truby\n",
      "Law & Development, College of Law, Qatar\n",
      "University, Doha, Qatar\n",
      "Correspondence\n",
      "Jon Truby, Centre for Law & Development,\n",
      "College of Law, Qatar University, PO BOX\n",
      "2713 Doha, Qatar.\n",
      "Email: jon.truby@qu.edu.qa\n",
      "Funding information\n",
      "Qatar National Research Fund, Grant/Award\n",
      "Number: NPRP 11S-1119-170016Abstract \n",
      "\n",
      "\n",
      "metadata: {'source': 'PDFs/AIregulation\\\\10.1002_sd.2048.pdf', 'page': 0}\n"
     ]
    }
   ],
   "source": [
    "print(\"page content:\", first_chunk.page_content, \"\\n\\n\")\n",
    "print(\"metadata:\", first_chunk.metadata)"
   ]
  },
  {
   "cell_type": "markdown",
   "id": "e7c4ca22",
   "metadata": {},
   "source": [
    "## Data Storage: Text chunks are converted into vector embeddings and stored in a vector database (Vector DB) next to their respective text chunks."
   ]
  },
  {
   "cell_type": "code",
   "execution_count": 9,
   "id": "acaaa689",
   "metadata": {},
   "outputs": [
    {
     "name": "stdout",
     "output_type": "stream",
     "text": [
      "Number of sources in DB: 29\n",
      "\n",
      "Sources:\n",
      " ['PDFs/AIregulation\\\\doi-10.1017_err.2022.38.pdf', 'PDFs/AIregulation\\\\10.24251_HICSS.2020.647.pdf', 'PDFs/AIregulation\\\\10.2139_ssrn.3501410.pdf', 'PDFs/AIregulation\\\\10.2979_gls.2023.a886162.pdf', 'PDFs/AIregulation\\\\10.1111_rego.12563.pdf', 'PDFs/AIregulation\\\\10.1017_err.2022.14.pdf', 'PDFs/AIregulation\\\\white house_AI.pdf', 'PDFs/AIregulation\\\\10.2139_ssrn.2609777.pdf', 'PDFs/AIregulation\\\\10.1007_s40804-020-00200-0.pdf', 'PDFs/AIregulation\\\\10.4324_9780429262081-19.pdf', 'PDFs/AIregulation\\\\10.48550_arXiv.2305.02231.pdf', 'PDFs/AIregulation\\\\10.1177_0266382120923962.pdf', 'PDFs/AIregulation\\\\10.1017_err.2023.1.pdf', 'PDFs/AIregulation\\\\10.1177_20539517211039493.pdf', 'PDFs/AIregulation\\\\10.1111_rego.12568.pdf', 'PDFs/AIregulation\\\\10.1007_s11077-022-09452-8.pdf', 'PDFs/AIregulation\\\\10.1007_s11569-024-00454-9.pdf', 'PDFs\\\\10.1007_s10506-017-9206-9.pdf', 'PDFs/AIregulation\\\\10.1111_bioe.13124.pdf', 'PDFs/AIregulation\\\\10.24251_HICSS.2021.664.pdf', 'PDFs\\\\10.1007_s00146-023-01650-z.pdf', 'PDFs/AIregulation\\\\10.1017_err.2019.8.pdf', 'PDFs/AIregulation\\\\10.14658_pupj-jelt-2021-2-2.pdf', 'PDFs/AIregulation\\\\10.1017_err.2021.52.pdf', 'PDFs/AIregulation\\\\10.1080_13600834.2018.1488659.pdf', 'PDFs/AIregulation\\\\10.1111_rego.12512.pdf', 'PDFs/AIregulation\\\\10.1080_13669877.2021.1957985.pdf', 'PDFs/AIregulation\\\\10.1002_sd.2048.pdf', 'PDFs/AIregulation\\\\10.1177_2053951719860542.pdf']\n",
      "\n",
      "Cleaned sources:\n",
      " ['doi-10.1017_err.2022.38.pdf', '10.24251_HICSS.2020.647.pdf', '10.2139_ssrn.3501410.pdf', '10.2979_gls.2023.a886162.pdf', '10.1111_rego.12563.pdf', '10.1017_err.2022.14.pdf', 'white house_AI.pdf', '10.2139_ssrn.2609777.pdf', '10.1007_s40804-020-00200-0.pdf', '10.4324_9780429262081-19.pdf', '10.48550_arXiv.2305.02231.pdf', '10.1177_0266382120923962.pdf', '10.1017_err.2023.1.pdf', '10.1177_20539517211039493.pdf', '10.1111_rego.12568.pdf', '10.1007_s11077-022-09452-8.pdf', '10.1007_s11569-024-00454-9.pdf', '10.1007_s10506-017-9206-9.pdf', '10.1111_bioe.13124.pdf', '10.24251_HICSS.2021.664.pdf', '10.1007_s00146-023-01650-z.pdf', '10.1017_err.2019.8.pdf', '10.14658_pupj-jelt-2021-2-2.pdf', '10.1017_err.2021.52.pdf', '10.1080_13600834.2018.1488659.pdf', '10.1111_rego.12512.pdf', '10.1080_13669877.2021.1957985.pdf', '10.1002_sd.2048.pdf', '10.1177_2053951719860542.pdf']\n"
     ]
    }
   ],
   "source": [
    "path_to_Chroma = os.path.join('DB_Chroma')  # Moves one level up to 'PDFs' folder\n",
    "\n",
    "sources_DB = di_drg.inspect_chrom(CHROMA_PATH=path_to_Chroma, openAI_key=key.openAI_key)\n",
    "print(\"Number of sources in DB:\", len(sources_DB))\n",
    "print(\"\\nSources:\\n\", sources_DB)\n",
    "\n",
    "# Remove the \"PDFs\\\\\" prefix from all entries\n",
    "cleaned_sources_DB = [pdf.replace('PDFs\\\\', '').replace('PDFs/AIregulation\\\\', '') for pdf in sources_DB]\n",
    "\n",
    "# Print the result\n",
    "print(\"\\nCleaned sources:\\n\", cleaned_sources_DB)"
   ]
  },
  {
   "cell_type": "code",
   "execution_count": 10,
   "id": "fdc9dc99",
   "metadata": {},
   "outputs": [],
   "source": [
    "# if you want to remove your DB:\n",
    "## di_drg.remove_chrom(CHROMA_PATH=path_to_Chroma)\n",
    "\n",
    "# pdf_chunks is a dictionary as such we can run over the keys:\n",
    "for pdf in pdf_chunks.keys():\n",
    "    if pdf not in cleaned_sources_DB:\n",
    "        print(f\"The PDF '{pdf}' is not included in the DB, as such:\")\n",
    "        print(\"create DB for\", pdf)\n",
    "        di_drg.save_to_chrom(chunks=pdf_chunks[pdf], CHROMA_PATH=path_to_Chroma, openAI_key=key.openAI_key)"
   ]
  },
  {
   "cell_type": "code",
   "execution_count": 11,
   "id": "ecd7dba6",
   "metadata": {},
   "outputs": [
    {
     "name": "stdout",
     "output_type": "stream",
     "text": [
      "Number of sources in DB: 29\n",
      "\n",
      "Sources:\n",
      " ['PDFs/AIregulation\\\\doi-10.1017_err.2022.38.pdf', 'PDFs/AIregulation\\\\10.24251_HICSS.2020.647.pdf', 'PDFs/AIregulation\\\\10.2139_ssrn.3501410.pdf', 'PDFs/AIregulation\\\\10.2979_gls.2023.a886162.pdf', 'PDFs/AIregulation\\\\10.1111_rego.12563.pdf', 'PDFs/AIregulation\\\\10.1017_err.2022.14.pdf', 'PDFs/AIregulation\\\\white house_AI.pdf', 'PDFs/AIregulation\\\\10.2139_ssrn.2609777.pdf', 'PDFs/AIregulation\\\\10.1007_s40804-020-00200-0.pdf', 'PDFs/AIregulation\\\\10.4324_9780429262081-19.pdf', 'PDFs/AIregulation\\\\10.48550_arXiv.2305.02231.pdf', 'PDFs/AIregulation\\\\10.1177_0266382120923962.pdf', 'PDFs/AIregulation\\\\10.1017_err.2023.1.pdf', 'PDFs/AIregulation\\\\10.1177_20539517211039493.pdf', 'PDFs/AIregulation\\\\10.1111_rego.12568.pdf', 'PDFs/AIregulation\\\\10.1007_s11077-022-09452-8.pdf', 'PDFs/AIregulation\\\\10.1007_s11569-024-00454-9.pdf', 'PDFs\\\\10.1007_s10506-017-9206-9.pdf', 'PDFs/AIregulation\\\\10.1111_bioe.13124.pdf', 'PDFs/AIregulation\\\\10.24251_HICSS.2021.664.pdf', 'PDFs\\\\10.1007_s00146-023-01650-z.pdf', 'PDFs/AIregulation\\\\10.1017_err.2019.8.pdf', 'PDFs/AIregulation\\\\10.14658_pupj-jelt-2021-2-2.pdf', 'PDFs/AIregulation\\\\10.1017_err.2021.52.pdf', 'PDFs/AIregulation\\\\10.1080_13600834.2018.1488659.pdf', 'PDFs/AIregulation\\\\10.1111_rego.12512.pdf', 'PDFs/AIregulation\\\\10.1080_13669877.2021.1957985.pdf', 'PDFs/AIregulation\\\\10.1002_sd.2048.pdf', 'PDFs/AIregulation\\\\10.1177_2053951719860542.pdf']\n"
     ]
    }
   ],
   "source": [
    "sources_DB = di_drg.inspect_chrom(CHROMA_PATH=path_to_Chroma, openAI_key=key.openAI_key)\n",
    "print(\"Number of sources in DB:\", len(sources_DB))\n",
    "print(\"\\nSources:\\n\", sources_DB)"
   ]
  },
  {
   "cell_type": "markdown",
   "id": "903c1316",
   "metadata": {},
   "source": [
    "# Data Retrieval and Generation\n",
    "\n",
    "your prompt template (system message):"
   ]
  },
  {
   "cell_type": "code",
   "execution_count": 12,
   "id": "7405d596",
   "metadata": {},
   "outputs": [],
   "source": [
    "PROMPT_TEMPLATE = \"\"\"\n",
    "Answer the question based only on the following context:\n",
    "\n",
    "{context}\n",
    "\n",
    "---\n",
    "\n",
    "Answer the question based on the above context: {question}\n",
    "\"\"\""
   ]
  },
  {
   "cell_type": "markdown",
   "id": "50119e02",
   "metadata": {},
   "source": [
    "your question (user message):"
   ]
  },
  {
   "cell_type": "code",
   "execution_count": 13,
   "id": "0f5db8de",
   "metadata": {},
   "outputs": [],
   "source": [
    "# Question you ask to your DB:\n",
    "question = \"\"\"\n",
    "Why is it important to study laypersons' perceptions of AI regulation, especially focusing on their trust levels, perceived benefits and risks, and how these perceptions impact the successful integration of AI into society? Please discuss how understanding public perceptions can inform regulatory approaches, enhance public trust, and address potential risks and benefits for society.\n",
    "\"\"\""
   ]
  },
  {
   "cell_type": "markdown",
   "id": "bbd9edde",
   "metadata": {},
   "source": [
    "retrieve data (see \"source_page_pairs\" and \"hits\") and generate response (see \"response\"):"
   ]
  },
  {
   "cell_type": "code",
   "execution_count": 14,
   "id": "615f638c",
   "metadata": {},
   "outputs": [
    {
     "name": "stdout",
     "output_type": "stream",
     "text": [
      "Number of possible relevant text chunks found with a threshold similarity of 0.8: 88\n",
      "Query: Human: \n",
      "Answer the question based only on the following context:\n",
      "\n",
      "attempt to signal the trustworthiness of AI through its pro-\n",
      "posed regulation: the uncertainty about the antecedents of\n",
      "perceivedtrustinpublicinstitutionsthatutilizeAI;thethreat\n",
      "of misalignment between trustworthiness and degrees of\n",
      "N. Díaz-Rodríguez, J. Del Ser et al.: Preprint submitted to Elsevier Page 25 of 30\n",
      "\n",
      "---\n",
      "\n",
      "work suggesting that “a clear regulatory framework would build trust among consumers and \n",
      "businesses in AI, and therefore speed up the uptake of the technology” (European Commission, \n",
      "2020a: 9-10). For this regulatory framework, the Commission proposes ‘a risk-based approach’ \n",
      "that would strike a balance between being “effective to achieve its objectives while not being \n",
      "excessively prescriptive so that it could create a disproportionate burden” (European Commis-\n",
      "\n",
      "---\n",
      "\n",
      "As regards the AI Act, this raises the question of who is going to be the primary user of AI in public institutions\n",
      "(see Section 2.2). Technology which public servants perceive as useful and user-friendly may not be perceives as\n",
      "such by citizens.\n",
      "4.3.4. Political economy\n",
      "Lastly, the political economy of AI was also considered in the reviewed empirical literature. In a survey on US-\n",
      "American residents, Zhang and Dafoe ﬁnd that Americans have only low to moderate levels of trust in govern-\n",
      "\n",
      "---\n",
      "\n",
      "AI. We differentiate between normative and empirical research as well as between subject, objects, and roles of\n",
      "trust. Section 4then uses those variables as a structure for a narrative review of prior research on trust and trust-\n",
      "worthiness in AI in the public sector. We identify common themes in the reviewed literature and re ﬂect on the\n",
      "heterogeneity of the ﬁeld and, thus, the many ways in which trust in AI can be de ﬁned, measured, incentivized,\n",
      "and governed.\n",
      "\n",
      "---\n",
      "\n",
      "et al., 2002 , p. 2425).\n",
      "For the AI Act as a piece of risk regulation which aims to foster trust in AI, both causal relationships hold\n",
      "important implications. First, if trust in institutions determines the acceptability of AI ’s risks, then the AI Act\n",
      "itself needs to be trusted to be successful. Second, if the perceived acceptability of risk determines trust, then the\n",
      "actual outcomes of AI and citizens ’broader attitude toward the technology will be crucial. Note that citizens ’per-\n",
      "\n",
      "---\n",
      "\n",
      "to grasp those impacts, we are also still struggling to understand how regulation – in its broadest sense – can help us deal therewith and what its effects will be. In its policy recommendations, the European Commission’s High-Level Expert Group on AI described it as follows: ‘[…] little evidence is available to inform policy-making, due to the novelty of the technology, the lack of thorough and systematic understanding of its impacts and associated business models, and the unpredictability of\n",
      "\n",
      "---\n",
      "\n",
      "University of Queensland  \n",
      "i.asadi @business.uq.edu.au\n",
      "Abstract  \n",
      "Artificial Intelligence (AI) can benefit society, but it \n",
      "is also fraught with risks. Societal adoption of AI is \n",
      "recognized to depend on stakeholder trust in AI, yet \n",
      "the literature on trust in AI is fragmented, and little is \n",
      "known about the vulnerabilities faced by di fferent \n",
      "stakeholders , making it is difficult to draw on this \n",
      "evidence -base to inform practice and policy. We\n",
      "\n",
      "---\n",
      "\n",
      "thus needed.\n",
      "Finally, the AI Act ’s conceptual con ﬂation conceals the need for trustworthy institutions to successfully engineer\n",
      "citizens ’trust in AI. Take the knowledge asymmetries between AI experts and layperson citizens as an example.\n",
      "Average citizens ’lack of understanding how AI systems work may motivate risk regulation which relies heavily on\n",
      "expert judgments, although the broader literature on risk regulation has been debating the paternalistic ﬂavor of this\n",
      "\n",
      "---\n",
      "\n",
      "adequacy of AI regulation and governance to be the\n",
      "strongest predictor of trust in AI systems [ 94]. It may\n",
      "be more important and ef ficient  to make AI systems\n",
      "verifiably trustworthy via appropriate governance\n",
      "rather than seek explanations for specific outcomes\n",
      "[45]. Governance that  encourages collaboration\n",
      "among key stakeholders , supports the recognition and\n",
      "removal of bia s, and clarifies  the appropriate control\n",
      "over and use of personal information has been\n",
      "\n",
      "---\n",
      "\n",
      "currentmovementsaroundaninternationalregulationand\n",
      "our positioning based on the previous analyses.\n",
      "By bridging the gap from theory (AI Principles, Ethics,\n",
      "andKeyRequirements)topractice(ResponsibleAISystems\n",
      "and Regulation), our holistic view offered in this work aims\n",
      "to ultimately highlight the importance of all these elements\n",
      "in the development and integration of human-centered AI-\n",
      "based systems into the everyday life of humans, in a natural\n",
      "and sustainable way.\n",
      "\n",
      "---\n",
      "\n",
      "Answer the question based on the above context: \n",
      "Why is it important to study laypersons' perceptions of AI regulation, especially focusing on their trust levels, perceived benefits and risks, and how these perceptions impact the successful integration of AI into society? Please discuss how understanding public perceptions can inform regulatory approaches, enhance public trust, and address potential risks and benefits for society.\n",
      "\n",
      " \n",
      "\n",
      "\n"
     ]
    },
    {
     "name": "stderr",
     "output_type": "stream",
     "text": [
      "c:\\DATEN\\PHD\\WORKSHOPS\\introductory workshop in LLMs\\4_summarizingLiterature\\RAG\\src\\forChromaApproach.py:147: LangChainDeprecationWarning: The method `BaseChatModel.predict` was deprecated in langchain-core 0.1.7 and will be removed in 1.0. Use :meth:`~invoke` instead.\n",
      "  response_text = model.predict(prompt)\n"
     ]
    }
   ],
   "source": [
    "response, source_page_pairs, filtered_hits, all_hits = di_drg.retrieveGenerate(query_text=question, prompt_template=PROMPT_TEMPLATE, openAI_key=key.openAI_key, chroma_path=path_to_Chroma, \n",
    "                                                                            docsReturn=10, thresholdSimilarity=0.8)"
   ]
  },
  {
   "cell_type": "code",
   "execution_count": 16,
   "id": "5169621f",
   "metadata": {},
   "outputs": [
    {
     "name": "stdout",
     "output_type": "stream",
     "text": [
      "Studying laypersons' perceptions of AI regulation is crucial because their trust levels, perceived benefits, and risks directly impact the successful integration of AI into society. Understanding public perceptions can inform regulatory approaches by identifying areas of concern or mistrust that need to be addressed. By taking into account public opinions and concerns, regulatory frameworks can be designed to enhance public trust in AI systems.\n",
      "\n",
      "Additionally, studying public perceptions can help in addressing potential risks and benefits for society. By understanding how the general public perceives AI technology, regulators can implement measures to mitigate risks such as bias, privacy concerns, and potential misuse of AI systems. On the other hand, by highlighting the benefits of AI technology to the public, regulators can promote the adoption of AI in various sectors.\n",
      "\n",
      "Overall, studying laypersons' perceptions of AI regulation is essential for creating a regulatory framework that is transparent, trustworthy, and aligned with the needs and expectations of society. This approach can ultimately lead to the successful integration of AI into everyday life in a way that is natural and sustainable.\n",
      "[('PDFs/AIregulation\\\\10.48550_arXiv.2305.02231.pdf', 24), ('PDFs/AIregulation\\\\10.4324_9780429262081-19.pdf', 11), ('PDFs/AIregulation\\\\10.1111_rego.12512.pdf', 21), ('PDFs/AIregulation\\\\10.1111_rego.12512.pdf', 2), ('PDFs/AIregulation\\\\10.1111_rego.12512.pdf', 4), ('PDFs/AIregulation\\\\10.2139_ssrn.3501410.pdf', 22), ('PDFs/AIregulation\\\\10.24251_HICSS.2021.664.pdf', 0), ('PDFs/AIregulation\\\\10.1111_rego.12512.pdf', 25), ('PDFs/AIregulation\\\\10.24251_HICSS.2021.664.pdf', 4), ('PDFs/AIregulation\\\\10.48550_arXiv.2305.02231.pdf', 1)]\n"
     ]
    }
   ],
   "source": [
    "print(response)\n",
    "print(source_page_pairs)"
   ]
  },
  {
   "cell_type": "code",
   "execution_count": 17,
   "id": "63242315",
   "metadata": {},
   "outputs": [
    {
     "name": "stdout",
     "output_type": "stream",
     "text": [
      "88\n",
      "(Document(metadata={'page': 2, 'source': 'PDFs/AIregulation\\\\white house_AI.pdf'}, page_content=\"significantly on public trust and validation, the government's regulatory and non-regulatory \\napproaches to AI should contribute to public trust in AI by promoting reliable, robust, and \\ntrustworthy AI applications. For example, an appropriate regulatory approach that reduces \\naccidents can increase public trust and thereby support the development of industries powered by \\nAI. Regulatory approaches may also be needed to protect reasonable expectations of privacy on\"), 0.8372320426012777)\n"
     ]
    }
   ],
   "source": [
    "print(len(all_hits))\n",
    "print(all_hits[0])"
   ]
  },
  {
   "cell_type": "markdown",
   "id": "90cb6148",
   "metadata": {},
   "source": [
    "## it is possible to further investiagte the results of a single run:"
   ]
  },
  {
   "cell_type": "code",
   "execution_count": 18,
   "id": "31f440b8",
   "metadata": {},
   "outputs": [
    {
     "name": "stdout",
     "output_type": "stream",
     "text": [
      "['white house_AI.pdf', '10.1111_rego.12512.pdf', '10.1111_rego.12512.pdf', '10.1111_rego.12568.pdf', '10.1111_rego.12512.pdf', '10.1111_rego.12512.pdf', '10.1111_rego.12568.pdf', '10.1111_rego.12568.pdf', 'white house_AI.pdf', '10.1111_rego.12512.pdf', 'white house_AI.pdf', '10.1111_rego.12512.pdf', '10.1111_rego.12563.pdf', '10.1177_0266382120923962.pdf', '10.1111_rego.12568.pdf', '10.1111_rego.12512.pdf', '10.1111_rego.12512.pdf', '10.1111_rego.12512.pdf', '10.1111_rego.12512.pdf', '10.1111_rego.12512.pdf', '10.1080_13669877.2021.1957985.pdf', '10.1080_13669877.2021.1957985.pdf', 'doi-10.1017_err.2022.38.pdf', '10.1111_rego.12512.pdf', '10.24251_HICSS.2021.664.pdf', '10.2139_ssrn.3501410.pdf', '10.1080_13669877.2021.1957985.pdf', '10.1111_rego.12512.pdf', '10.2979_gls.2023.a886162.pdf', '10.24251_HICSS.2021.664.pdf', '10.1111_rego.12512.pdf', '10.1111_rego.12512.pdf', '10.1111_rego.12512.pdf', '10.24251_HICSS.2021.664.pdf', '10.1111_rego.12568.pdf', '10.2139_ssrn.3501410.pdf', '10.1111_rego.12512.pdf', '10.1111_rego.12563.pdf', '10.24251_HICSS.2021.664.pdf', '10.1111_rego.12512.pdf', '10.1111_rego.12512.pdf', '10.1007_s11569-024-00454-9.pdf', '10.1017_err.2021.52.pdf', '10.1111_rego.12512.pdf', '10.1111_rego.12512.pdf', '10.1111_rego.12512.pdf', '10.48550_arXiv.2305.02231.pdf', 'white house_AI.pdf', '10.1111_rego.12512.pdf', '10.2139_ssrn.3501410.pdf', '10.1111_rego.12512.pdf', '10.2139_ssrn.3501410.pdf', '10.1111_rego.12512.pdf', '10.48550_arXiv.2305.02231.pdf', '10.2139_ssrn.3501410.pdf', '10.2139_ssrn.3501410.pdf', '10.24251_HICSS.2021.664.pdf', 'white house_AI.pdf', '10.1111_rego.12512.pdf', '10.48550_arXiv.2305.02231.pdf', '10.1080_13669877.2021.1957985.pdf', '10.48550_arXiv.2305.02231.pdf', '10.48550_arXiv.2305.02231.pdf', '10.1111_rego.12512.pdf', '10.2139_ssrn.3501410.pdf', '10.1111_rego.12512.pdf', '10.1111_rego.12512.pdf', 'white house_AI.pdf', '10.1111_rego.12512.pdf', '10.1111_rego.12568.pdf', '10.2979_gls.2023.a886162.pdf', '10.2139_ssrn.3501410.pdf', '10.1111_rego.12512.pdf', '10.1111_rego.12512.pdf', '10.1111_rego.12512.pdf', '10.1111_rego.12512.pdf', '10.1111_rego.12568.pdf', '10.1111_rego.12563.pdf', '10.1111_rego.12568.pdf', '10.1111_rego.12512.pdf', '10.1111_rego.12563.pdf', '10.1111_rego.12568.pdf', '10.1080_13669877.2021.1957985.pdf', '10.1111_rego.12512.pdf', '10.4324_9780429262081-19.pdf', '10.24251_HICSS.2021.664.pdf', '10.24251_HICSS.2020.647.pdf', '10.1111_rego.12512.pdf']\n"
     ]
    }
   ],
   "source": [
    "# Initialize a list to store all sources\n",
    "sources = []\n",
    "\n",
    "# Loop through each tuple and extract the source\n",
    "for doc, score in all_hits:\n",
    "    source = doc.metadata.get('source')  # Access the 'source' key from the metadata\n",
    "    if source is not None:\n",
    "        sources.append(source)\n",
    "\n",
    "# Print the list of sources\n",
    "sources = [source.replace('PDFs\\\\', '').replace('PDFs/AIregulation\\\\', '') for source in sources]\n",
    "\n",
    "print(sources)"
   ]
  },
  {
   "cell_type": "code",
   "execution_count": 19,
   "id": "3225f211",
   "metadata": {},
   "outputs": [
    {
     "name": "stdout",
     "output_type": "stream",
     "text": [
      "                            File Name  Frequency  Chunk Length PDF  \\\n",
      "1              10.1111_rego.12512.pdf         37               416   \n",
      "0                  white house_AI.pdf          6               135   \n",
      "7         10.24251_HICSS.2021.664.pdf          6               147   \n",
      "5   10.1080_13669877.2021.1957985.pdf          5               161   \n",
      "8            10.2139_ssrn.3501410.pdf          8               282   \n",
      "2              10.1111_rego.12568.pdf          9               337   \n",
      "3              10.1111_rego.12563.pdf          4               290   \n",
      "9        10.2979_gls.2023.a886162.pdf          2               195   \n",
      "12      10.48550_arXiv.2305.02231.pdf          5               496   \n",
      "4        10.1177_0266382120923962.pdf          1               116   \n",
      "14        10.24251_HICSS.2020.647.pdf          1               135   \n",
      "6         doi-10.1017_err.2022.38.pdf          1               154   \n",
      "13       10.4324_9780429262081-19.pdf          1               163   \n",
      "11            10.1017_err.2021.52.pdf          1               285   \n",
      "10     10.1007_s11569-024-00454-9.pdf          1               405   \n",
      "\n",
      "    Chunk Percentage  \n",
      "1               8.89  \n",
      "0               4.44  \n",
      "7               4.08  \n",
      "5               3.11  \n",
      "8               2.84  \n",
      "2               2.67  \n",
      "3               1.38  \n",
      "9               1.03  \n",
      "12              1.01  \n",
      "4               0.86  \n",
      "14              0.74  \n",
      "6               0.65  \n",
      "13              0.61  \n",
      "11              0.35  \n",
      "10              0.25  \n"
     ]
    }
   ],
   "source": [
    "import pandas as pd\n",
    "from collections import Counter\n",
    "\n",
    "# Counting the frequency of each file\n",
    "file_count = Counter(sources)\n",
    "\n",
    "# Creating a DataFrame from the frequency count\n",
    "frequency_df = pd.DataFrame(file_count.items(), columns=['File Name', 'Frequency'])\n",
    "\n",
    "# Adding a new column for chunk lengths\n",
    "frequency_df[\"Chunk Length PDF\"] = 0\n",
    "\n",
    "# Loop through pdf_chunks and update the DataFrame\n",
    "for filename, chunks in pdf_chunks.items():\n",
    "    frequency_df.loc[frequency_df[\"File Name\"] == filename, \"Chunk Length PDF\"] = len(chunks)\n",
    "\n",
    "frequency_df[\"Chunk Percentage\"] = ((frequency_df[\"Frequency\"] / frequency_df[\"Chunk Length PDF\"]) * 100).round(2)\n",
    "\n",
    "frequency_df = frequency_df.sort_values(by=\"Chunk Percentage\", ascending=False)\n",
    "print(frequency_df)\n",
    "\n",
    "# Saving the DataFrame to an Excel file\n",
    "frequency_df.to_excel(\"outputs_ChromaApproach/file_frequency_table.xlsx\", index=False)"
   ]
  },
  {
   "cell_type": "markdown",
   "id": "96f95b74",
   "metadata": {},
   "source": [
    "## loop through"
   ]
  },
  {
   "cell_type": "code",
   "execution_count": 21,
   "id": "fcc6dc32",
   "metadata": {},
   "outputs": [
    {
     "name": "stdout",
     "output_type": "stream",
     "text": [
      "Number of possible relevant text chunks found with a threshold similarity of 0.8: 88\n",
      "                                        Response LLM  \\\n",
      "0  Studying laypersons' perceptions of AI regulat...   \n",
      "\n",
      "                                      Sources, Pages  \n",
      "0  [(PDFs/AIregulation\\10.24251_HICSS.2021.664.pd...  \n"
     ]
    }
   ],
   "source": [
    "# Initialize an empty list to store the results\n",
    "results = []\n",
    "\n",
    "# Run the function multiple times and store the outputs\n",
    "for _ in range(10):  # Replace 5 with the number of iterations you want to run\n",
    "    response, source_page_pairs, filtered_hits, all_hits = di_drg.retrieveGenerate(query_text=question, prompt_template=PROMPT_TEMPLATE, openAI_key=key.openAI_key, chroma_path=path_to_Chroma, \n",
    "                                                                            docsReturn=10, thresholdSimilarity=0.8)\n",
    "    results.append({\"Response LLM\": response, \"Sources, Pages\": source_page_pairs})\n",
    "\n",
    "# Convert the results list into a DataFrame\n",
    "df = pd.DataFrame(results)\n",
    "\n",
    "# Display the DataFrame\n",
    "print(df)\n",
    "\n",
    "# Saving the DataFrame to an Excel file\n",
    "df.to_excel(\"outputs_ChromaApproach/file_LLMs_calls2.xlsx\", index=False)"
   ]
  }
 ],
 "metadata": {
  "kernelspec": {
   "display_name": "Python 3",
   "language": "python",
   "name": "python3"
  },
  "language_info": {
   "codemirror_mode": {
    "name": "ipython",
    "version": 3
   },
   "file_extension": ".py",
   "mimetype": "text/x-python",
   "name": "python",
   "nbconvert_exporter": "python",
   "pygments_lexer": "ipython3",
   "version": "3.11.9"
  }
 },
 "nbformat": 4,
 "nbformat_minor": 5
}
