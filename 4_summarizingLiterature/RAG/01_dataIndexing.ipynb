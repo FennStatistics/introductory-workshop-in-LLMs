{
 "cells": [
  {
   "cell_type": "markdown",
   "id": "745eb47a",
   "metadata": {},
   "source": [
    "# Data Indexing\n",
    "\n",
    "There are two central steps involved:\n",
    "\n",
    "1. Documents are loaded and split into smaller text chunks.\n",
    "2. Text chunks are converted into vector embeddings and stored in a vector database (Vector DB) next to their respective text chunks.\n",
    "\n",
    "\n",
    "*** \n",
    "**Background information**\n",
    "\n",
    "* ...\n",
    "\n",
    "\n",
    "***\n",
    "**Coding sources**\n",
    "\n",
    "\n",
    "\n",
    "## Get API, local supabase server key(s)"
   ]
  },
  {
   "cell_type": "code",
   "execution_count": 1,
   "id": "2f150b66",
   "metadata": {},
   "outputs": [],
   "source": [
    "import os\n",
    "import sys\n",
    "\n",
    "# Assuming 'src' is one level down (in the current directory or a subdirectory)\n",
    "path_to_src = os.path.join('../..','src')  # Moves one level down to 'src' folder\n",
    "\n",
    "# Add the path to sys.path\n",
    "sys.path.append(path_to_src)\n",
    "\n",
    "# Now you can import your API_key module\n",
    "import API_key as key"
   ]
  },
  {
   "cell_type": "markdown",
   "id": "1f770440",
   "metadata": {},
   "source": [
    "## include self-written functions"
   ]
  },
  {
   "cell_type": "code",
   "execution_count": 2,
   "id": "bf4eadab",
   "metadata": {},
   "outputs": [],
   "source": [
    "import src.forDataIndexing as di"
   ]
  },
  {
   "cell_type": "code",
   "execution_count": 3,
   "id": "bcb2d8bc",
   "metadata": {},
   "outputs": [
    {
     "name": "stdout",
     "output_type": "stream",
     "text": [
      "Current working directory: c:\\DATEN\\PHD\\WORKSHOPS\\introductory workshop in LLMs\\4_summarizingLiterature\\RAG\n"
     ]
    }
   ],
   "source": [
    "# Print the current working directory\n",
    "print(\"Current working directory:\", os.getcwd())"
   ]
  },
  {
   "cell_type": "markdown",
   "id": "5ce202d6",
   "metadata": {},
   "source": [
    "# Data Preperation: Documents are loaded and split into smaller text chunks"
   ]
  },
  {
   "cell_type": "markdown",
   "id": "f5dbd003",
   "metadata": {},
   "source": [
    "**load_pdfs_by_filename**: Loads and stores PDF pages by filename:"
   ]
  },
  {
   "cell_type": "code",
   "execution_count": 4,
   "id": "81e9dcb8",
   "metadata": {},
   "outputs": [
    {
     "name": "stderr",
     "output_type": "stream",
     "text": [
      "Ignoring wrong pointing object 12 0 (offset 0)\n",
      "Ignoring wrong pointing object 1319 0 (offset 0)\n"
     ]
    },
    {
     "name": "stdout",
     "output_type": "stream",
     "text": [
      "\n",
      "PDF: 10.1007_s00146-023-01650-z.pdf\n",
      "Total Pages: 8\n",
      "\n",
      "PDF: 10.1007_s10506-017-9206-9.pdf\n",
      "Total Pages: 15\n"
     ]
    }
   ],
   "source": [
    "path_to_PDFs = os.path.join('PDFs')  # Moves one level up to 'PDFs' folder\n",
    "\n",
    "\n",
    "pdf_pages = di.load_pdfs_by_filename(path_to_PDFs, verbose=False)\n",
    "\n",
    "# Optional: Print the loaded pages by filename\n",
    "for filename, pages in pdf_pages.items():\n",
    "    print(f\"\\nPDF: {filename}\")\n",
    "    print(f\"Total Pages: {len(pages)}\")\n",
    "    # print(pages[0])"
   ]
  },
  {
   "cell_type": "code",
   "execution_count": 5,
   "id": "c8630b63",
   "metadata": {},
   "outputs": [
    {
     "name": "stdout",
     "output_type": "stream",
     "text": [
      "first PDF of folder: 10.1007_s00146-023-01650-z.pdf\n",
      "First Page: page_content='Vol.:(0123456789)1 3AI & SOCIETY (2024) 39:1961–1968 \n",
      "https://doi.org/10.1007/s00146-023-01650-z\n",
      "OPEN FORUMThe regulation of artiﬁcial intelligence\n",
      "Giusella Finocchiaro1 Received: 22 December 2022 / Accepted: 20 March 2023 / Published online: 3 April 2023  \n",
      "© The Author(s) 2023\n",
      "Abstract\n",
      "Before embarking on a discussion of the regulation of artiﬁcial intelligence (AI), it is ﬁrst necessary to deﬁne the subject \n",
      "matter regulated. Deﬁning artiﬁcial intelligence is a diﬃcult endeavour, and many deﬁnitions have been proposed over the \n",
      "years. Although more than 70 years have passed since it was adopted, the most convincing deﬁnition is still nonetheless \n",
      "that proposed by Turing; in any case, it is important to be mindful of the risk of anthropomorphising artiﬁcial intelligence, \n",
      "which may arise in particular from its very deﬁnition. Once we have established the subject matter regulated, we must ask \n",
      "ourselves whether lawmakers should pursue an approach that seeks to regulate artiﬁcial intelligence as a whole, or whether \n",
      "by contrast they should regulate applications of artiﬁcial intelligence in speciﬁc sectors or individual areas. The proposal \n",
      "for a regulation on artiﬁcial intelligence published on 21 April 2021 implements the former approach whilst also pursuing \n",
      "geopolitical goals. After providing an initial overview of the notion of artiﬁcial intelligence, this article investigates the \n",
      "geopolitical context to the proposal for a regulation, and then goes on to illustrate the regulatory model embraced by the \n",
      "proposal as well as related critical aspects.\n",
      "Keywords  AI deﬁnition · AI regulation · European approach · Geopolitical context\n",
      "1  The subject matter regulated\n",
      "Before embarking on a discussion of the regulation of arti -\n",
      "ﬁcial intelligence (AI), it is ﬁrst necessary to deﬁne the sub -\n",
      "ject matter regulated.\n",
      "Deﬁning artiﬁcial intelligence is a diﬃcult endeavour, \n",
      "and in fact, many deﬁnitions have been proposed, above \n",
      "all during recent years when the issue has been a focus of \n",
      "general attention.1 It is suﬃcient to note, amongst the most \n",
      "recent, the deﬁnition contained in the Communication from \n",
      "the European Commission of 25 April 2018, according to which the expression “refers to systems that display intel -\n",
      "ligent behaviour by analysing their environment and taking \n",
      "actions—with some degree of autonomy—to achieve spe -\n",
      "ciﬁc goals”.2\n",
      "However, although more than 70 years have passed since \n",
      "it was adopted, the most convincing deﬁnition is still none -\n",
      "theless that proposed by Turing in a famous paper from \n",
      "1950: rather than deﬁning what intelligence is, which is an \n",
      "extremely tall order, it is more appropriate to consider the \n",
      "outcome to a process. If a process is classiﬁed as intelligent \n",
      "when it is performed by a human being, then it can also be \n",
      " * Giusella Finocchiaro \n",
      " giusella.ﬁnocchiaro@unibo.it\n",
      "1 Department of Legal Studies, Alma Mater Studiorum - \n",
      "University of Bologna, Bologna, Italy1 The deﬁnition of artiﬁcial intelligence is also discussed amongst IT \n",
      "specialists (Gabrielli 2021 ; Rovatti 2021 ; Tomassini 2021 ).\n",
      "2 European Commission ( 2018 ). A further deﬁnition is provided in \n",
      "the report of the Centre for European policy studies (Ceps) “Artiﬁ -\n",
      "cial Intelligence: Ethics, Governance and Policy Challenges” (Renda \n",
      "2019 ), presented at Assonime on 25 March 2019, which deﬁnes arti -\n",
      "ﬁcial intelligence as “the use of man-made techniques (Latin meaning \n",
      "of artiﬁcialis ) to replicate the ability to ‘read inside’ reality”, p. 4.' metadata={'source': 'PDFs\\\\10.1007_s00146-023-01650-z.pdf', 'page': 0} \n",
      "\n",
      "\n"
     ]
    }
   ],
   "source": [
    "# Assuming pdf_chunks is the dictionary containing chunks for each PDF\n",
    "first_key = list(pdf_pages.keys())[0]  # Get the first PDF filename\n",
    "print(\"first PDF of folder:\", first_key)\n",
    "first_pdf_pages = pdf_pages[first_key]  # Get the chunks for the first PDF\n",
    "\n",
    "\n",
    "# Print the first page\n",
    "print(\"First Page:\", first_pdf_pages[0], \"\\n\\n\")"
   ]
  },
  {
   "cell_type": "markdown",
   "id": "d04d581a",
   "metadata": {},
   "source": [
    "**split_pdf_pages_into_chunks**: Splits and stores PDF pages into chunks by filename:"
   ]
  },
  {
   "cell_type": "code",
   "execution_count": 6,
   "id": "63c2bf01",
   "metadata": {},
   "outputs": [
    {
     "name": "stdout",
     "output_type": "stream",
     "text": [
      "\n",
      "PDF: 10.1007_s00146-023-01650-z.pdf\n",
      "Total Chunks: 136\n",
      "\n",
      "PDF: 10.1007_s10506-017-9206-9.pdf\n",
      "Total Chunks: 120\n"
     ]
    }
   ],
   "source": [
    "pdf_chunks = di.split_pdf_pages_into_chunks(pdf_pages, chunk_size=500, chunk_overlap=150, verbose=False)\n",
    "\n",
    "# Optional: Print a summary of chunks created per PDF\n",
    "for filename, chunks in pdf_chunks.items():\n",
    "    print(f\"\\nPDF: {filename}\")\n",
    "    print(f\"Total Chunks: {len(chunks)}\")"
   ]
  },
  {
   "cell_type": "code",
   "execution_count": 7,
   "id": "fe313b08",
   "metadata": {},
   "outputs": [
    {
     "name": "stdout",
     "output_type": "stream",
     "text": [
      "first PDF of folder: 10.1007_s00146-023-01650-z.pdf\n",
      "\n",
      "First Chunk: page_content='Vol.:(0123456789)1 3AI & SOCIETY (2024) 39:1961–1968 \n",
      "https://doi.org/10.1007/s00146-023-01650-z\n",
      "OPEN FORUMThe regulation of artiﬁcial intelligence\n",
      "Giusella Finocchiaro1 Received: 22 December 2022 / Accepted: 20 March 2023 / Published online: 3 April 2023  \n",
      "© The Author(s) 2023\n",
      "Abstract\n",
      "Before embarking on a discussion of the regulation of artiﬁcial intelligence (AI), it is ﬁrst necessary to deﬁne the subject' metadata={'source': 'PDFs\\\\10.1007_s00146-023-01650-z.pdf', 'page': 0} \n",
      "\n",
      "\n",
      "Second Chunk: page_content='Abstract\n",
      "Before embarking on a discussion of the regulation of artiﬁcial intelligence (AI), it is ﬁrst necessary to deﬁne the subject \n",
      "matter regulated. Deﬁning artiﬁcial intelligence is a diﬃcult endeavour, and many deﬁnitions have been proposed over the \n",
      "years. Although more than 70 years have passed since it was adopted, the most convincing deﬁnition is still nonetheless' metadata={'source': 'PDFs\\\\10.1007_s00146-023-01650-z.pdf', 'page': 0}\n"
     ]
    }
   ],
   "source": [
    "# Assuming pdf_chunks is the dictionary containing chunks for each PDF\n",
    "first_key = list(pdf_chunks.keys())[0]  # Get the first PDF filename\n",
    "print(\"first PDF of folder:\", first_key)\n",
    "first_pdf_chunks = pdf_chunks[first_key]  # Get the chunks for the first PDF\n",
    "\n",
    "# Access the first and second chunks\n",
    "first_chunk = first_pdf_chunks[0]\n",
    "second_chunk = first_pdf_chunks[1]\n",
    "\n",
    "# Print the first two chunks\n",
    "print(\"\\nFirst Chunk:\", first_chunk, \"\\n\\n\")\n",
    "print(\"Second Chunk:\", second_chunk)"
   ]
  },
  {
   "cell_type": "code",
   "execution_count": 8,
   "id": "506bbb83",
   "metadata": {},
   "outputs": [
    {
     "name": "stdout",
     "output_type": "stream",
     "text": [
      "page content: Vol.:(0123456789)1 3AI & SOCIETY (2024) 39:1961–1968 \n",
      "https://doi.org/10.1007/s00146-023-01650-z\n",
      "OPEN FORUMThe regulation of artiﬁcial intelligence\n",
      "Giusella Finocchiaro1 Received: 22 December 2022 / Accepted: 20 March 2023 / Published online: 3 April 2023  \n",
      "© The Author(s) 2023\n",
      "Abstract\n",
      "Before embarking on a discussion of the regulation of artiﬁcial intelligence (AI), it is ﬁrst necessary to deﬁne the subject \n",
      "\n",
      "\n",
      "metadata: {'source': 'PDFs\\\\10.1007_s00146-023-01650-z.pdf', 'page': 0}\n"
     ]
    }
   ],
   "source": [
    "print(\"page content:\", first_chunk.page_content, \"\\n\\n\")\n",
    "print(\"metadata:\", first_chunk.metadata)"
   ]
  },
  {
   "cell_type": "markdown",
   "id": "e7c4ca22",
   "metadata": {},
   "source": [
    "# Data Storage: Text chunks are converted into vector embeddings and stored in a vector database (Vector DB) next to their respective text chunks."
   ]
  },
  {
   "cell_type": "code",
   "execution_count": 24,
   "id": "14e22fcc",
   "metadata": {},
   "outputs": [],
   "source": [
    "import os\n",
    "import json\n",
    "#from dotenv import load_dotenv\n",
    "from supabase import create_client, Client\n",
    "from faker import Faker\n",
    "import faker_commerce\n",
    "\n",
    "\n",
    "def add_entries_to_vendor_table(supabase, vendor_count):\n",
    "    fake = Faker()\n",
    "    foreign_key_list = []\n",
    "    fake.add_provider(faker_commerce.Provider)\n",
    "    main_list = []\n",
    "    for i in range(vendor_count):\n",
    "        value = {'vendor_name': fake.company(), 'total_employees': fake.random_int(40, 169),\n",
    "                 'vendor_location': fake.country()}\n",
    "\n",
    "        main_list.append(value)\n",
    "    data = supabase.table('vendor2').insert(main_list).execute()\n",
    "    data_json = json.loads(data.json())\n",
    "    data_entries = data_json['data']\n",
    "    for i in range(len(data_entries)):\n",
    "        foreign_key_list.append(int(data_entries[i]['vendor_id']))\n",
    "    return foreign_key_list\n",
    "\n",
    "\n",
    "def add_entries_to_product_table(supabase, vendor_id):\n",
    "    fake = Faker()\n",
    "    fake.add_provider(faker_commerce.Provider)\n",
    "    main_list = []\n",
    "    iterator = fake.random_int(1, 15)\n",
    "    for i in range(iterator):\n",
    "        value = {'vendor_id': vendor_id, 'product_name': fake.ecommerce_name(),\n",
    "                 'inventory_count': fake.random_int(1, 100), 'price': fake.random_int(45, 100)}\n",
    "        main_list.append(value)\n",
    "    data = supabase.table('Product').insert(main_list).execute()\n",
    "\n",
    "\n",
    "def main():\n",
    "    vendor_count = 10\n",
    "    supabase: Client = create_client(key.SUPABASE_URL, key.SUPABASE_KEY)\n",
    "    fk_list = add_entries_to_vendor_table(supabase, vendor_count)\n",
    "    #for i in range(len(fk_list)):\n",
    "    #    add_entries_to_product_table(supabase, fk_list[i])\n",
    "\n",
    "\n",
    "main()\n"
   ]
  },
  {
   "cell_type": "code",
   "execution_count": 33,
   "id": "f8dd2496",
   "metadata": {},
   "outputs": [
    {
     "name": "stdout",
     "output_type": "stream",
     "text": [
      "Hello World: data='hello world' count=None\n",
      "Vendors: data=[{'vendor_id': 17, 'vendor_name': 'Mcbride-Daniels', 'vendor_location': 'Saint Martin', 'total_employees': 164, 'created_at': '2024-10-09T12:38:53.571458+00:00'}, {'vendor_id': 20, 'vendor_name': 'Cervantes Group', 'vendor_location': 'Turkey', 'total_employees': 166, 'created_at': '2024-10-09T12:38:53.571458+00:00'}, {'vendor_id': 24, 'vendor_name': 'Lopez LLC', 'vendor_location': 'France', 'total_employees': 163, 'created_at': '2024-10-09T12:49:41.538304+00:00'}, {'vendor_id': 25, 'vendor_name': 'Hart, Gonzalez and Martin', 'vendor_location': 'Andorra', 'total_employees': 163, 'created_at': '2024-10-09T12:49:41.538304+00:00'}, {'vendor_id': 52, 'vendor_name': 'Gilbert-Smith', 'vendor_location': 'Cocos (Keeling) Islands', 'total_employees': 167, 'created_at': '2024-10-09T12:57:38.891265+00:00'}, {'vendor_id': 77, 'vendor_name': 'Arias PLC', 'vendor_location': 'El Salvador', 'total_employees': 161, 'created_at': '2024-10-09T13:04:53.955608+00:00'}, {'vendor_id': 81, 'vendor_name': 'White and Sons', 'vendor_location': 'Nepal', 'total_employees': 165, 'created_at': '2024-10-09T13:04:53.955608+00:00'}] count=None\n"
     ]
    },
    {
     "data": {
      "text/plain": [
       "{'vendor_id': 17,\n",
       " 'vendor_name': 'Mcbride-Daniels',\n",
       " 'vendor_location': 'Saint Martin',\n",
       " 'total_employees': 164,\n",
       " 'created_at': '2024-10-09T12:38:53.571458+00:00'}"
      ]
     },
     "execution_count": 33,
     "metadata": {},
     "output_type": "execute_result"
    }
   ],
   "source": [
    "from supabase import create_client, Client\n",
    "\n",
    "supabase: Client = create_client(key.SUPABASE_URL, key.SUPABASE_KEY)\n",
    "\n",
    "data = supabase.rpc('hello_world').execute()\n",
    "print(\"Hello World:\", data)\n",
    "\n",
    "\n",
    "data = supabase.rpc('get_vendors').gt('total_employees', 160).execute()\n",
    "print(\"Vendors:\", data)\n",
    "vars(data)\n",
    "data.data[0]"
   ]
  }
 ],
 "metadata": {
  "kernelspec": {
   "display_name": "Python 3",
   "language": "python",
   "name": "python3"
  },
  "language_info": {
   "codemirror_mode": {
    "name": "ipython",
    "version": 3
   },
   "file_extension": ".py",
   "mimetype": "text/x-python",
   "name": "python",
   "nbconvert_exporter": "python",
   "pygments_lexer": "ipython3",
   "version": "3.11.9"
  }
 },
 "nbformat": 4,
 "nbformat_minor": 5
}
