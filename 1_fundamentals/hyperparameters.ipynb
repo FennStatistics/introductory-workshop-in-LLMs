{
 "cells": [
  {
   "cell_type": "markdown",
   "id": "2caacdb3",
   "metadata": {},
   "source": [
    "# Influence of different hyperparameters\n",
    "\n",
    "**Information**\n",
    "\n",
    "\n",
    "*** \n",
    "**Background information**\n",
    "\n",
    "\n",
    "\n",
    "***\n",
    "**Coding sources**\n",
    "\n",
    "* \n",
    "\n",
    "\n",
    "***\n",
    "**Aim of the code template**\n",
    "\n",
    "Provide an example for a model call, which produces deterministic results.\n",
    "\n",
    "## Get API key(s)"
   ]
  },
  {
   "cell_type": "code",
   "execution_count": 1,
   "id": "c7c9ad71",
   "metadata": {},
   "outputs": [],
   "source": [
    "import os\n",
    "import sys\n",
    "\n",
    "# Assuming 'src' is one level down (in the current directory or a subdirectory)\n",
    "path_to_src = os.path.join('..','src')  # Moves one level down to 'src' folder\n",
    "\n",
    "# Add the path to sys.path\n",
    "sys.path.append(path_to_src)\n",
    "\n",
    "# Now you can import your API_key module\n",
    "import API_key as key"
   ]
  },
  {
   "cell_type": "markdown",
   "id": "ec87bc95",
   "metadata": {},
   "source": [
    "# Create deterministic results:\n",
    "\n",
    "define the LLM to apply:"
   ]
  },
  {
   "cell_type": "code",
   "execution_count": 2,
   "id": "d540beb4",
   "metadata": {},
   "outputs": [],
   "source": [
    "model_name = \"meta-llama/Meta-Llama-3-70B-Instruct\""
   ]
  },
  {
   "cell_type": "markdown",
   "id": "2dc94f3f",
   "metadata": {},
   "source": [
    "Run LLM multiple times:"
   ]
  },
  {
   "cell_type": "code",
   "execution_count": 3,
   "id": "7ba2ed4b",
   "metadata": {},
   "outputs": [],
   "source": [
    "\n",
    "from huggingface_hub import InferenceClient\n",
    "\n",
    "# Initialize the client (assuming the client and API key are already set up)\n",
    "client = InferenceClient(model=model_name, headers={\"X-use-cache\": \"false\"}, token=key.hugging_api_key)    # \"meta-llama/Meta-Llama-3.1-70B-Instruct\"\n",
    "\n",
    "# Define the prompt for generating animal names\n",
    "user_prompt = 'Provide a list of 10 animal names formatted as an array. The output should be structured as follows: [\"animal1\", \"animal2\", \"animal3\", \"animal4\", \"animal5\", \"animal6\", \"animal7\", \"animal8\", \"animal9\", \"animal10\"].'\n",
    "\n",
    "system_prompt = \"You are an assistant that formats outputs as requested, providing precise, structured responses in JSON-like formats when asked. Always ensure that your responses adhere to the format and content specifications provided in user prompts.\"\n",
    "\n",
    "# List to store the responses\n",
    "responses = []\n",
    "\n",
    "# Run the chat completion 20 times and store each response\n",
    "for i in range(20):\n",
    "    chat_completion = client.chat_completion(\n",
    "        messages=[\n",
    "            {\"role\": \"system\", \"content\": system_prompt},\n",
    "            {\"role\": \"user\", \"content\": user_prompt}\n",
    "        ],\n",
    "        model=\"meta-llama/Meta-Llama-3.1-70B-Instruct\",\n",
    "        temperature=0.5,\n",
    "        stream=False,\n",
    "        seed=1234  # Set a fixed seed for reproducibility\n",
    "    )\n",
    "    \n",
    "    # Store the content of the response\n",
    "    responses.append(chat_completion.choices[0].message.content)"
   ]
  },
  {
   "cell_type": "code",
   "execution_count": 4,
   "id": "f532d02b",
   "metadata": {},
   "outputs": [
    {
     "name": "stdout",
     "output_type": "stream",
     "text": [
      "Response 1: Here is the list of 10 animal names formatted as an array:\n",
      "\n",
      "[\"Lion\", \"Elephant\", \"Giraffe\", \"Kangaroo\", \"Penguin\", \"Koala\", \"Chimpanzee\", \"Raccoon\", \"Hedgehog\", \"Sloth\"]\n",
      "Response 2: Here is the list of 10 animal names formatted as an array:\n",
      "\n",
      "[\"Lion\", \"Elephant\", \"Giraffe\", \"Kangaroo\", \"Penguin\", \"Koala\", \"Chimpanzee\", \"Raccoon\", \"Hedgehog\", \"Sloth\"]\n",
      "Response 3: Here is the list of 10 animal names formatted as an array:\n",
      "\n",
      "[\"Lion\", \"Elephant\", \"Giraffe\", \"Kangaroo\", \"Penguin\", \"Koala\", \"Chimpanzee\", \"Raccoon\", \"Hedgehog\", \"Sloth\"]\n",
      "Response 4: Here is the list of 10 animal names formatted as an array:\n",
      "\n",
      "[\"Lion\", \"Elephant\", \"Giraffe\", \"Kangaroo\", \"Penguin\", \"Koala\", \"Chimpanzee\", \"Raccoon\", \"Hedgehog\", \"Sloth\"]\n",
      "Response 5: Here is the list of 10 animal names formatted as an array:\n",
      "\n",
      "[\"Lion\", \"Elephant\", \"Giraffe\", \"Kangaroo\", \"Penguin\", \"Koala\", \"Chimpanzee\", \"Raccoon\", \"Hedgehog\", \"Sloth\"]\n",
      "Response 6: Here is the list of 10 animal names formatted as an array:\n",
      "\n",
      "[\"Lion\", \"Elephant\", \"Giraffe\", \"Kangaroo\", \"Penguin\", \"Koala\", \"Chimpanzee\", \"Raccoon\", \"Hedgehog\", \"Sloth\"]\n",
      "Response 7: Here is the list of 10 animal names formatted as an array:\n",
      "\n",
      "[\"Lion\", \"Elephant\", \"Giraffe\", \"Kangaroo\", \"Penguin\", \"Koala\", \"Chimpanzee\", \"Raccoon\", \"Hedgehog\", \"Sloth\"]\n",
      "Response 8: Here is the list of 10 animal names formatted as an array:\n",
      "\n",
      "[\"Lion\", \"Elephant\", \"Giraffe\", \"Kangaroo\", \"Penguin\", \"Koala\", \"Chimpanzee\", \"Raccoon\", \"Hedgehog\", \"Sloth\"]\n",
      "Response 9: Here is the list of 10 animal names formatted as an array:\n",
      "\n",
      "[\"Lion\", \"Elephant\", \"Giraffe\", \"Kangaroo\", \"Penguin\", \"Koala\", \"Chimpanzee\", \"Raccoon\", \"Hedgehog\", \"Sloth\"]\n",
      "Response 10: Here is the list of 10 animal names formatted as an array:\n",
      "\n",
      "[\"Lion\", \"Elephant\", \"Giraffe\", \"Kangaroo\", \"Penguin\", \"Koala\", \"Chimpanzee\", \"Raccoon\", \"Hedgehog\", \"Sloth\"]\n",
      "Response 11: Here is the list of 10 animal names formatted as an array:\n",
      "\n",
      "[\"Lion\", \"Elephant\", \"Giraffe\", \"Kangaroo\", \"Penguin\", \"Koala\", \"Chimpanzee\", \"Raccoon\", \"Hedgehog\", \"Sloth\"]\n",
      "Response 12: Here is the list of 10 animal names formatted as an array:\n",
      "\n",
      "[\"Lion\", \"Elephant\", \"Giraffe\", \"Kangaroo\", \"Penguin\", \"Koala\", \"Chimpanzee\", \"Raccoon\", \"Hedgehog\", \"Sloth\"]\n",
      "Response 13: Here is the list of 10 animal names formatted as an array:\n",
      "\n",
      "[\"Lion\", \"Elephant\", \"Giraffe\", \"Kangaroo\", \"Penguin\", \"Koala\", \"Chimpanzee\", \"Raccoon\", \"Hedgehog\", \"Sloth\"]\n",
      "Response 14: Here is the list of 10 animal names formatted as an array:\n",
      "\n",
      "[\"Lion\", \"Elephant\", \"Giraffe\", \"Kangaroo\", \"Penguin\", \"Koala\", \"Chimpanzee\", \"Raccoon\", \"Hedgehog\", \"Sloth\"]\n",
      "Response 15: Here is the list of 10 animal names formatted as an array:\n",
      "\n",
      "[\"Lion\", \"Elephant\", \"Giraffe\", \"Kangaroo\", \"Penguin\", \"Koala\", \"Chimpanzee\", \"Raccoon\", \"Hedgehog\", \"Sloth\"]\n",
      "Response 16: Here is the list of 10 animal names formatted as an array:\n",
      "\n",
      "[\"Lion\", \"Elephant\", \"Giraffe\", \"Kangaroo\", \"Penguin\", \"Koala\", \"Chimpanzee\", \"Raccoon\", \"Hedgehog\", \"Sloth\"]\n",
      "Response 17: Here is the list of 10 animal names formatted as an array:\n",
      "\n",
      "[\"Lion\", \"Elephant\", \"Giraffe\", \"Kangaroo\", \"Penguin\", \"Koala\", \"Chimpanzee\", \"Raccoon\", \"Hedgehog\", \"Sloth\"]\n",
      "Response 18: Here is the list of 10 animal names formatted as an array:\n",
      "\n",
      "[\"Lion\", \"Elephant\", \"Giraffe\", \"Kangaroo\", \"Penguin\", \"Koala\", \"Chimpanzee\", \"Raccoon\", \"Hedgehog\", \"Sloth\"]\n",
      "Response 19: Here is the list of 10 animal names formatted as an array:\n",
      "\n",
      "[\"Lion\", \"Elephant\", \"Giraffe\", \"Kangaroo\", \"Penguin\", \"Koala\", \"Chimpanzee\", \"Raccoon\", \"Hedgehog\", \"Sloth\"]\n",
      "Response 20: Here is the list of 10 animal names formatted as an array:\n",
      "\n",
      "[\"Lion\", \"Elephant\", \"Giraffe\", \"Kangaroo\", \"Penguin\", \"Koala\", \"Chimpanzee\", \"Raccoon\", \"Hedgehog\", \"Sloth\"]\n"
     ]
    }
   ],
   "source": [
    "# Print all responses\n",
    "for index, response in enumerate(responses):\n",
    "    print(f\"Response {index + 1}: {response}\")"
   ]
  }
 ],
 "metadata": {
  "kernelspec": {
   "display_name": "env_python",
   "language": "python",
   "name": "python3"
  },
  "language_info": {
   "codemirror_mode": {
    "name": "ipython",
    "version": 3
   },
   "file_extension": ".py",
   "mimetype": "text/x-python",
   "name": "python",
   "nbconvert_exporter": "python",
   "pygments_lexer": "ipython3",
   "version": "3.12.3"
  }
 },
 "nbformat": 4,
 "nbformat_minor": 5
}
