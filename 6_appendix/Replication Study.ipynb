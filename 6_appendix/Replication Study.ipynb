{
 "cells": [
  {
   "cell_type": "markdown",
   "id": "510b84bd",
   "metadata": {},
   "source": [
    "# Try to create determnistic texts by calling openAI module\n",
    "\n",
    "idea was based on the following code: https://github.com/TonySimonovsky/prompt_engineering_experiments/blob/main/experiments/DeterministicResultsOpenAI/Deterministic%20Results%20in%20OpenAI%20(report).ipynb"
   ]
  },
  {
   "cell_type": "markdown",
   "id": "5e7fcb05",
   "metadata": {},
   "source": [
    "## Get API key(s)\n",
    "\n",
    "\n",
    "normally not needed to provide your huggingface key:"
   ]
  },
  {
   "cell_type": "code",
   "execution_count": 1,
   "id": "9e367c87",
   "metadata": {},
   "outputs": [],
   "source": [
    "import os\n",
    "import sys\n",
    "\n",
    "# Assuming 'src' is one level down (in the current directory or a subdirectory)\n",
    "path_to_src = os.path.join('..','src')  # Moves one level down to 'src' folder\n",
    "\n",
    "# Add the path to sys.path\n",
    "sys.path.append(path_to_src)\n",
    "\n",
    "# Now you can import your API_key module\n",
    "import API_key as key"
   ]
  },
  {
   "cell_type": "markdown",
   "id": "aa90ac6b",
   "metadata": {},
   "source": [
    "## Create deterministic data\n",
    "\n",
    "define number of runs:"
   ]
  },
  {
   "cell_type": "code",
   "execution_count": 2,
   "id": "af7018a2",
   "metadata": {},
   "outputs": [],
   "source": [
    "num_runs = 20"
   ]
  },
  {
   "cell_type": "code",
   "execution_count": 3,
   "id": "28299daf",
   "metadata": {},
   "outputs": [],
   "source": [
    "from openai import OpenAI\n",
    "\n",
    "\n",
    "# set up client\n",
    "client = OpenAI(\n",
    "    api_key=key.openAI_key,\n",
    ")\n",
    "\n",
    "# Function to call OpenAI's API using the updated format\n",
    "def get_response(prompt, model=\"gpt-3.5-turbo\"):\n",
    "    response = client.chat.completions.create(\n",
    "    model=\"gpt-3.5-turbo\",\n",
    "    messages=[{\"role\": \"user\", \"content\": prompt}],\n",
    "    temperature=0.0,  # Set to 0 for deterministic results\n",
    "    seed=555, # beta feature, but it allows you to obtain consistent results for every input submitted to GPT.\n",
    "    max_tokens=50 # only 50 tokens\n",
    ")\n",
    "    return response.choices[0].message.content\n",
    "\n",
    "# Generate variations of prompts\n",
    "prompt = \"Explain the significance of machine learning in modern industries.\"\n",
    "\n",
    "\n",
    "# Collect responses\n",
    "responses = []\n",
    "for i in range(num_runs):\n",
    "    # print(i)\n",
    "    response = get_response(prompt)\n",
    "    responses.append(response)"
   ]
  },
  {
   "cell_type": "code",
   "execution_count": 5,
   "id": "4e224075",
   "metadata": {},
   "outputs": [],
   "source": [
    "import pandas as pd\n",
    "# Convert the list to a DataFrame\n",
    "responses_df = pd.DataFrame(responses)\n",
    "\n",
    "# Export to Excel\n",
    "responses_df.to_excel(\"deterministicResponses.xlsx\", index=False)"
   ]
  },
  {
   "cell_type": "code",
   "execution_count": 6,
   "id": "3d0704bc",
   "metadata": {},
   "outputs": [
    {
     "name": "stdout",
     "output_type": "stream",
     "text": [
      "20\n",
      "Machine learning has become increasingly significant in modern industries due to its ability to analyze and interpret large amounts of data quickly and accurately. This technology allows businesses to make data-driven decisions, improve efficiency, and optimize processes in various industries such as healthcare, finance,\n"
     ]
    }
   ],
   "source": [
    "print(len(responses))\n",
    "print(responses[0])"
   ]
  },
  {
   "cell_type": "markdown",
   "id": "a7b7f337",
   "metadata": {},
   "source": [
    "## Compute Levenshtein distances"
   ]
  },
  {
   "cell_type": "code",
   "execution_count": 7,
   "id": "7aa5a523",
   "metadata": {},
   "outputs": [
    {
     "name": "stdout",
     "output_type": "stream",
     "text": [
      "Mean Distance Score Levenshtein: 2.2\n",
      "Levenshtein Distance Matrix:\n",
      "[[ 0.  0.  0.  0.  0.  0.  0.  0.  0. 22.  0.  0.  0.  0.  0.  0.  0.  0.\n",
      "   0.  0.]\n",
      " [ 0.  0.  0.  0.  0.  0.  0.  0.  0. 22.  0.  0.  0.  0.  0.  0.  0.  0.\n",
      "   0.  0.]\n",
      " [ 0.  0.  0.  0.  0.  0.  0.  0.  0. 22.  0.  0.  0.  0.  0.  0.  0.  0.\n",
      "   0.  0.]\n",
      " [ 0.  0.  0.  0.  0.  0.  0.  0.  0. 22.  0.  0.  0.  0.  0.  0.  0.  0.\n",
      "   0.  0.]\n",
      " [ 0.  0.  0.  0.  0.  0.  0.  0.  0. 22.  0.  0.  0.  0.  0.  0.  0.  0.\n",
      "   0.  0.]\n",
      " [ 0.  0.  0.  0.  0.  0.  0.  0.  0. 22.  0.  0.  0.  0.  0.  0.  0.  0.\n",
      "   0.  0.]\n",
      " [ 0.  0.  0.  0.  0.  0.  0.  0.  0. 22.  0.  0.  0.  0.  0.  0.  0.  0.\n",
      "   0.  0.]\n",
      " [ 0.  0.  0.  0.  0.  0.  0.  0.  0. 22.  0.  0.  0.  0.  0.  0.  0.  0.\n",
      "   0.  0.]\n",
      " [ 0.  0.  0.  0.  0.  0.  0.  0.  0. 22.  0.  0.  0.  0.  0.  0.  0.  0.\n",
      "   0.  0.]\n",
      " [22. 22. 22. 22. 22. 22. 22. 22. 22.  0. 22. 22. 22. 22. 22. 22. 22. 22.\n",
      "  22. 22.]\n",
      " [ 0.  0.  0.  0.  0.  0.  0.  0.  0. 22.  0.  0.  0.  0.  0.  0.  0.  0.\n",
      "   0.  0.]\n",
      " [ 0.  0.  0.  0.  0.  0.  0.  0.  0. 22.  0.  0.  0.  0.  0.  0.  0.  0.\n",
      "   0.  0.]\n",
      " [ 0.  0.  0.  0.  0.  0.  0.  0.  0. 22.  0.  0.  0.  0.  0.  0.  0.  0.\n",
      "   0.  0.]\n",
      " [ 0.  0.  0.  0.  0.  0.  0.  0.  0. 22.  0.  0.  0.  0.  0.  0.  0.  0.\n",
      "   0.  0.]\n",
      " [ 0.  0.  0.  0.  0.  0.  0.  0.  0. 22.  0.  0.  0.  0.  0.  0.  0.  0.\n",
      "   0.  0.]\n",
      " [ 0.  0.  0.  0.  0.  0.  0.  0.  0. 22.  0.  0.  0.  0.  0.  0.  0.  0.\n",
      "   0.  0.]\n",
      " [ 0.  0.  0.  0.  0.  0.  0.  0.  0. 22.  0.  0.  0.  0.  0.  0.  0.  0.\n",
      "   0.  0.]\n",
      " [ 0.  0.  0.  0.  0.  0.  0.  0.  0. 22.  0.  0.  0.  0.  0.  0.  0.  0.\n",
      "   0.  0.]\n",
      " [ 0.  0.  0.  0.  0.  0.  0.  0.  0. 22.  0.  0.  0.  0.  0.  0.  0.  0.\n",
      "   0.  0.]\n",
      " [ 0.  0.  0.  0.  0.  0.  0.  0.  0. 22.  0.  0.  0.  0.  0.  0.  0.  0.\n",
      "   0.  0.]]\n"
     ]
    }
   ],
   "source": [
    "import Levenshtein as lev\n",
    "import numpy as np\n",
    "\n",
    "# Create a distance matrix\n",
    "n = len(responses)\n",
    "distance_matrix = np.zeros((n, n))\n",
    "\n",
    "# Compute Levenshtein distances\n",
    "for i in range(n):\n",
    "    for j in range(n):\n",
    "        if i != j:\n",
    "            distance_matrix[i][j] = lev.distance(responses[i], responses[j])\n",
    "\n",
    "\n",
    "# Display similarity matrix and calculate mean similarity score\n",
    "mean_distance = np.mean(distance_matrix[np.triu_indices_from(distance_matrix, k=1)])\n",
    "print(\"Mean Distance Score Levenshtein:\", mean_distance)\n",
    "# Print the distance matrix\n",
    "print(\"Levenshtein Distance Matrix:\")\n",
    "print(distance_matrix)"
   ]
  },
  {
   "cell_type": "markdown",
   "id": "ea1139a7",
   "metadata": {},
   "source": [
    "## Measure similarity using TF-IDF and cosine similarity"
   ]
  },
  {
   "cell_type": "code",
   "execution_count": 8,
   "id": "1073069b",
   "metadata": {},
   "outputs": [
    {
     "name": "stdout",
     "output_type": "stream",
     "text": [
      "Mean Similarity Score: 0.9728725123549896\n",
      "             Response 1  Response 2  Response 3  Response 4  Response 5  \\\n",
      "Response 1     1.000000    1.000000    1.000000    1.000000    1.000000   \n",
      "Response 2     1.000000    1.000000    1.000000    1.000000    1.000000   \n",
      "Response 3     1.000000    1.000000    1.000000    1.000000    1.000000   \n",
      "Response 4     1.000000    1.000000    1.000000    1.000000    1.000000   \n",
      "Response 5     1.000000    1.000000    1.000000    1.000000    1.000000   \n",
      "Response 6     1.000000    1.000000    1.000000    1.000000    1.000000   \n",
      "Response 7     1.000000    1.000000    1.000000    1.000000    1.000000   \n",
      "Response 8     1.000000    1.000000    1.000000    1.000000    1.000000   \n",
      "Response 9     1.000000    1.000000    1.000000    1.000000    1.000000   \n",
      "Response 10    0.728725    0.728725    0.728725    0.728725    0.728725   \n",
      "Response 11    1.000000    1.000000    1.000000    1.000000    1.000000   \n",
      "Response 12    1.000000    1.000000    1.000000    1.000000    1.000000   \n",
      "Response 13    1.000000    1.000000    1.000000    1.000000    1.000000   \n",
      "Response 14    1.000000    1.000000    1.000000    1.000000    1.000000   \n",
      "Response 15    1.000000    1.000000    1.000000    1.000000    1.000000   \n",
      "Response 16    1.000000    1.000000    1.000000    1.000000    1.000000   \n",
      "Response 17    1.000000    1.000000    1.000000    1.000000    1.000000   \n",
      "Response 18    1.000000    1.000000    1.000000    1.000000    1.000000   \n",
      "Response 19    1.000000    1.000000    1.000000    1.000000    1.000000   \n",
      "Response 20    1.000000    1.000000    1.000000    1.000000    1.000000   \n",
      "\n",
      "             Response 6  Response 7  Response 8  Response 9  Response 10  \\\n",
      "Response 1     1.000000    1.000000    1.000000    1.000000     0.728725   \n",
      "Response 2     1.000000    1.000000    1.000000    1.000000     0.728725   \n",
      "Response 3     1.000000    1.000000    1.000000    1.000000     0.728725   \n",
      "Response 4     1.000000    1.000000    1.000000    1.000000     0.728725   \n",
      "Response 5     1.000000    1.000000    1.000000    1.000000     0.728725   \n",
      "Response 6     1.000000    1.000000    1.000000    1.000000     0.728725   \n",
      "Response 7     1.000000    1.000000    1.000000    1.000000     0.728725   \n",
      "Response 8     1.000000    1.000000    1.000000    1.000000     0.728725   \n",
      "Response 9     1.000000    1.000000    1.000000    1.000000     0.728725   \n",
      "Response 10    0.728725    0.728725    0.728725    0.728725     1.000000   \n",
      "Response 11    1.000000    1.000000    1.000000    1.000000     0.728725   \n",
      "Response 12    1.000000    1.000000    1.000000    1.000000     0.728725   \n",
      "Response 13    1.000000    1.000000    1.000000    1.000000     0.728725   \n",
      "Response 14    1.000000    1.000000    1.000000    1.000000     0.728725   \n",
      "Response 15    1.000000    1.000000    1.000000    1.000000     0.728725   \n",
      "Response 16    1.000000    1.000000    1.000000    1.000000     0.728725   \n",
      "Response 17    1.000000    1.000000    1.000000    1.000000     0.728725   \n",
      "Response 18    1.000000    1.000000    1.000000    1.000000     0.728725   \n",
      "Response 19    1.000000    1.000000    1.000000    1.000000     0.728725   \n",
      "Response 20    1.000000    1.000000    1.000000    1.000000     0.728725   \n",
      "\n",
      "             Response 11  Response 12  Response 13  Response 14  Response 15  \\\n",
      "Response 1      1.000000     1.000000     1.000000     1.000000     1.000000   \n",
      "Response 2      1.000000     1.000000     1.000000     1.000000     1.000000   \n",
      "Response 3      1.000000     1.000000     1.000000     1.000000     1.000000   \n",
      "Response 4      1.000000     1.000000     1.000000     1.000000     1.000000   \n",
      "Response 5      1.000000     1.000000     1.000000     1.000000     1.000000   \n",
      "Response 6      1.000000     1.000000     1.000000     1.000000     1.000000   \n",
      "Response 7      1.000000     1.000000     1.000000     1.000000     1.000000   \n",
      "Response 8      1.000000     1.000000     1.000000     1.000000     1.000000   \n",
      "Response 9      1.000000     1.000000     1.000000     1.000000     1.000000   \n",
      "Response 10     0.728725     0.728725     0.728725     0.728725     0.728725   \n",
      "Response 11     1.000000     1.000000     1.000000     1.000000     1.000000   \n",
      "Response 12     1.000000     1.000000     1.000000     1.000000     1.000000   \n",
      "Response 13     1.000000     1.000000     1.000000     1.000000     1.000000   \n",
      "Response 14     1.000000     1.000000     1.000000     1.000000     1.000000   \n",
      "Response 15     1.000000     1.000000     1.000000     1.000000     1.000000   \n",
      "Response 16     1.000000     1.000000     1.000000     1.000000     1.000000   \n",
      "Response 17     1.000000     1.000000     1.000000     1.000000     1.000000   \n",
      "Response 18     1.000000     1.000000     1.000000     1.000000     1.000000   \n",
      "Response 19     1.000000     1.000000     1.000000     1.000000     1.000000   \n",
      "Response 20     1.000000     1.000000     1.000000     1.000000     1.000000   \n",
      "\n",
      "             Response 16  Response 17  Response 18  Response 19  Response 20  \n",
      "Response 1      1.000000     1.000000     1.000000     1.000000     1.000000  \n",
      "Response 2      1.000000     1.000000     1.000000     1.000000     1.000000  \n",
      "Response 3      1.000000     1.000000     1.000000     1.000000     1.000000  \n",
      "Response 4      1.000000     1.000000     1.000000     1.000000     1.000000  \n",
      "Response 5      1.000000     1.000000     1.000000     1.000000     1.000000  \n",
      "Response 6      1.000000     1.000000     1.000000     1.000000     1.000000  \n",
      "Response 7      1.000000     1.000000     1.000000     1.000000     1.000000  \n",
      "Response 8      1.000000     1.000000     1.000000     1.000000     1.000000  \n",
      "Response 9      1.000000     1.000000     1.000000     1.000000     1.000000  \n",
      "Response 10     0.728725     0.728725     0.728725     0.728725     0.728725  \n",
      "Response 11     1.000000     1.000000     1.000000     1.000000     1.000000  \n",
      "Response 12     1.000000     1.000000     1.000000     1.000000     1.000000  \n",
      "Response 13     1.000000     1.000000     1.000000     1.000000     1.000000  \n",
      "Response 14     1.000000     1.000000     1.000000     1.000000     1.000000  \n",
      "Response 15     1.000000     1.000000     1.000000     1.000000     1.000000  \n",
      "Response 16     1.000000     1.000000     1.000000     1.000000     1.000000  \n",
      "Response 17     1.000000     1.000000     1.000000     1.000000     1.000000  \n",
      "Response 18     1.000000     1.000000     1.000000     1.000000     1.000000  \n",
      "Response 19     1.000000     1.000000     1.000000     1.000000     1.000000  \n",
      "Response 20     1.000000     1.000000     1.000000     1.000000     1.000000  \n"
     ]
    }
   ],
   "source": [
    "from sklearn.feature_extraction.text import TfidfVectorizer\n",
    "from sklearn.metrics.pairwise import cosine_similarity\n",
    "\n",
    "# Measure similarity using TF-IDF and cosine similarity\n",
    "vectorizer = TfidfVectorizer().fit_transform(responses)\n",
    "vectors = vectorizer.toarray()\n",
    "cosine_matrix = cosine_similarity(vectors)\n",
    "\n",
    "# Create a structured DataFrame for the similarity matrix using response indices\n",
    "similarity_df = pd.DataFrame(cosine_matrix, index=[f'Response {i+1}' for i in range(len(responses))],\n",
    "                             columns=[f'Response {i+1}' for i in range(len(responses))])\n",
    "\n",
    "# Display similarity matrix and calculate mean similarity score\n",
    "mean_similarity = np.mean(cosine_matrix[np.triu_indices_from(cosine_matrix, k=1)])\n",
    "print(\"Mean Similarity Score:\", mean_similarity)\n",
    "print(similarity_df)"
   ]
  }
 ],
 "metadata": {
  "kernelspec": {
   "display_name": "env_python",
   "language": "python",
   "name": "python3"
  },
  "language_info": {
   "codemirror_mode": {
    "name": "ipython",
    "version": 3
   },
   "file_extension": ".py",
   "mimetype": "text/x-python",
   "name": "python",
   "nbconvert_exporter": "python",
   "pygments_lexer": "ipython3",
   "version": "3.12.3"
  }
 },
 "nbformat": 4,
 "nbformat_minor": 5
}
