{
 "cells": [
  {
   "cell_type": "markdown",
   "id": "745eb47a",
   "metadata": {},
   "source": [
    "# Data Indexing\n",
    "\n",
    "There are two central steps involved:\n",
    "\n",
    "1. Documents are stored, prepared and split into smaller text chunks.\n",
    "2. Text chunks are converted into vector embeddings and stored in a vector database (Vector DB) next to their respective text chunks.\n",
    "\n",
    "\n",
    "*** \n",
    "**Background information**\n",
    "\n",
    "* All files, chunks and embeddings are stored on a local **Supabase** server (open source Firebase alternative; based on Postgres, which is a relational database management system), see: https://supabase.com/\n",
    "\n",
    "\n",
    "***\n",
    "**Coding sources**\n",
    "\n",
    "I extend the code provided and explained in the following YouTube Video: \n",
    "\n",
    "- The missing pieces to your AI app (pgvector + RAG in prod): https://www.youtube.com/watch?v=ibzlEQmgPPY\n",
    "    + GitHub: https://github.com/supabase-community/chatgpt-your-files\n",
    "\n",
    "\n",
    "## How to use this code:\n",
    "\n",
    "\n",
    "1. Enter your search / how you have found the PDF files\n",
    "```\n",
    "entry_search = {'topic': \"AI regulation\", 'subtopic': \"trust, risk, benefit\", \n",
    "                'search_query':'\"artificial intelligence\" AND (trust OR risk* OR benef*) AND \"regulation\"', 'search_plattform': \"Google Scholar\", \n",
    "                'comment':\"only retrieved the first 30 entries (2 excluded, because 1x not downloadable); N=29\"}\n",
    "```\n",
    "\n",
    "2. define folder path to your PDFs:\n",
    "```\n",
    "path_to_PDF = os.path.join('PDFs/AIregulation/')  # Moves one level up to 'PDFs' folder\n",
    "```\n",
    "\n",
    "3. provide the additional arguments to the PDF entries in your DB:\n",
    "\n",
    "along to the entry in the DB the information written in `args_Search` is stored, to later filter your DB\n",
    "```\n",
    "args_Search = {'topic': \"AI regulation\", 'subtopic': \"trust, risk, benefit\"}\n",
    "```\n",
    "\n",
    "4. define using GROBID (GeneRation Of BIbliographic Data) or simple  recursive splling\n",
    "\n",
    "\n",
    "Remark: GROBID is an open-source software tool designed for extracting, parsing, and structuring bibliographic data and scientific documents.\n",
    "```\n",
    "...\n",
    "```\n",
    "\n",
    "\n",
    "## If you facing issues running your Code:\n",
    "\n",
    "It could be the case that chroma and langchain cause import issues, see: https://github.com/langchain-ai/langchain/issues/7509"
   ]
  },
  {
   "cell_type": "code",
   "execution_count": 1,
   "id": "e1b062d5",
   "metadata": {},
   "outputs": [],
   "source": [
    "## run in your terminal:\n",
    "# pip install pydantic==1.10.8\n",
    "# pip install chromadb==0.3.26"
   ]
  },
  {
   "cell_type": "markdown",
   "id": "37501de6",
   "metadata": {},
   "source": [
    "## Get API, local supabase server key(s)"
   ]
  },
  {
   "cell_type": "code",
   "execution_count": 2,
   "id": "2f150b66",
   "metadata": {},
   "outputs": [],
   "source": [
    "import os\n",
    "import sys\n",
    "\n",
    "# Assuming 'src' is one level down (in the current directory or a subdirectory)\n",
    "path_to_src = os.path.join('../..','src')  # Moves one level down to 'src' folder\n",
    "\n",
    "# Add the path to sys.path\n",
    "sys.path.append(path_to_src)\n",
    "\n",
    "# Now you can import your API_key module\n",
    "import API_key as key"
   ]
  },
  {
   "cell_type": "markdown",
   "id": "1f770440",
   "metadata": {},
   "source": [
    "## include self-written functions"
   ]
  },
  {
   "cell_type": "code",
   "execution_count": 3,
   "id": "bf4eadab",
   "metadata": {},
   "outputs": [
    {
     "name": "stderr",
     "output_type": "stream",
     "text": [
      "c:\\Users\\fenn\\AppData\\Local\\R-MINI~1\\Lib\\site-packages\\sentence_transformers\\cross_encoder\\CrossEncoder.py:13: TqdmExperimentalWarning: Using `tqdm.autonotebook.tqdm` in notebook mode. Use `tqdm.tqdm` instead to force console mode (e.g. in jupyter console)\n",
      "  from tqdm.autonotebook import tqdm, trange\n"
     ]
    }
   ],
   "source": [
    "import src.forDataIndexing as di"
   ]
  },
  {
   "cell_type": "code",
   "execution_count": 4,
   "id": "bcb2d8bc",
   "metadata": {},
   "outputs": [
    {
     "name": "stdout",
     "output_type": "stream",
     "text": [
      "Current working directory: c:\\DATEN\\PHD\\WORKSHOPS\\introductory workshop in LLMs\\4_summarizingLiterature\\RAG\n"
     ]
    }
   ],
   "source": [
    "# Print the current working directory\n",
    "print(\"Current working directory:\", os.getcwd())"
   ]
  },
  {
   "cell_type": "markdown",
   "id": "a078994c",
   "metadata": {},
   "source": [
    "# Connect to our local supabase server"
   ]
  },
  {
   "cell_type": "code",
   "execution_count": 5,
   "metadata": {},
   "outputs": [],
   "source": [
    "from supabase import create_client\n",
    "\n",
    "supabase = create_client(key.SUPABASE_URL, key.SUPABASE_KEY)"
   ]
  },
  {
   "cell_type": "markdown",
   "id": "5ce202d6",
   "metadata": {},
   "source": [
    "# Data Preperation: Documents are stored, prepared and split into smaller text chunks\n",
    "\n",
    "## Enter your search / how you have found the PDF files"
   ]
  },
  {
   "cell_type": "code",
   "execution_count": 6,
   "id": "9497640d",
   "metadata": {},
   "outputs": [
    {
     "name": "stdout",
     "output_type": "stream",
     "text": [
      "search topics in your DB:\n",
      " []\n"
     ]
    }
   ],
   "source": [
    "res = supabase.table(\"searches\").select(\"topic\").execute()\n",
    "# Convert the list of tuples to a dictionary\n",
    "data_dict = dict(res)\n",
    "# Access the 'data' key directly\n",
    "data_items = data_dict.get('data', [])\n",
    "# Extract topics from the list of dictionaries within 'data'\n",
    "topics = [entry['topic'] for entry in data_items]\n",
    "print(\"search topics in your DB:\\n\", topics)"
   ]
  },
  {
   "cell_type": "code",
   "execution_count": 7,
   "id": "43b5f4fe",
   "metadata": {},
   "outputs": [
    {
     "name": "stdout",
     "output_type": "stream",
     "text": [
      "new search entry added\n"
     ]
    }
   ],
   "source": [
    "entry_search = {'topic': \"AI regulation\", 'subtopic': \"trust, risk, benefit\", \n",
    "                'search_query':'\"artificial intelligence\" AND (trust OR risk* OR benef*) AND \"regulation\"', 'search_plattform': \"Google Scholar\", \n",
    "                'comment':\"only retrieved the first 30 entries (1 excluded, because not downloadable); N=29\"}\n",
    "\n",
    "# Check if the 'topic' in entry_search is in topics\n",
    "if entry_search['topic'] in topics:\n",
    "    # Update the existing entry where the topic matches\n",
    "    data = supabase.table('searches').update(entry_search).eq('topic', entry_search['topic']).execute()\n",
    "    print(\"search entry updated\")\n",
    "else:\n",
    "    # Insert the new entry if the topic is not found in topics\n",
    "    data = supabase.table('searches').insert(entry_search).execute()\n",
    "    print(\"new search entry added\")"
   ]
  },
  {
   "cell_type": "markdown",
   "id": "505788c0",
   "metadata": {},
   "source": [
    "## Upload your PDFs in the local DB\n",
    "\n",
    "define folder path to your PDFs:"
   ]
  },
  {
   "cell_type": "code",
   "execution_count": 8,
   "id": "16958e5b",
   "metadata": {},
   "outputs": [],
   "source": [
    "path_to_PDF = os.path.join('PDFs/AIregulation/')  # Moves one level up to 'PDFs' folder"
   ]
  },
  {
   "cell_type": "markdown",
   "id": "4075d9c1",
   "metadata": {},
   "source": [
    "upload PDFs to storage **AND** creates an entry in the DB:\n",
    "\n",
    "along to the entry in the DB the information written in `args_Search` is stored, to later filter your DB\n",
    "\n",
    "Remark: this function takes a bit, because PDFs are temporarly loaded to get their number of pages"
   ]
  },
  {
   "cell_type": "code",
   "execution_count": 9,
   "id": "5c6c8ea3",
   "metadata": {},
   "outputs": [
    {
     "name": "stderr",
     "output_type": "stream",
     "text": [
      "Ignoring wrong pointing object 110 0 (offset 0)\n",
      "Ignoring wrong pointing object 244 0 (offset 0)\n",
      "Ignoring wrong pointing object 12 0 (offset 0)\n",
      "Ignoring wrong pointing object 1319 0 (offset 0)\n",
      "Ignoring wrong pointing object 9 0 (offset 0)\n",
      "Ignoring wrong pointing object 13 0 (offset 0)\n",
      "Ignoring wrong pointing object 44 0 (offset 0)\n",
      "Ignoring wrong pointing object 134 0 (offset 0)\n",
      "Ignoring wrong pointing object 118 0 (offset 0)\n",
      "Ignoring wrong pointing object 438 0 (offset 0)\n",
      "Ignoring wrong pointing object 41 0 (offset 0)\n",
      "Ignoring wrong pointing object 52 0 (offset 0)\n",
      "Ignoring wrong pointing object 9 0 (offset 0)\n",
      "Ignoring wrong pointing object 15 0 (offset 0)\n",
      "Ignoring wrong pointing object 199 0 (offset 0)\n",
      "Ignoring wrong pointing object 331 0 (offset 0)\n",
      "Ignoring wrong pointing object 9 0 (offset 0)\n",
      "Ignoring wrong pointing object 16 0 (offset 0)\n",
      "Ignoring wrong pointing object 150 0 (offset 0)\n",
      "Ignoring wrong pointing object 232 0 (offset 0)\n",
      "Ignoring wrong pointing object 9 0 (offset 0)\n",
      "Ignoring wrong pointing object 16 0 (offset 0)\n",
      "Ignoring wrong pointing object 135 0 (offset 0)\n",
      "Ignoring wrong pointing object 40 0 (offset 0)\n",
      "Ignoring wrong pointing object 68 0 (offset 0)\n",
      "Ignoring wrong pointing object 9 0 (offset 0)\n",
      "Ignoring wrong pointing object 12 0 (offset 0)\n",
      "Ignoring wrong pointing object 16 0 (offset 0)\n",
      "Ignoring wrong pointing object 50 0 (offset 0)\n",
      "Ignoring wrong pointing object 2 65536 (offset 0)\n",
      "Ignoring wrong pointing object 12 65536 (offset 0)\n",
      "Ignoring wrong pointing object 41 65536 (offset 0)\n",
      "Ignoring wrong pointing object 45 65536 (offset 0)\n",
      "Ignoring wrong pointing object 49 65536 (offset 0)\n",
      "Ignoring wrong pointing object 53 65536 (offset 0)\n",
      "Ignoring wrong pointing object 57 65536 (offset 0)\n",
      "Ignoring wrong pointing object 61 65536 (offset 0)\n",
      "Ignoring wrong pointing object 65 65536 (offset 0)\n",
      "Ignoring wrong pointing object 69 65536 (offset 0)\n",
      "Ignoring wrong pointing object 73 65536 (offset 0)\n",
      "Ignoring wrong pointing object 77 65536 (offset 0)\n",
      "Ignoring wrong pointing object 81 65536 (offset 0)\n",
      "Ignoring wrong pointing object 85 65536 (offset 0)\n",
      "Ignoring wrong pointing object 89 65536 (offset 0)\n",
      "Ignoring wrong pointing object 93 65536 (offset 0)\n",
      "Ignoring wrong pointing object 97 65536 (offset 0)\n",
      "Ignoring wrong pointing object 101 65536 (offset 0)\n",
      "Ignoring wrong pointing object 105 65536 (offset 0)\n",
      "Ignoring wrong pointing object 109 65536 (offset 0)\n",
      "Ignoring wrong pointing object 6 0 (offset 0)\n",
      "Ignoring wrong pointing object 8 0 (offset 0)\n",
      "Ignoring wrong pointing object 10 0 (offset 0)\n",
      "Ignoring wrong pointing object 12 0 (offset 0)\n",
      "Ignoring wrong pointing object 14 0 (offset 0)\n",
      "Ignoring wrong pointing object 16 0 (offset 0)\n",
      "Ignoring wrong pointing object 18 0 (offset 0)\n",
      "Ignoring wrong pointing object 27 0 (offset 0)\n",
      "Ignoring wrong pointing object 29 0 (offset 0)\n",
      "Ignoring wrong pointing object 43 0 (offset 0)\n",
      "Ignoring wrong pointing object 45 0 (offset 0)\n",
      "Ignoring wrong pointing object 47 0 (offset 0)\n",
      "Ignoring wrong pointing object 49 0 (offset 0)\n",
      "Ignoring wrong pointing object 51 0 (offset 0)\n",
      "Ignoring wrong pointing object 69 0 (offset 0)\n",
      "Ignoring wrong pointing object 71 0 (offset 0)\n",
      "Ignoring wrong pointing object 153 0 (offset 0)\n"
     ]
    },
    {
     "name": "stdout",
     "output_type": "stream",
     "text": [
      "The following file: \"most relevant\" is a) not a PDF or b) was already uploaded in the DB.\n",
      "The following file: \"unicode error\" is a) not a PDF or b) was already uploaded in the DB.\n",
      "In total 28 PDFs were sucessfully uploaded to your DB.\n"
     ]
    }
   ],
   "source": [
    "args_Search = {'topic': \"AI regulation\", 'subtopic': \"trust, risk, benefit\"}\n",
    "\n",
    "di.upload_PDFs(folder_path=path_to_PDF, supabase_DB=supabase, args_Search=args_Search, verbose=False)"
   ]
  },
  {
   "cell_type": "markdown",
   "id": "ec3d1195",
   "metadata": {},
   "source": [
    "PDFs in your DB:"
   ]
  },
  {
   "cell_type": "code",
   "execution_count": 10,
   "id": "41e45071",
   "metadata": {},
   "outputs": [
    {
     "name": "stdout",
     "output_type": "stream",
     "text": [
      "['10.1002_sd.2048.pdf', '10.1007_s00146-023-01650-z.pdf', '10.1007_s10506-017-9206-9.pdf', '10.1007_s11077-022-09452-8.pdf', '10.1007_s11569-024-00454-9.pdf', '10.1007_s40804-020-00200-0.pdf', '10.1017_err.2019.8.pdf', '10.1017_err.2021.52.pdf', '10.1017_err.2022.14.pdf', '10.1017_err.2023.1.pdf', '10.1080_13600834.2018.1488659.pdf', '10.1080_13669877.2021.1957985.pdf', '10.1111_bioe.13124.pdf', '10.1111_rego.12512.pdf', '10.1111_rego.12563.pdf', '10.1111_rego.12568.pdf', '10.1177_0266382120923962.pdf', '10.1177_2053951719860542.pdf', '10.1177_20539517211039493.pdf', '10.14658_pupj-jelt-2021-2-2.pdf', '10.2139_ssrn.3501410.pdf', '10.24251_HICSS.2020.647.pdf', '10.24251_HICSS.2021.664.pdf', '10.2979_gls.2023.a886162.pdf', '10.4324_9780429262081-19.pdf', '10.48550_arXiv.2305.02231.pdf', 'doi-10.1017_err.2022.38.pdf', 'white house_AI.pdf']\n",
      "28\n"
     ]
    }
   ],
   "source": [
    "res = supabase.storage.from_('files').list()\n",
    "# Extracting 'name' from each dictionary\n",
    "file_names = [file['name'] for file in res]\n",
    "\n",
    "# Output the list of file names\n",
    "print(file_names)\n",
    "\n",
    "# Number of PDFs in DB\n",
    "print(len(file_names))"
   ]
  },
  {
   "cell_type": "markdown",
   "id": "817c3d26",
   "metadata": {},
   "source": [
    "## PDFs in the local DB are prepared\n",
    "\n",
    "set a folder path for the temporary download of your PDFs:"
   ]
  },
  {
   "cell_type": "code",
   "execution_count": 11,
   "id": "932f931f",
   "metadata": {},
   "outputs": [],
   "source": [
    "path_to_PDFs = os.path.join('tmp_downloads')  # Moves one level up to 'tmp_downloads' folder"
   ]
  },
  {
   "cell_type": "markdown",
   "id": "d2319c99",
   "metadata": {},
   "source": [
    "aaaaaaaaaaaaaaaaaa GROBID"
   ]
  },
  {
   "cell_type": "markdown",
   "id": "6d93f6a0",
   "metadata": {},
   "source": [
    "https://grobid.readthedocs.io/en/latest/Grobid-docker/#grobid-and-docker-containers\n",
    "\n",
    "\n",
    "docker run --gpus all --init --ulimit core=0 -p 8070:8070 grobid/grobid:0.8.1\n",
    "\n",
    "\n",
    "docker run --rm --gpus all --init --ulimit core=0 -p 8070:8070 grobid/grobid:0.8.1"
   ]
  },
  {
   "cell_type": "code",
   "execution_count": 12,
   "id": "1d8d6c8c",
   "metadata": {},
   "outputs": [
    {
     "ename": "NameError",
     "evalue": "name 'ERROR' is not defined",
     "output_type": "error",
     "traceback": [
      "\u001b[1;31m---------------------------------------------------------------------------\u001b[0m",
      "\u001b[1;31mNameError\u001b[0m                                 Traceback (most recent call last)",
      "Cell \u001b[1;32mIn[12], line 1\u001b[0m\n\u001b[1;32m----> 1\u001b[0m ERROR\n",
      "\u001b[1;31mNameError\u001b[0m: name 'ERROR' is not defined"
     ]
    }
   ],
   "source": [
    "ERROR"
   ]
  },
  {
   "cell_type": "markdown",
   "id": "eb81e28f",
   "metadata": {},
   "source": [
    "see: https://grobid.readthedocs.io/en/latest/Grobid-service/"
   ]
  },
  {
   "cell_type": "code",
   "execution_count": null,
   "id": "ee7960a9",
   "metadata": {},
   "outputs": [],
   "source": [
    "import requests\n",
    "from pathlib import Path\n",
    "\n",
    "pdf_file = Path(path_to_PDFs + \"/10.1007_s00146-023-01650-z.pdf\")\n",
    "files = {\n",
    "    'input': open(pdf_file, 'rb'),\n",
    "}\n",
    "\n",
    "response = requests.post('http://localhost:8070/api/processFulltextDocument', files=files)"
   ]
  },
  {
   "cell_type": "code",
   "execution_count": null,
   "id": "1a37a523",
   "metadata": {},
   "outputs": [],
   "source": [
    "vars(response)"
   ]
  },
  {
   "cell_type": "code",
   "execution_count": null,
   "id": "9d033110",
   "metadata": {},
   "outputs": [],
   "source": [
    "response.content"
   ]
  },
  {
   "cell_type": "code",
   "execution_count": 44,
   "id": "d06a5e43",
   "metadata": {},
   "outputs": [],
   "source": [
    "from grobid_client import Client\n",
    "\n",
    "client = Client(base_url=\"https://cloud.science-miner.com/grobid/api\")"
   ]
  },
  {
   "cell_type": "code",
   "execution_count": null,
   "id": "cb4958dc",
   "metadata": {},
   "outputs": [],
   "source": [
    "client"
   ]
  },
  {
   "cell_type": "code",
   "execution_count": null,
   "id": "515dabdb",
   "metadata": {},
   "outputs": [],
   "source": [
    "from grobid_client.grobid_client import GrobidClient"
   ]
  },
  {
   "cell_type": "code",
   "execution_count": 33,
   "id": "4d789b39",
   "metadata": {},
   "outputs": [],
   "source": [
    "from grobid_client import Client\n",
    "\n",
    "client = Client(base_url=\"http://localhost:8070/\")"
   ]
  },
  {
   "cell_type": "code",
   "execution_count": 46,
   "id": "e5ac0e3e",
   "metadata": {},
   "outputs": [],
   "source": [
    "from pathlib import Path\n",
    "from grobid_client.api.pdf import process_fulltext_document\n",
    "from grobid_client.models import Article, ProcessForm\n",
    "from grobid_client.types import TEI, File\n",
    "pdf_file = \"MyPDFFile.pdf\"\n",
    "pdf_file = Path(path_to_PDFs + \"/10.1007_s00146-023-01650-z.pdf\")\n",
    "\n",
    "with pdf_file.open(\"rb\") as fin:\n",
    "    form = ProcessForm(\n",
    "        segment_sentences=\"1\",\n",
    "        input_=File(file_name=pdf_file.name, payload=fin, mime_type=\"application/pdf\"),\n",
    "    )\n",
    "    r = process_fulltext_document.sync_detailed(client=client, multipart_data=form)\n",
    "    if r.is_success:\n",
    "        article: Article = TEI.parse(r.content, figures=False)\n",
    "        assert article.title"
   ]
  },
  {
   "cell_type": "code",
   "execution_count": null,
   "id": "22c13a6b",
   "metadata": {},
   "outputs": [],
   "source": [
    "r"
   ]
  },
  {
   "cell_type": "markdown",
   "id": "a580b5c0",
   "metadata": {},
   "source": [
    "aaaaaaaaaaaaaaaaaa GROBID"
   ]
  },
  {
   "cell_type": "markdown",
   "id": "1e4990f2",
   "metadata": {},
   "source": [
    "get the names of all PDFs, which have not been processed (chunks + embeddings):"
   ]
  },
  {
   "cell_type": "code",
   "execution_count": 13,
   "id": "7da37230",
   "metadata": {},
   "outputs": [
    {
     "name": "stdout",
     "output_type": "stream",
     "text": [
      "ids in your table documents_chunks:\n",
      " set()\n",
      "non_processed_PDFs:\n",
      " ['10.1002_sd.2048.pdf', '10.1007_s00146-023-01650-z.pdf', '10.1007_s10506-017-9206-9.pdf', '10.1007_s11077-022-09452-8.pdf', '10.1007_s11569-024-00454-9.pdf', '10.1007_s40804-020-00200-0.pdf', '10.1017_err.2019.8.pdf', '10.1017_err.2021.52.pdf', '10.1017_err.2022.14.pdf', '10.1017_err.2023.1.pdf', '10.1080_13600834.2018.1488659.pdf', '10.1080_13669877.2021.1957985.pdf', '10.1111_bioe.13124.pdf', '10.1111_rego.12512.pdf', '10.1111_rego.12563.pdf', '10.1111_rego.12568.pdf', '10.1177_0266382120923962.pdf', '10.1177_2053951719860542.pdf', '10.1177_20539517211039493.pdf', '10.14658_pupj-jelt-2021-2-2.pdf', '10.2139_ssrn.3501410.pdf', '10.24251_HICSS.2020.647.pdf', '10.24251_HICSS.2021.664.pdf', '10.2979_gls.2023.a886162.pdf', '10.4324_9780429262081-19.pdf', '10.48550_arXiv.2305.02231.pdf', 'doi-10.1017_err.2022.38.pdf', 'white house_AI.pdf']\n"
     ]
    }
   ],
   "source": [
    "non_processed_PDFs = di.non_processed_PDFs(supabase_DB=supabase, verbose=False)\n",
    "print(\"non_processed_PDFs:\\n\", non_processed_PDFs)"
   ]
  },
  {
   "cell_type": "code",
   "execution_count": 14,
   "id": "faf53a54",
   "metadata": {},
   "outputs": [
    {
     "name": "stdout",
     "output_type": "stream",
     "text": [
      "ids in your table documents_chunks:\n",
      " set()\n"
     ]
    },
    {
     "name": "stderr",
     "output_type": "stream",
     "text": [
      "Ignoring wrong pointing object 110 0 (offset 0)\n",
      "Ignoring wrong pointing object 244 0 (offset 0)\n",
      "Ignoring wrong pointing object 12 0 (offset 0)\n",
      "Ignoring wrong pointing object 1319 0 (offset 0)\n",
      "Ignoring wrong pointing object 9 0 (offset 0)\n",
      "Ignoring wrong pointing object 13 0 (offset 0)\n",
      "Ignoring wrong pointing object 44 0 (offset 0)\n",
      "Ignoring wrong pointing object 134 0 (offset 0)\n",
      "Ignoring wrong pointing object 118 0 (offset 0)\n",
      "Ignoring wrong pointing object 438 0 (offset 0)\n"
     ]
    },
    {
     "name": "stdout",
     "output_type": "stream",
     "text": [
      "10.1002_sd.2048.pdf\n"
     ]
    },
    {
     "name": "stderr",
     "output_type": "stream",
     "text": [
      "c:\\Users\\fenn\\AppData\\Local\\R-MINI~1\\Lib\\site-packages\\transformers\\tokenization_utils_base.py:1617: FutureWarning: `clean_up_tokenization_spaces` was not set. It will be set to `True` by default. This behavior will be deprecated in transformers v4.45, and will be then set to `False` by default. For more details check this issue: https://github.com/huggingface/transformers/issues/31884\n",
      "  warnings.warn(\n"
     ]
    },
    {
     "name": "stdout",
     "output_type": "stream",
     "text": [
      "10.1007_s00146-023-01650-z.pdf\n",
      "10.1007_s10506-017-9206-9.pdf\n",
      "10.1007_s11077-022-09452-8.pdf\n",
      "10.1007_s11569-024-00454-9.pdf\n",
      "10.1007_s40804-020-00200-0.pdf\n",
      "10.1017_err.2019.8.pdf\n",
      "10.1017_err.2021.52.pdf\n",
      "10.1017_err.2022.14.pdf\n",
      "10.1017_err.2023.1.pdf\n"
     ]
    }
   ],
   "source": [
    "args_Split = {'chunk_size': 800, 'chunk_overlap': 150}\n",
    "\n",
    "di.load_split_embed(supabase_DB=supabase, path_to_PDFs=path_to_PDFs, args_Split=args_Split, LMM='all-MiniLM-L6-v2')\n",
    "# delete all downloaded files"
   ]
  },
  {
   "cell_type": "code",
   "execution_count": 16,
   "id": "e797809d",
   "metadata": {},
   "outputs": [
    {
     "name": "stdout",
     "output_type": "stream",
     "text": [
      "10\n",
      "[{'document_id': 'cb4d0c47662351ca09bade84b9554256', 'id': '10.1002_sd.2048.pdf', 'order_chunks': 0, 'section': None, 'content': \"RESEARCH ARTICLE\\nGoverning Artificial Intelligence to benefit the UN Sustainable\\nDevelopment Goals\\nJon Truby\\nLaw & Development, College of Law, Qatar\\nUniversity, Doha, Qatar\\nCorrespondence\\nJon Truby, Centre for Law & Development,\\nCollege of Law, Qatar University, PO BOX\\n2713 Doha, Qatar.\\nEmail: jon.truby@qu.edu.qa\\nFunding information\\nQatar National Research Fund, Grant/Award\\nNumber: NPRP 11S-1119-170016Abstract\\nBig Tech's unregulated roll-out out of experimental AI poses risks to the achievement of\\nthe UN Sustainable Development Goals (SDGs), w ith particular vulnerability for develop-\\ning countries. The goal of financial inclusion is threatened by the imperfect and\\nungoverned design and implementation of AI decision-making software making important\", 'embedding': '[-0.01656288,0.051273286,-0.012496664,0.058511723,0.027607173,-0.004153954,-0.038968444,0.02656205,-0.018553035,0.0610176,-0.036081403,0.00057246874,0.042793248,-0.035382636,-0.0320611,0.04463561,-0.05556807,-0.14217958,-0.077741265,-0.047296297,0.034976598,0.01609779,0.019712644,-0.06343912,-0.016423766,0.0044515864,-0.02385576,-0.04076566,0.034333535,0.026309751,0.06692077,0.07080748,0.010205344,-0.00057285535,0.0657468,0.08398636,0.0119506465,-0.006733604,0.052960105,-0.016365761,0.042586483,-0.10118748,0.0028432251,-0.061398067,0.06940611,-1.950363e-05,0.010052369,-0.011601103,-0.06582622,-0.03196392,-0.08311327,-0.054089814,0.08372175,-0.020657139,-0.029963618,-0.048639618,0.032250643,-0.014196007,-0.035024907,-0.092176385,0.07689207,-0.021517232,0.033429857,-0.014254792,0.04420692,0.055320915,0.02990361,0.02799067,-0.02926421,-0.037955575,0.06908671,0.024773136,-0.046004966,-0.0027549,0.0056249714,0.006719145,-0.027580084,0.06871363,0.11105541,-0.017480081,0.04722274,-0.015080707,-0.018291865,0.0306148,-0.03419989,0.029864859,-0.004317466,0.027050033,0.04288046,0.022651419,-0.022985574,-0.057174847,0.09367974,0.053244643,0.020565612,-0.012964392,0.028786642,-0.07988295,-0.018646866,0.033576183,-0.027799683,0.015995948,0.01238587,-0.0108924415,-0.0062436126,0.02116234,0.07623491,-0.0048193466,0.04329487,-0.07679769,-0.11720546,0.011928642,0.034849375,-0.0367913,0.003836953,0.011293779,-0.05239649,0.1076933,0.011588495,0.0058366535,0.0028715848,0.0075318813,-0.06388551,-4.5672878e-06,-0.015467736,0.030874941,-0.1570229,4.779539e-33,-0.055436935,-0.065031104,0.016801069,-0.06466664,0.035544097,-0.05454577,-0.018084234,0.01468693,-0.113799,0.032539994,0.0026148877,-0.02809758,-0.022412721,0.0645834,0.11648483,-0.0417399,-0.023102641,-0.024056735,0.035299465,0.00812493,0.06463789,-0.10873177,0.045215674,-0.012507342,0.060571782,0.04838905,-0.01812984,-0.037719596,0.050046653,0.019829357,-0.0045311833,0.06649081,-0.012554418,-0.071360014,-0.016945804,0.011420421,-0.15593724,0.047437035,-0.022080336,0.07733519,-0.017869122,0.027675362,0.03912847,-0.052290417,0.07193872,0.03391168,0.07737832,-0.045324706,0.039244287,-0.039976593,-0.04519959,0.06774058,-0.018806586,-0.20290285,0.033510324,-0.0912302,-0.038452916,0.024474995,-0.07062777,-0.05992044,-0.023159653,-0.036223855,-0.012185097,0.07706608,-0.048034586,0.037888803,0.0035924758,0.039820205,0.07184281,0.038413957,-0.0056998013,0.032525957,-0.025485603,0.08569762,-0.06606433,-0.033978056,0.03275888,-0.06179708,0.040996265,-0.06010131,-0.046983458,0.050148785,0.025960952,-0.049430247,0.05437839,0.013263049,-0.003919053,0.0055113453,0.038874865,-0.018053342,-0.09612557,-0.017322715,-0.03207589,0.016858906,-0.02729557,-6.93754e-33,-0.07324904,-0.002349013,-0.10633129,-0.063437805,-0.011979102,0.049924687,-0.058000553,-0.075917505,0.073492825,0.036102377,-0.008756148,-0.077007994,0.03242391,0.031029155,0.018906657,-0.030530365,-0.034927964,-0.082168095,0.018387923,-0.031616885,0.048883967,0.04507427,0.010681238,0.04688952,-0.004941277,0.014363402,-0.03945714,-0.007765485,0.0061484086,0.04617989,0.009834056,-0.039799884,-0.13097249,0.0629957,-0.012346514,-0.051958237,0.0067625577,-0.045523055,-0.000119023636,0.039617706,0.04269414,-0.023533005,-0.0730598,-0.03448568,-0.012916747,0.062941246,0.009975638,0.022245824,0.039122414,-0.11569736,0.09558153,0.036925014,0.012972546,-0.046332918,-0.042194474,0.014232369,0.07566819,0.013544984,0.0071486873,0.0058358465,-0.021597954,-0.007840803,0.051319234,0.060001485,-0.057998575,0.008826296,0.025970697,0.061465792,0.014129319,-0.073001996,0.0058699497,-0.060664617,-0.102519706,0.025444172,0.02233331,0.08842061,-0.14229196,-0.004415535,-0.07568081,-0.0070560435,0.026152281,-0.004792832,0.0009957897,-0.027251896,0.062971115,-0.047757953,0.0052011646,-0.012917966,-0.00213024,0.05052976,-0.08679782,0.03626359,-0.05138205,0.045603774,-0.08649675,-5.3778958e-08,0.057354003,-0.019541258,-0.014340891,0.04655657,-0.013587663,-0.0010945481,-0.08707169,-0.084373124,-0.041213278,0.0016123236,-0.0004284665,-0.023367953,0.0065768706,0.077212624,-0.027626187,0.011163151,0.0012304843,0.0470048,0.00707262,0.023825884,0.07289517,-0.023148233,-0.04514954,-0.02026717,0.06347307,-0.042252142,-0.024980208,0.033675395,0.00866549,0.09351185,0.03940211,0.013008952,0.019989096,-0.02525789,0.058043264,0.04352268,0.051272035,-0.05073782,-0.030152852,0.0029959625,0.04556911,0.10012511,0.006204634,0.012169134,0.021552693,-0.111510135,-0.07280123,-0.047843296,0.11360324,-0.004837067,0.016212737,-0.055635057,0.030371474,0.103069544,0.13781089,0.037332267,0.0090772435,0.015246273,-0.07677321,0.013745912,0.08777093,-0.031443357,0.014290492,-0.023271363]', 'created_at': '2024-10-25T06:35:02.053899+00:00'}, {'document_id': 'ca201ca5be05fc8dd2fca278a0a090d7', 'id': '10.1007_s00146-023-01650-z.pdf', 'order_chunks': 0, 'section': None, 'content': 'Vol.:(0123456789)1 3AI & SOCIETY (2024) 39:1961–1968 \\nhttps://doi.org/10.1007/s00146-023-01650-z\\nOPEN FORUMThe regulation of\\xa0artiﬁcial intelligence\\nGiusella\\xa0Finocchiaro1 Received: 22 December 2022 / Accepted: 20 March 2023 / Published online: 3 April 2023  \\n© The Author(s) 2023\\nAbstract\\nBefore embarking on a discussion of the regulation of artiﬁcial intelligence (AI), it is ﬁrst necessary to deﬁne the subject \\nmatter regulated. Deﬁning artiﬁcial intelligence is a diﬃcult endeavour, and many deﬁnitions have been proposed over the \\nyears. Although more than 70 years have passed since it was adopted, the most convincing deﬁnition is still nonetheless \\nthat proposed by Turing; in any case, it is important to be mindful of the risk of anthropomorphising artiﬁcial intelligence,', 'embedding': '[-0.033070676,-0.0011044706,-0.04472704,0.022878464,-0.028658012,0.0066658263,0.079502,-0.045301106,-0.008009262,0.06132153,0.031027578,-0.010704734,-0.014590208,0.06593852,-0.03414943,0.01974082,-0.028769866,-0.039277337,-0.10411106,0.039724417,0.1021893,-0.016843747,0.010876348,-0.055796966,-0.12173254,0.025584107,-0.025775503,-0.08315909,0.04137054,0.011653198,-0.0074222907,0.042958476,0.040548656,-0.044479758,-0.016772851,0.056850385,-0.01046857,-0.04264001,0.10377561,-0.015438391,-0.0416947,-0.06872198,-0.10055482,-0.060501575,-0.0004342634,0.0049361275,-0.051170163,-0.01934116,-0.12277851,-0.032027174,-0.19436334,-0.024572862,0.030003175,0.001307205,0.06495403,-0.02694212,0.0037926424,-0.05750825,-0.026662339,-0.021913338,0.055984583,-0.041124888,-0.011767409,0.0052521806,0.041002445,0.045562945,-0.06301215,-0.038972624,-0.0016644322,0.03456665,0.06845035,-0.035152607,-0.03254548,0.059019934,0.09655835,0.08233744,-0.043420248,-0.044695217,0.10080016,-0.03139679,0.07157848,-0.0062865675,0.07794057,0.035672102,-0.015045772,-0.018010415,-0.016226191,-0.043247335,0.031216767,0.04349514,0.009218791,-0.08970022,0.037093297,-0.061847094,0.1141415,-0.022015953,-0.030705433,-0.003018235,-0.03061855,0.011560649,-0.009323058,-0.018564349,-0.027501684,0.025562113,-0.0025271387,-0.046630014,0.055091396,-0.043186072,0.035277538,0.014204823,-0.06848573,0.019345503,0.06804068,0.03824511,0.016845416,0.0552232,-0.077041246,0.09179312,0.09676931,0.047514185,0.033014424,-0.014099594,0.015572524,0.035780255,0.05923097,-0.11298205,-0.1442612,8.171783e-33,0.0017071024,-0.0005572485,0.0018582803,-0.015599065,0.020582713,-0.014828978,-0.07045874,-0.05353611,0.017482126,-0.037375465,0.00942558,0.050781254,-0.0011122453,0.07886164,-0.016765812,-0.0115540195,-0.033501524,0.04306391,0.029188832,0.030900573,0.12602988,-0.044961598,-0.010811262,-0.073024966,-0.03678732,0.023274196,-0.055099048,-0.09007906,0.031273846,0.051121917,-0.055283736,0.04511724,-0.02191557,-0.05354176,-0.02302854,-0.039676372,0.027994864,-0.06760753,-0.030841166,0.008888851,0.06561235,0.05423535,-0.0013931143,-0.033682607,0.014588953,0.061817933,0.05437849,-0.02382737,-0.09638111,0.009532389,-0.045607656,0.061339337,0.009723515,-0.08310194,0.042696875,-0.05078203,-0.069280975,-0.014013368,-0.037994348,-0.027105544,0.0045871763,-0.027718207,0.0024454414,0.014063286,0.01942348,0.019053057,-0.08218437,0.004093015,0.030586632,0.004173968,-0.040953137,-0.06092121,-0.033200413,0.025649058,-0.03349966,-0.014023049,0.011382851,-0.045540452,-0.052987702,-0.064762354,-0.044944275,0.0801842,-0.010160485,0.01572841,0.037951387,-0.03089571,0.012520901,-0.040486306,0.0005887938,0.024489528,0.02287518,-0.039591596,-0.038952712,0.024161745,-0.1008014,-1.0253819e-32,-0.03748895,-0.03458735,-0.088578895,-0.05795021,-0.0060849097,0.012984824,-0.0060673105,-0.040962283,0.065445416,0.0022386822,0.008824971,-0.049493123,0.03187236,0.0013044617,-0.019630084,-0.036231555,-0.0121296,0.0130685065,-0.008389508,-0.025719889,0.018004194,0.022066206,-0.048408754,0.011771622,-0.018531492,0.07972848,0.03845954,0.01578875,0.027568338,0.04285717,-0.048935086,0.022669788,-0.094382524,-0.027745217,0.004414914,0.026290186,0.015151074,-0.037260555,-0.045003556,0.042169675,0.06915939,0.01973731,-0.02240091,0.0023365666,0.045336317,-0.06485607,0.01987765,0.001165375,0.0006156079,-0.03156592,0.06038375,-0.0015440856,0.011863125,-0.086013116,-0.026336009,-0.019142307,0.09540459,-0.056911204,-0.014660476,0.09673428,0.04005381,0.05860025,0.01408593,0.0830754,0.0084979925,0.09642995,-0.015014305,0.09166495,0.032813836,-0.03665479,0.116228804,-0.014218798,-0.0013700833,-0.009187845,-0.0108710015,0.031570144,-0.0633863,-0.0024443376,0.018513104,-0.026161619,-0.076767854,-0.07205306,0.022524174,-0.044136625,0.016579637,-0.044167496,0.020750731,-0.00061308854,-0.053049974,-0.018384708,-0.038874585,-0.03166239,-0.055044185,0.005747031,-0.06841859,-6.4940274e-08,0.02773766,0.00088894414,0.026909048,0.041514214,0.059865534,0.034523226,0.011396224,-0.0438566,-0.025090627,0.005299296,0.07591234,0.0029592852,0.033024997,0.029454209,0.08860143,0.0059133423,0.05258726,0.0041415608,-0.006660518,-0.05597689,0.11461784,-0.05146453,-0.082871765,-0.026323885,-0.026816946,-0.049859047,-0.0017112552,0.0036492427,-0.09979651,0.1434415,-0.03020095,0.008752282,-0.014227854,0.029929634,0.0009906623,-0.037942015,-0.05853618,-0.08443611,-0.05589477,0.0136897275,0.05652818,0.12203326,-0.014736085,0.07897018,0.119005576,-0.023846572,0.0050013135,-0.049880832,0.08270683,0.0150760785,-0.045242436,0.037980996,0.09363294,0.06706557,0.056592222,0.021041676,-0.016844755,0.069919914,-0.14867349,0.1065548,0.11403069,0.0625894,0.046786774,-0.09344373]', 'created_at': '2024-10-25T06:35:08.058778+00:00'}, {'document_id': '3f5bf993fee53330550249040a411196', 'id': '10.1007_s10506-017-9206-9.pdf', 'order_chunks': 0, 'section': None, 'content': 'Using artiﬁcial intelligence to support compliance\\nwith the general data protection regulation\\nJohn Kingston1\\nPublished online: 1 September 2017\\n/C211Springer Science+Business Media B.V. 2017\\nAbstract The General Data Protection Regulation (GDPR) is a European Union\\nregulation that will replace the existing Data Protection Directive on 25 May 2018.\\nThe most signiﬁcant change is a huge increase in the maximum ﬁne that can be\\nlevied for breaches of the regulation. Yet fewer than half of UK companies are fully\\naware of GDPR—and a number of those who were preparing for it stopped doing so\\nwhen the Brexit vote was announced. A last-minute rush to become compliant is\\ntherefore expected, and numerous companies are starting to offer advice, checklists', 'embedding': '[-0.0449107,-0.020592507,0.06009425,-0.028224412,0.09368745,0.032159414,0.007478292,-0.05723654,-0.053113867,-0.019667374,0.035087194,0.023566347,-0.014227464,0.0007244258,-0.03534706,0.0010075861,0.034000706,-0.084353015,-0.097979,-0.035912648,-0.054559473,0.006554941,-0.011593314,0.019938648,-0.056105092,0.02391719,0.0056591653,-0.075322874,-0.013830996,-0.010988329,0.010836392,-0.03424544,0.033426214,0.042621445,0.0019329113,-0.092828214,0.03807286,-0.006151883,0.0025654722,-0.022954468,-0.030351121,-0.15067029,-0.09547089,-0.004359711,0.029726865,0.12863104,0.052984588,-0.0637738,-0.119819775,0.021321654,-0.025406856,0.0056573763,0.028109223,-0.017837051,0.05151296,-0.111135855,-0.038728215,-0.0064342185,0.035512485,0.039324924,0.0061768135,-0.04998749,-0.03043312,-0.00375913,-0.0059356415,0.037933603,-0.016648835,-0.031746447,-0.039734,0.024398409,-0.08459538,-0.080984615,-0.061159816,0.048731055,0.0058541135,0.027987977,-0.121543646,0.016458102,0.10731952,-0.07579194,0.014695833,0.037219618,0.055403188,0.059699833,-0.0017222452,-0.10828884,-0.0010422334,-0.033386074,0.013572153,-0.005630968,0.053346846,-0.07221597,0.029738924,0.12494109,-0.013679085,-0.037522748,-0.05190633,-0.008173267,0.047312688,-0.027162958,0.017883115,0.07277222,-0.046925887,0.041901626,-0.06586817,-0.06449759,0.06090856,0.0038991785,0.04641033,0.056874864,0.024621429,0.08766477,-0.002012895,-0.14122218,-0.025315577,-0.09075765,-0.11095825,0.035252392,0.07767499,0.061679393,0.065796025,0.036060605,0.03229194,0.0039175013,0.12393071,0.043149948,-0.07125937,6.438852e-33,-0.017985635,0.031145236,-0.03481463,-0.014203651,-0.07184788,0.005038253,-0.10432676,0.025165677,-0.0027653072,0.038513966,0.013482445,0.048799396,-0.05355778,0.039275736,-0.006886772,0.06928703,-0.0072874376,0.055959944,0.02781149,0.055713583,0.08960933,-0.06896814,0.08721422,0.0018469287,0.033354204,0.00952308,-0.050437625,-0.023735845,0.15152144,0.0129040545,-0.004087333,-0.027859068,0.082166836,0.05794007,-0.0142057,0.040991254,-0.0019709645,-0.063632354,-0.034705054,0.003912331,-0.008094609,0.048959926,-0.0015341191,-0.01721744,0.028626908,-0.0031853511,-0.030657727,-0.068322755,-0.019511778,-0.012775797,-0.0266492,-0.016329201,-0.08603453,-0.0547356,0.024769342,-0.0019283968,-0.10421515,-0.046745896,0.022413693,-0.021719934,-0.03909029,0.047307927,0.039884027,-0.029796222,-0.0025857945,0.007950013,-0.010720074,0.015685845,-0.060678832,0.007907139,0.00237272,0.04182171,0.035219964,0.023296626,-0.032025672,-0.010909555,-0.028101886,-0.01628886,-0.026072511,-0.035513278,-0.026908046,0.014294545,0.10677407,-0.007175778,-0.03472874,0.016420223,0.04901491,0.048487976,0.03791408,0.023727499,-0.057727158,-0.0850298,-0.051647928,0.047950007,-0.021856947,-8.015512e-33,-0.002192962,0.00979346,0.0064081848,-0.010603961,0.00055241014,0.026104195,-0.013454916,0.0038139813,0.058986846,0.029332822,0.020077871,-0.09873695,0.04874134,-0.043481596,-0.017183995,-0.01841448,-0.042502575,-0.0318165,-0.062341407,0.041421797,-0.02247659,0.00558562,0.0010195951,0.10615978,-0.02572197,0.0073627727,-0.03273785,-0.0065739322,0.09925189,0.0065615787,-0.08739338,-0.009561875,-0.015554912,0.009534432,-0.03859788,-0.059985306,0.012078717,0.029390235,0.00073669676,0.008046082,-0.00084159226,0.071835086,-0.10263999,0.018883524,0.0030788004,0.010076195,0.026036473,0.031855535,0.026257383,-0.04875996,0.048647556,-0.017203351,0.052089017,-0.07065993,-0.009189663,0.0037462767,0.10358655,-0.06307954,-0.07918645,0.082939744,0.0014869003,0.024743706,0.052015837,0.040757265,0.039452426,0.033427525,-0.0032169898,0.032851007,0.05728235,0.015407572,-0.009069712,-0.12230513,-0.06068506,-0.042140096,0.09872027,-0.03530488,-0.0060869423,-0.040443588,-0.0539832,0.08604133,0.05189478,-0.043459285,0.013448082,-0.019053098,0.13222843,-0.07969197,-0.002309136,-0.0448984,-0.002975214,0.003973934,-0.11765569,-0.03973886,-0.13545822,0.02731037,-0.042563252,-5.3424355e-08,-0.024627106,-0.056903247,-0.03946611,0.014676653,0.08112883,-0.0039666966,-0.07219125,0.036082547,-0.04521828,0.009686647,0.14139916,-0.03765566,-0.05791258,-0.06833031,0.060319442,0.004070921,0.002524224,-0.013996871,0.027758982,0.08556679,0.016414454,0.03562395,-0.06964971,-0.06911377,0.056101248,0.007916256,0.023454817,0.05306123,-0.017323153,0.023144389,0.010999864,0.0028463204,0.07329664,0.02811918,-0.032886457,-0.022387514,0.015257335,0.05388176,0.03359577,-0.0020902683,0.010199337,0.024897533,-0.013853044,0.03137273,-0.024343317,0.01607743,-0.058263797,-0.048209045,0.030541386,0.01561546,0.02905715,-0.030491548,0.16071773,0.10622256,0.061434053,-0.041182723,0.049595635,-0.0112696495,-0.0493907,0.029806124,-0.008099809,-0.0540362,0.029707467,0.008149831]', 'created_at': '2024-10-25T06:35:12.352845+00:00'}, {'document_id': 'fae34e2e31e2be41c6a190d6b2fbb6cd', 'id': '10.1007_s11077-022-09452-8.pdf', 'order_chunks': 0, 'section': None, 'content': 'Vol.:(0123456789)Policy Sciences (2022) 55:137–159\\nhttps://doi.org/10.1007/s11077-022-09452-8\\n1 3RESEARCH ARTICLE\\nThe politics of\\xa0Artiﬁcial Intelligence regulation \\nand\\xa0governance reform in\\xa0the\\xa0European Union\\nRonit\\xa0Justo-Hanani1 Accepted: 4 February 2022 / Published online: 3 March 2022  \\n© The Author(s), under exclusive licence to Springer Science+Business Media, LLC, part of Springer Nature 2022\\nAbstract\\nThis paper explores political drivers and policy process of the reform of the framework for \\nArtiﬁcial Intelligence regulation and governance in the European Union (EU). Since 2017, \\nthe EU has been developing an integrated policy to tighten control and to ensure consumer \\nprotection and fundamental rights. This policy reform is theoretically interesting, raising', 'embedding': '[-0.04725859,0.020564904,-0.0150267,-0.016695505,0.045287527,0.07368921,0.011404758,-0.023962941,-0.060086455,-0.0023673477,0.019913,0.039801873,-0.018129377,-0.01888275,-0.07434498,0.020078085,-0.032720834,-0.06495506,-0.08183521,0.002604885,0.011749975,-0.03476981,-0.02258264,-0.03528231,-0.10723916,0.017923068,0.0027344131,-0.16085646,-0.06151666,-0.020317484,0.05529854,-0.040400468,-0.028124576,-0.052027356,-0.0026382946,-0.041578174,0.030576585,-0.09287824,0.027352335,-0.020408988,0.043205597,-0.13316835,-0.15379816,-0.002372168,0.061925698,0.09087525,0.044073757,-0.018353943,-0.09307388,-0.04211978,-0.074498,-0.020051116,0.05367935,-0.04044264,0.017312538,-0.06862073,-0.053285785,0.04373678,0.027556414,0.029646123,0.09274668,-0.027133733,0.018808305,-0.008085013,0.0010278847,0.03994635,-0.09318297,-0.032168716,-0.10247749,0.0060422914,0.029603597,-0.06391231,-0.014660414,0.015273439,0.06515238,0.020545172,-0.056386054,0.025374828,0.13083155,-0.082435966,0.0384114,0.010848252,-0.019175394,0.038676098,-0.037257925,-0.06955799,0.018841878,-0.09227508,0.03549989,0.020500662,0.006518587,-0.10328196,0.03742619,0.034462903,0.058522753,-0.035999764,0.0066742776,0.022568012,0.019717807,0.058937743,0.0028795677,0.026348602,-0.027579965,-0.0272755,-0.08390488,-0.0114527205,0.042375952,-0.006773794,0.024854558,0.047781285,-0.060111742,-0.010261965,0.051651217,-0.08491468,0.05530265,-0.03207205,-0.05085113,0.06181638,0.14610933,0.035102792,0.0019781208,-0.008270893,-0.02157182,0.030174853,0.08708295,0.054867428,-0.07848544,3.975464e-33,-0.10670804,-0.018423961,-0.07711719,0.05823778,-0.068106614,-0.012742365,-0.082259566,-0.017405769,-0.1100246,0.021260882,0.045219757,0.007626433,0.030968746,0.054517027,-0.0062948195,-0.022810137,0.018696524,0.06592169,0.031032478,0.02737531,0.04901884,-0.010183179,0.074417256,0.004052421,0.0867524,-0.0010305293,-0.07453195,-0.0519136,0.08027281,0.019353306,0.048701186,0.030980933,0.044016663,0.009010192,-0.03873063,0.02606986,-0.03369211,-0.014667415,-0.029483352,0.010646619,-0.007555016,0.029046537,0.0040767933,-0.0015661073,0.027230235,-0.00220794,-0.009593232,-0.033418734,0.0338482,-0.024959696,-0.013081466,0.0010700081,0.060936134,-0.016009962,0.08420977,0.024072452,-0.08829025,-0.033746775,0.009153349,-0.14612041,0.026510973,0.05297465,-0.005837502,0.045850877,0.034366738,0.013756552,-0.08389788,0.09759311,-0.0012312537,-0.040653028,0.011588614,0.0068872017,0.002891707,0.021346034,-0.07531186,0.051619958,-0.05065744,-0.015103051,-0.06907542,-0.06168479,-0.063385084,0.049893174,0.09177172,-0.06301348,0.009948122,0.016649645,0.03609993,0.055496007,0.11101823,0.022024663,-0.053567536,-0.04235518,-0.0151553955,0.028976936,-0.029652765,-7.061685e-33,0.023246722,-0.030942868,-0.053607665,-0.032449085,0.0036009713,0.07780392,-0.057047103,-0.024633335,0.060672324,0.015708027,-0.00688914,-0.13752681,-0.010238527,-0.011513077,0.01709487,-0.01300464,0.016026359,-0.0027915323,0.030830856,0.04360861,-0.02003241,0.012581233,-0.023325091,0.08723564,-0.007511421,-0.009765234,0.02340244,0.017424354,0.05143211,-0.034379322,-0.1216243,-0.033922747,-0.01874849,0.040692773,-0.067487225,0.0026420571,0.042640336,-0.056439828,-0.004423526,0.0050971,-0.016428806,-0.03445147,-0.10906419,0.024113946,-0.0008472378,0.02314848,0.059661243,0.021779237,-0.02558186,-0.08299978,0.08901246,0.000204476,0.020307321,-0.07067245,-0.04391903,0.0031649196,0.0863872,0.009210474,-0.023015235,0.13625674,0.026841968,0.041972466,3.5966423e-05,0.010475964,-0.034808956,0.024765598,-0.058843683,0.0060412646,0.050724655,-0.036779393,0.031087624,-0.062015686,-0.10704584,0.038941167,0.024883905,0.0099886125,0.02523772,0.047314446,-0.005462759,0.025449947,0.034800038,-0.09814583,0.044279918,-0.050418857,0.10379535,-0.020964578,0.014994265,-0.051520206,-0.021841425,-0.071204424,-0.0699626,-0.029244017,-0.03022555,0.026611248,0.038245942,-5.728563e-08,0.020589178,-0.03165959,-0.017474,0.041300733,0.011933717,-0.029545657,-0.058873437,-0.034497432,-0.06693335,0.002137559,0.053406324,0.014572004,0.0018584047,-0.06457948,0.05639335,0.036204435,-0.047186572,0.061689306,0.044888105,0.13627471,0.07754041,0.015531667,-0.015147798,-0.086213484,0.01679223,-0.020235399,0.05975688,-0.0018699131,-0.034287807,0.02138784,-0.061919324,0.004179375,0.023235435,0.015818764,2.420115e-05,-0.030725671,-0.046277236,0.013521816,0.016144397,-0.03656382,0.024139164,0.106214084,0.008008225,-0.026774427,0.003755835,-0.016787278,0.0016259525,-0.032964066,0.09853162,0.0129352,-0.058519572,0.02411435,0.1302207,0.03733465,0.039787155,-0.036763866,0.054425,0.0012262557,-0.082963355,0.098605394,0.026592921,0.028548582,0.036481723,-0.039240412]', 'created_at': '2024-10-25T06:35:19.638833+00:00'}, {'document_id': '18df720285e93aea5abc140a9fd662df', 'id': '10.1007_s11569-024-00454-9.pdf', 'order_chunks': 0, 'section': None, 'content': 'Vol.: (0123456789)Nanoethics           (2024) 18:11  \\nhttps://doi.org/10.1007/s11569-024-00454-9 ORIGINAL RESEARCH PAPERNormative Challenges of\\xa0Risk Regulation of\\xa0Artiﬁcial \\nIntelligence\\nCarsten\\xa0Orwat  \\xa0· Jascha\\xa0Bareis  \\xa0· \\nAnja\\xa0Folberth  \\xa0· Jutta\\xa0Jahnel  \\xa0· \\nChristian\\xa0Wadephul  Received: 16 November 2022 / Accepted: 21 May 2024  \\n© The Author(s) 2024\\nAbstract  Approaches aimed at regulating artiﬁ -\\ncial intelligence (AI) include a particular form of \\nrisk regulation, i.e. a risk-based approach. The most \\nprominent example is the European Union’s Artiﬁ -\\ncial Intelligence Act (AI Act). This article addresses \\nthe challenges for adequate risk regulation that arise \\nprimarily from the speciﬁc type of risks involved, \\ni.e. risks to the protection of fundamental rights and', 'embedding': '[-0.04809589,0.010648308,-0.021941846,-0.035086155,0.08304695,0.10624265,0.021046236,0.042721327,-0.02891088,0.06558794,0.044007372,0.040026966,0.039389838,0.054959554,-0.041620757,0.023567898,-0.06246572,-0.0042354823,-0.13588814,0.043529518,0.09087289,0.00033697244,-0.004850021,-0.006083964,-0.13058394,-0.017316056,0.033602614,-0.06734975,-0.038350966,-0.023669029,0.036873188,-0.00612025,0.046606347,-0.037009694,-0.0040234188,-0.0026050368,-0.033761762,-0.062478203,0.04443049,-0.053507987,0.002355576,-0.11162164,-0.06608394,0.012581853,-0.00085698644,-0.014840444,0.052484132,-0.05657815,-0.057896644,-0.0588234,-0.10838806,-0.012803462,0.023923373,-0.01002998,0.000935076,-0.11818464,-0.026199223,-0.07319095,-0.007957757,-0.0022086662,0.100148946,-0.08494671,-0.0053436416,-0.03345016,0.012430888,0.049956698,-0.044784237,0.023093995,-0.03961682,0.043154035,0.03229364,-0.0445458,-0.078111075,0.06125246,0.06327906,0.08062074,0.011170068,0.028251681,0.10074816,-0.13571233,0.040793963,-0.0053031547,0.08434629,0.050810948,0.002306418,0.011683672,0.010521388,-0.036380675,0.075385965,0.047465228,0.005602222,-0.14173256,0.06176161,0.0022079665,0.12203312,-0.026099263,-0.03204122,-0.0661268,-0.01025696,0.004055454,0.03439713,-0.033062037,-0.07007743,-0.0067608925,-0.043087225,-0.023216233,0.044694487,-0.083168715,0.026072154,0.062383164,-0.035358757,0.042446196,0.018769221,-0.04837552,0.012700803,0.035161782,-0.04053056,0.09203821,0.028831033,-0.00053420034,-0.018829247,0.012238306,0.02701204,0.048694734,0.021866499,0.00831392,-0.107047744,5.3151586e-33,-0.09045331,-0.032019746,-0.054531258,-0.037482478,-0.017441867,-0.069503754,-0.033224944,-0.0072553745,-0.045904096,-0.019946769,0.037285946,-0.011490661,0.0022289434,0.0009975197,0.014774599,0.013585671,-0.009376123,0.031136181,0.06898761,-0.011647902,0.04171014,-0.091081254,0.013960757,0.008298351,-0.0038606764,-0.023367604,-0.0323015,-0.07906035,0.059692126,0.036225423,-0.01608604,0.073089145,0.051162213,-0.03700956,0.041204467,0.08507595,-0.08068252,-0.0055488697,-0.02984726,0.049502913,0.032920722,0.06313024,0.018784607,0.03881432,0.07168336,-0.016108721,-0.028627945,-0.032468002,-0.051346675,-0.01776991,-0.1044081,0.0479419,0.036356658,-0.12013712,0.03432099,-0.027338557,-0.09480952,0.0029250835,-0.03455179,-0.06810863,-0.043777023,0.050152194,-0.022752875,0.08635158,-0.020455807,0.061010174,-0.06334599,0.013641721,0.0045284647,0.0118127735,-0.017001938,-0.007590271,-0.013371004,-0.013855809,-0.077651955,0.00044354083,-0.011383067,-0.05788715,0.0063070385,-0.0663808,-0.11340658,0.03470689,0.021537762,0.0012111509,-0.033147067,-0.027303893,-0.028734302,0.052644543,0.0021574043,0.006960841,0.021752074,-0.090321004,0.010835551,0.049032126,-0.027706064,-6.730813e-33,-0.09384252,-0.0110814925,-0.06986343,-0.026640378,0.03847702,0.020175759,-0.04133664,-0.061743468,0.09414764,0.05473789,-0.06323724,-0.048921626,0.03861191,-0.019683292,0.011368047,-0.01818027,-0.06330239,-0.00077558757,0.021310082,0.00701571,-0.010530203,0.04328982,-0.034008764,0.07969321,-0.017270492,0.056893487,-0.07296088,0.025832742,0.061771017,0.024114866,-0.06278324,0.04541305,-0.048761886,0.08090981,-0.018102068,-0.018723408,0.07302174,-0.058091294,-0.011679366,0.012061536,0.036278836,0.024405599,-0.064835675,-0.022832569,0.012731095,0.011655299,0.06521077,0.005991453,-0.009514609,-0.056221593,0.063647285,-0.0034323458,0.00047323812,-0.047543693,-0.048694365,-0.025213445,0.086937726,-0.026689962,0.0023451839,0.15379249,0.0461696,0.083267026,-0.006109134,0.031737234,-0.0510038,-0.003087889,-0.050534643,0.06610282,0.03847503,-0.057768065,0.091480464,-0.027333297,0.0070292116,-0.014328713,-0.011189534,-0.030227816,-0.006865717,0.024556596,-0.07490636,0.030080529,0.061324798,-0.021835344,0.016158894,-0.0139258,0.063859805,0.0845596,0.0134601835,-0.029415676,-0.018596867,0.02144905,-0.08869306,-0.006125082,-0.049252406,0.050819326,-0.10086825,-5.5725895e-08,0.07776058,-0.00016243658,0.04113547,0.022237355,0.012029906,0.011781181,-0.052434713,-0.03388299,-0.051316664,0.058072217,0.08844084,0.010167055,0.024306819,-0.008386629,-0.019882437,0.021170124,-0.022599025,0.05822524,-0.008487722,0.058031186,0.083712205,0.005778372,-0.063664526,-0.05905231,0.014139794,-0.031823598,0.058551278,0.0030317535,-0.032565165,0.10963698,-0.06603789,0.006685153,0.016280703,0.09347247,-0.026241248,-0.017840553,0.02573438,-0.03873077,-0.010493705,0.035542306,0.048234,0.10417672,0.00014800334,0.023041904,0.067904785,-0.026348209,-0.079602525,-0.06741898,0.12574011,0.041370124,-0.03847264,-0.033111993,0.058994245,0.11568548,0.08865222,0.057841543,0.012112295,0.00808502,-0.062279604,0.053635966,0.060502194,0.0029044743,0.035380512,-0.030625787]', 'created_at': '2024-10-25T06:35:31.283976+00:00'}, {'document_id': 'b69b26cb5ee8efd6be8ed57a9c75c490', 'id': '10.1007_s40804-020-00200-0.pdf', 'order_chunks': 0, 'section': None, 'content': 'Vol.:(0123456789)European Business Organization Law Review (2020) 21:731–757\\nhttps://doi.org/10.1007/s40804-020-00200-0\\n123ARTICLE\\nAccess to\\xa0Finance for\\xa0Artificial Intelligence Regulation \\nin\\xa0the\\xa0Financial Services Industry\\nJoseph\\xa0Lee1\\nPublished online: 18 November 2020  \\n© The Author(s) 2020\\nAbstract\\nThis paper discusses the design of the legal and regulatory framework for using arti -\\nﬁcial intelligence (AI) in the ﬁnancial services markets to enhance access to ﬁnance \\n(ﬁnancial inclusion). The author argues that the development of AI should continue \\nto adhere to the regulatory objectives of market safety, consumer protection, and \\nmarket integrity. However, to ensure equality and fairness, access to ﬁnance should', 'embedding': '[-0.07252503,-0.0117754415,-0.10295969,-0.014885632,-0.00516807,0.06719731,0.05727696,-0.014190033,-0.005780166,0.0015599519,-0.03713941,0.048028547,0.018498834,-0.028940404,-0.020174006,-0.021987297,0.031630658,-0.049380116,-0.07076834,0.0054037375,0.021420147,-0.0051566167,-0.04693836,-0.043289866,-0.10107723,-0.016044471,-0.0021971506,-0.023523884,-0.002071018,-0.033401005,0.027159683,-0.027311854,0.06652257,0.013794981,0.031043747,-0.026285876,0.008642484,-0.038119975,0.07292609,0.014612053,-0.03762579,-0.10908665,-0.07226161,-0.037037514,0.080060214,0.035367273,0.002053732,0.0050880034,0.0099529475,0.010412614,-0.1355627,-0.010220852,0.030971274,0.009906585,-0.033064723,-0.016491815,-0.018212695,-0.045058228,-0.030627286,-0.0064340723,0.090064436,-0.016597496,0.09355313,0.044366404,0.037407625,0.074737564,-0.109217286,0.037771218,-0.084572375,-0.058670323,0.051808942,-0.037468243,-0.061648868,0.039731562,0.026924573,0.052241392,0.00014389562,0.01439728,0.07945864,-0.08453457,-0.025130367,-0.05490227,-0.019512372,0.08558887,-0.10090935,-0.017495459,0.005543058,-0.06739358,0.08524418,0.0632974,0.073984645,-0.04599653,0.018813532,-0.05108735,0.09074429,-0.055875592,0.009525401,0.007983742,0.040380575,0.03088451,0.005258464,0.026086276,-0.022727342,0.021629065,-0.043305647,0.0041070236,0.11327476,0.010123565,0.051128183,0.0029584155,-0.041196473,0.013410211,-0.010429091,-0.074518874,0.0041287947,0.049709823,-0.09737223,0.08504322,0.11636231,0.027415736,0.0064581316,0.06935789,-0.0433191,0.02074994,0.01723817,0.0071024345,-0.11748535,3.1184178e-34,-0.15191822,-0.04805672,-0.046228737,-0.026144281,-0.007422085,-0.047468107,-0.068339236,-0.02112778,-0.11496026,0.05803736,-0.042047877,0.010859628,-0.015939392,0.001774114,0.005540987,0.036607176,0.022102077,0.031018514,-0.0040976056,-0.029332604,0.114660814,-0.087810166,0.030564696,-0.004439602,-0.01256835,0.029476067,-0.043556944,-0.068472385,0.14670211,0.01621259,0.020617599,0.024578923,0.09205083,0.04967209,-0.008602414,0.07156586,-0.07565162,-0.009255196,-0.0027812636,0.01012507,-0.039094158,0.04741887,0.019102124,-0.009182996,-0.013137246,0.050984945,-0.031557687,-0.035946414,0.019044174,0.007976331,-0.021731868,0.039630428,0.053576823,-0.07848197,0.029961258,-0.021313144,-0.091312274,-0.008280259,-0.02299383,-0.091511786,-0.039789964,-0.010932302,-0.016435668,0.039783545,-0.06848498,0.053919744,-0.04242249,0.06371529,0.046214826,-0.0006373373,-0.012497325,0.02512166,-0.0016877439,0.06458029,-0.06285944,0.028800953,0.0017061512,-0.0037249434,0.04194335,-0.057326227,-0.03498693,0.03553785,0.02907906,0.043992884,0.012091925,-0.011274973,0.033329673,0.012088478,0.071514644,0.0068018995,-0.052737676,-0.04673362,-0.012805243,0.04895226,-0.017896714,-3.7498567e-33,-0.024018174,-0.048950423,-0.06333269,-0.044971738,-0.06463141,0.056522787,-0.07270449,-0.02626588,0.06839991,0.092114426,-0.009515413,-0.11516033,0.0051316293,-0.020603988,-0.030184058,-0.062127385,-0.0122344885,-0.010519855,0.015138988,0.04049699,0.013550942,0.036723506,0.048274998,0.025626576,0.0111374715,0.050308973,-0.057995778,-0.0117341215,0.01564904,0.038500797,-0.042113177,-0.02957835,-0.043363217,0.056515284,-0.024108121,0.006685453,0.07419245,-0.032176603,-0.007400823,0.0016162252,-0.014740555,-0.034104567,-0.095500015,-0.014325005,0.022210289,0.02450563,0.019170118,-0.049184993,0.049447402,-0.09681962,0.022880647,-0.02036922,0.04335358,-0.072245166,-0.078412466,0.060465634,0.11306199,0.011895292,-0.018707719,0.07499154,0.046768382,0.017160894,0.012478575,0.045532495,-0.021019258,0.048659097,-0.052376583,0.054076217,-0.005229283,-0.08887854,0.006674647,-0.10294253,-0.025503198,0.03331678,0.009750208,0.040087875,0.012535208,-0.00068680185,-0.06978522,0.025515154,0.034141093,-0.06775621,-0.0012383218,0.060694914,0.030653337,-0.05420273,0.045829196,-0.07375503,-0.023805406,-0.016079174,-0.09083479,0.017889563,-0.06540859,0.009570614,-0.11305277,-4.8804857e-08,-0.014057417,-0.004903408,0.021198757,0.058751557,-0.016991528,-0.045394376,-0.07756824,-0.07921131,-0.0742074,-0.022927972,0.04515934,-0.034656025,-0.03766379,-0.0064211646,0.0046529407,0.0013300068,-0.040785547,0.010784075,0.038574703,0.1623454,0.09158229,0.018533718,-0.008959615,-0.060817532,0.048753053,-0.03916791,0.01891845,-0.007079212,-0.020704098,0.08419306,-0.03653719,0.029799934,0.06268049,0.0071194014,-0.053586565,0.030502575,-0.016694736,-0.0121776,-0.073351905,-0.01781726,0.012222013,0.087056465,-0.0040265084,-0.025133157,0.11052091,0.00045590813,-0.026254442,-0.014123733,0.11293514,-0.032206602,-0.038860247,-0.030864622,0.15262984,0.038302813,0.08871635,-0.018262587,0.03998267,0.036072835,-0.078871034,0.056279287,0.052723423,0.026549138,0.0912759,-0.04954423]', 'created_at': '2024-10-25T06:35:40.616513+00:00'}, {'document_id': '2b2d17181ca5762276d1d5ef21be4816', 'id': '10.1017_err.2019.8.pdf', 'order_chunks': 0, 'section': None, 'content': 'Towards Intelligent Regulation of Arti ﬁcial\\nIntelligence\\nMiriam C BUITEN*\\nArtiﬁcial intelligence (AI) is becoming a part of our daily lives at a fast pace, offering myriad\\nbeneﬁts for society. At the same time, there is concern about the unpredictability and\\nuncontrollability of AI. In response, legislators and scholars call for more transparency and\\nexplainability of AI. This article considers what it would mean to require transparency of AI.\\nIt advocates looking beyond the opaque concept of AI, focusing on the concrete risks and\\nbiases of its underlying technology: machine-learning algorithms. The article discusses the\\nbiases that algorithms may produce through the input data, the testing of the algorithm and', 'embedding': '[-0.072389014,-0.02772641,-0.023984928,0.04314691,0.04570806,0.014201981,0.01925079,-0.06438844,-0.06689383,0.038390193,-0.029336609,0.02991467,0.0101573225,-0.082370065,-0.050504383,0.043241132,-0.02070542,-0.033912558,-0.08626032,-0.06338847,0.060811672,0.009565241,-0.044631545,0.025169581,-0.015200373,0.040161524,0.0423374,-0.10184501,-0.028827576,0.011295664,0.022004649,-0.06413802,0.07097648,-0.024347859,-0.046138685,-0.0013532654,0.003192783,-0.00046239668,0.035181522,0.017732272,-0.014275367,-0.07369445,-0.06717412,-0.024831105,0.041610114,0.049523573,-0.036986344,-0.0660862,-0.057584766,0.0019939542,-0.15005715,-0.07596097,0.02508055,-0.012659418,-0.031538162,-0.11045,-0.015235004,0.017080143,-0.030237922,0.020131376,0.014808521,-0.068634965,0.014223652,0.058873598,0.03252273,0.03385289,-0.07309318,0.008583653,-0.04562673,-0.043205336,0.07043787,0.09792716,-0.023100317,0.024043951,0.028504785,0.020038988,-0.0028904115,0.031939678,0.06426664,-0.066723175,0.034140047,-0.05987347,0.0065762233,0.0458943,-0.022832582,-0.0644256,-0.02714316,-0.035166036,0.010419445,0.008156281,0.025114128,-0.02334402,0.03161807,-0.018519074,0.11905445,0.032421894,0.016454991,-0.056440227,-0.022221496,0.09095558,-0.06682218,0.052641295,0.00081851083,0.02448552,-0.018625265,0.03912026,0.08245683,-0.06547466,0.07412171,-0.014744392,-0.023118423,0.0047503966,0.043830596,-0.052530658,0.04174814,0.0061539086,-0.050744858,0.046573956,0.073485255,0.044509634,-0.040737618,0.013636255,0.02772438,0.086870864,0.025308995,-0.029256498,-0.079183795,-8.128614e-34,-0.049002975,0.004700682,-0.0089809,-0.004325048,-0.010563035,-0.069526576,-0.004895365,-0.061949782,0.0166138,0.013144347,0.022474168,0.022725917,-0.022176346,0.092981376,0.03411935,0.026948856,-0.001783139,0.08842122,0.01547617,-0.044744745,0.11987547,-0.046797052,-0.038884312,-0.046060856,-0.022522457,0.046863575,0.012233606,-0.052985243,0.06553936,0.03715595,0.039744407,0.07251515,0.04193148,-0.05063209,0.025838358,0.042860407,-0.047561172,-0.008042609,0.0065734773,0.07240574,0.03601061,-0.027963225,0.03520127,0.025954792,0.008099951,-0.008448883,0.0064039165,-0.07264234,-0.028557103,0.01294219,-0.025510553,0.08600192,0.014042184,-0.09266427,0.042982973,0.02067954,-0.05953082,0.019309517,-0.0001511684,-0.05437154,0.049840372,0.051159076,-0.025358712,0.09359927,-0.10524068,0.10207451,-0.037926145,0.049832214,0.08349968,0.016215153,-0.021465462,-0.028551608,-0.07284058,0.012997629,-0.07508742,-0.0065277056,-0.00028327058,-0.06662429,-0.008721316,-0.102395296,-0.07494676,0.028876022,0.012621447,-0.04120967,-0.045213282,-0.04229991,-0.0078081763,0.03317045,0.030926174,0.091196485,-0.046301235,-0.0063584517,-0.037297796,0.057245042,-0.06031517,-2.5134345e-33,-0.10299484,0.01010828,-0.051315233,0.025748542,-0.019044597,0.030596154,-0.06730495,0.015701802,0.08991689,0.07677059,-0.0065755267,-0.025538215,0.04958688,0.0052540903,-0.029671399,0.002732746,0.0460963,0.034773022,-0.041374594,-0.0033537352,0.02421063,0.028942687,-0.012381725,-0.029373424,0.009721249,0.011201458,-0.025733115,0.02474579,0.03895057,0.0389401,-0.04102553,-0.06905809,-0.09495497,0.043440834,-0.03638662,0.05947815,0.044536732,-0.054309316,-0.053484254,0.025652114,0.0024997434,-0.012550692,-0.1627827,-0.074224815,-0.037514295,-0.021069584,-0.018378096,0.015839137,0.020290717,-0.05846489,0.034030143,0.0049957666,0.031651426,-0.06551085,-0.095913745,0.035805732,0.084904455,0.04881449,0.0075001316,0.10971958,-0.0014286123,0.0016761678,-0.01750539,0.026611466,-0.033287648,0.03883713,-0.0008021394,0.046856254,0.045662537,-0.052435935,0.025710223,-0.08297756,-0.038384665,0.07670454,-0.010785576,0.059951965,0.00504408,0.0017623103,-0.059112035,-0.0019411927,0.043025047,-0.080003835,0.03506836,-0.04401325,0.014554973,0.010871926,0.027418165,-0.07374588,-0.09382888,0.03072143,-0.043786995,-0.023898097,-0.09408239,-0.01997732,-0.11299285,-4.1364807e-08,0.005883271,-0.003719546,0.08727689,0.021362238,0.038945578,-0.008873703,-0.04455948,-0.045325987,-0.09657898,-0.040150348,0.08046415,-0.00905763,0.008722228,-0.01618689,0.052748796,0.04555768,-0.044690818,0.0074772593,0.03636946,0.042826075,0.08982923,-0.020610971,-0.036851108,-0.052192215,0.040353652,-0.019915868,-0.03683865,0.06613449,-0.06660733,0.15766732,-0.021833126,0.082149915,0.015596842,-0.0039660395,0.039612368,0.07172953,0.01758619,-0.042317536,-0.10689948,-0.0031276066,0.017431261,0.10574148,0.015495512,-0.02408097,0.07754537,-0.025043549,0.026196733,-0.051951174,0.01297705,-0.0293514,0.023620805,-0.06552324,0.09271185,0.031672575,0.1238135,-0.04472506,0.032601018,-0.0051353388,-0.10894731,0.10612828,0.10579325,0.053268865,0.08021188,-0.053209]', 'created_at': '2024-10-25T06:35:47.232596+00:00'}, {'document_id': '2804beac2603754515cb84bebba06677', 'id': '10.1017_err.2021.52.pdf', 'order_chunks': 0, 'section': None, 'content': 'ARTICLE\\nA Sandbox Approach to Regulating High-Risk Artificial\\nIntelligence Applications\\nJon Truby* Rafael Dean Brown, Imad Antoine Ibrahim and\\nOriol Caudevilla Parellada\\nCenter for Law & Development, College of Law, Qatar University, Doha, Qatar\\n*Corresponding author. Email: jon.truby@qu.edu.qa\\nAbstract\\nThis paper argues for a sandbox approach to re gulating artificial intelligence (AI) to\\ncomplement a strict liability regime. The authors argue that sandbox regulation is an appropriate\\ncomplement to a strict liability approach, given the need to maintain a balance between a regu-\\nlatory approach that aims to protect people and society on the one hand and to foster innovation\\ndue to the constant and rapid developments in the AI field on the other. The authors analyse the', 'embedding': '[0.0032674354,0.011070071,-0.008745274,-0.08073997,0.054302696,0.09166543,0.029678663,0.019146692,-0.027478047,0.061957836,0.023631144,0.038010743,0.046532236,-0.045239367,-0.014484016,0.011698521,0.0068009705,-0.017274026,-0.04591833,-0.0016747453,0.0031178712,-0.012407202,-0.031821426,-0.034168847,-0.095562965,-0.0013276058,0.0017249695,-0.03449536,-0.051571,-0.04200543,0.04464866,0.010022004,0.048319273,-0.009599328,0.03443441,0.037470754,-0.07203216,-0.024783725,0.014567283,-0.031980466,-0.0033079495,-0.0632284,-0.04135903,0.0084634,0.025889127,0.0056648543,0.060265657,-0.040746693,-0.0038362176,-0.04229663,-0.07912244,-0.041900158,0.024265414,-0.011000311,-0.050933577,-0.0722373,0.02169468,-0.018128756,-0.028628847,-0.07830945,0.039644524,0.017595787,0.08340108,-0.018864393,0.06377883,0.0020445175,-0.00527722,0.04117997,-0.029709674,0.023873033,0.0317083,0.08272921,-0.016191106,0.07420731,-0.01812384,-0.026726963,-0.068554856,0.043752853,0.13716877,-0.06326408,0.027979763,-0.012240776,0.034851197,0.06493806,-0.043427657,0.009846194,-0.01282651,0.028474726,0.07272021,-0.009177058,0.014437605,-0.10291932,0.10399968,0.041515946,0.084017925,-0.032647066,-0.05165128,-0.05906402,-0.017922405,0.033901993,-0.007224231,-0.011055915,-0.001010528,-0.0616765,0.05950802,0.018511252,0.038918287,-0.025202472,0.049917735,0.003660892,-0.034441356,0.013182758,0.041689582,-0.055904694,0.02004243,0.047870304,-0.07535781,0.12770596,-0.008658709,-0.015957141,0.08690518,-0.018303344,-0.011913856,0.034615826,0.02117693,0.026157165,-0.11197751,3.0606776e-34,-0.053690087,-0.013078297,0.00034091648,-0.015572788,0.051291548,-0.0742512,-0.018774856,0.021507623,-0.07602076,0.03077033,-0.05904926,-0.07461399,-0.019956613,0.02535451,0.055166636,-0.0033886505,-0.057788868,-0.031555314,0.0055638766,-0.04556808,0.0111152325,-0.092759155,-0.00024974343,0.018814543,0.021099847,-0.00205342,0.030948643,-0.05118839,0.08434735,0.02329283,0.034518886,0.067451164,-0.01817219,0.033615008,-0.0021036905,0.009444456,-0.079545036,-0.0065549607,0.0005703247,0.09975677,-0.004995564,0.0008779539,0.054393556,-0.03010444,0.07233433,-0.06324654,0.029402886,0.010535635,-0.018813036,-0.062628984,-0.033701662,0.038447905,0.0059449524,-0.11045101,-0.01113384,-0.08249136,-0.09597449,0.06121276,-0.05877625,0.01127263,0.02055548,-0.0022942151,-0.013126065,0.11631933,-0.0893739,0.053680874,0.041084535,0.013001346,0.082635745,0.0041800737,0.0011704392,0.023560157,-0.030735174,0.011363266,-0.16694865,-0.0062619513,0.033885155,-0.1016737,0.010054777,-0.094479874,-0.07777281,0.060358252,0.02720983,0.019371225,-0.008255856,0.009778204,-0.007899608,0.06615418,0.051596854,0.035290446,-0.02248449,-0.025948543,-0.03599505,0.06723596,-0.0058165756,-2.1977898e-33,-0.09654769,-0.005425101,-0.09946225,-0.03378454,0.012044759,0.044737607,-0.035719965,-0.0982899,0.03636206,0.040644515,-0.119771704,-0.07171397,0.060313564,0.026624167,0.048934605,-0.050177786,-0.03916743,-0.07355507,0.016463712,-0.035845302,0.04162826,0.029096015,-0.035796713,0.025780248,-0.032813825,0.0074195997,-0.08765897,0.006895185,0.042152118,0.09710809,-0.029740535,-0.03274052,-0.07155528,0.037549987,-0.019329302,-0.023223734,0.06383934,-0.054238237,-0.06463722,0.041456293,-0.018527485,-0.017747872,-0.09935342,-0.08047797,-0.0043728827,-0.0015107514,0.016412765,-0.023391927,0.044123422,-0.063818656,0.01900013,-0.03871952,0.016036263,-0.06844523,-0.11104487,0.067291796,0.04939388,0.059183653,0.03343732,0.070958704,-0.037568733,-0.039771516,-0.020444676,0.03599175,-0.036194548,0.0572089,0.017934877,0.09126808,0.015453672,-0.09080246,0.031939853,-0.010001294,-0.081025615,0.040578943,0.01655494,0.017329544,-0.037673295,0.03328975,-0.056800775,0.018629046,0.05750896,-0.039033014,0.01950027,0.026595723,0.02108817,0.038916387,0.009742919,-0.016279375,0.004060205,0.024346495,-0.06746174,-0.027974106,-0.09159373,0.002181179,-0.14125824,-4.2898822e-08,0.03646101,0.062328167,0.044341408,0.06702819,0.039829757,0.021977827,-0.011555504,0.012584885,-0.04373271,0.004307783,-0.014727255,-0.024648035,0.059342783,0.0106497435,0.023987394,0.08402932,-0.054505937,0.10907116,-0.026522972,0.06775464,0.12217601,0.02059123,-0.03967651,-0.025760056,-0.012858128,-0.030616665,0.022325233,0.010617033,-0.024280835,0.13662878,-0.057717163,0.038875222,0.017921792,-0.028856236,-0.0010571129,0.0062984247,0.010327954,-0.015876902,-0.0024918243,0.016992455,0.035274375,0.04506822,0.07160789,-0.0294033,0.05393103,-0.0843598,-0.07112764,-0.09181271,0.10749861,-0.015478116,0.0402579,-0.017822728,0.058648136,0.12211016,0.13173512,-0.037160214,0.07185645,-0.012733254,-0.047190137,0.06570669,0.04416642,0.014406966,0.088705644,-0.05532762]', 'created_at': '2024-10-25T06:35:54.601641+00:00'}, {'document_id': 'ea089297bd30fff436c7d9ada256ce0e', 'id': '10.1017_err.2022.14.pdf', 'order_chunks': 0, 'section': None, 'content': 'EDITORIAL\\nArtificial Intelligence Risks and Algorithmic Regulation\\nPedro Rubim Borges Fortes1, Pablo Marcello Baquero2,* and David Restrepo Amariles2\\n1UFRJ, Rio de Janeiro, Brazil and2HEC Paris, Jouy-en-Josas, France\\n*Corresponding author. E-mail: baquero@hec.fr\\nAbstract\\nIn this editorial article, we aim to map out the central features of algorithmic regulation and its\\nconceptual basis –seeking to bring together different strands of the literature relating to the topic\\nthat have often remained apart. We then reflect on the ways through which algorithmic law could\\nevolve to address the challenges of artificial intelligence in the legal domain, particularly by exam-\\nining the potential of applying a “prudential ”test in order to determine whether automated', 'embedding': '[-0.034596857,-0.0074852174,-0.068420805,-0.051315147,-0.008130488,0.019901173,-0.017474776,0.042670425,-0.023161396,0.08954023,-0.033024844,0.040874448,0.034729235,0.01780319,-0.01476646,-0.0042149858,-0.028844079,-0.0090560205,-0.05734827,0.01063214,0.06392201,-0.012852229,-0.09171908,-0.033390343,-0.0038741522,-0.008458004,-0.036587957,-0.0975492,-0.012245051,0.0057592294,0.035509218,0.00029566398,0.11352618,0.04380989,0.05388382,-0.04567458,-0.019997768,-0.026214581,0.022594249,0.043065876,-0.013632074,-0.10889133,-0.055169553,-0.03144249,0.021257168,0.04145154,-0.0057343342,0.06659479,-0.06936243,-0.019426106,-0.1567526,-0.04277951,0.004978878,-0.005446399,-0.07737555,-0.09421727,0.0876081,0.04080925,-0.027789542,-0.021837398,-8.814338e-07,-0.03507292,-0.021512488,0.027688863,0.051665492,0.058975972,-0.054834805,-0.024954394,-0.025408713,0.027705217,0.049830865,0.019539451,0.00043872074,0.06479217,0.044285964,0.0244106,-6.120798e-05,0.05781398,0.08160283,-0.14021106,-0.017957611,-0.07046552,-0.029173527,0.03822483,-0.01832872,-0.013853871,0.008827878,-0.005025837,0.10572108,-0.02614308,0.054608487,-0.06708226,0.047373693,-0.040073704,0.08447631,0.06866808,-0.065331295,-0.02697197,0.005625183,0.0147537105,-0.010703991,-0.011094592,-0.041332897,-0.044053633,0.035130642,0.032952778,0.09657524,-0.045891114,0.105003156,-0.059131477,-0.0034236973,0.10102967,0.106001526,-0.045062106,-0.017748501,0.03427153,-0.092060186,0.12869915,0.030011801,-0.0051652584,-0.0013100224,0.031810064,-0.027440192,-0.0016239164,0.035631936,-0.013905793,-0.10765801,2.910986e-33,-0.094931714,-0.011077079,0.014714631,-0.022418829,-0.019847563,-0.06749034,-0.06919907,-0.017530214,-0.036005847,0.0479498,0.010463433,-0.003409398,-0.00638598,0.035970353,0.043029133,0.041083224,0.0037791468,-0.019489719,0.0072777807,-0.022632217,0.09138681,-0.0694087,-0.00897767,-0.025335832,-0.08293118,0.03776728,-0.015880814,-0.1067934,0.04226862,0.029416094,-0.04530792,0.08217665,0.019658929,0.05910071,0.012327379,0.07728802,-0.046074703,0.016852153,0.014368601,0.12536252,-0.036716945,-0.016403507,0.04026185,0.02471084,0.016544322,-0.058185514,-0.018296668,-0.054074407,0.0023258203,0.007425834,0.004594226,0.0032648083,0.06759592,-0.07542544,0.017710336,0.033258554,-0.123965636,0.03642484,-0.004573481,-0.002857303,0.044769064,0.034299515,0.010160982,0.07618785,-0.10185067,0.009415373,-0.028314816,0.014268744,0.10185962,0.04432025,-0.024023209,0.039976873,-0.07465128,0.029041281,-0.031696264,-0.04748639,0.06891142,-0.030041154,-0.009244564,-0.07138775,-0.057608612,0.048968337,0.0023930515,0.039721124,0.025548197,-0.037911776,-0.01727614,0.08404098,-0.051296152,0.016497489,-0.051703036,-0.061095715,-0.06751935,0.083285466,0.053832725,-6.208376e-33,-0.1261754,-0.046903748,-0.04572994,0.047147196,-0.0005145048,-0.030994503,-0.05499808,-0.08385295,0.028832395,-0.0110202255,-0.0394679,-0.109851435,0.07408688,0.018597102,-0.03380093,-0.05491472,-0.07619309,-0.040970866,0.019094456,0.0262525,0.03670948,0.066928625,-0.055701826,0.02120543,-0.0060911044,0.015945818,-0.06503144,0.011146549,0.014937759,0.06359988,-0.04431631,0.051369485,-0.102440946,0.097321086,-0.010034096,0.03287252,0.044999104,-0.039711747,-0.023176497,0.022040617,-0.031818885,0.013582085,-0.023587577,-0.05920587,0.06419312,-0.006612286,0.0072027794,-0.030388298,0.071339935,-0.06494101,0.038866602,0.01317517,0.04240926,-0.011958668,-0.09895615,0.0398774,0.039728187,0.01996034,0.00635825,0.13912536,-0.024284663,0.0014699979,-0.004231878,0.055023074,-0.04064831,0.021937061,-0.023108387,0.08418427,0.014074076,-0.05614169,0.014860184,-0.045091882,-0.080570415,0.035386756,-0.008226329,0.049902245,-0.021694448,0.03192391,-0.05081445,0.004929078,0.07117544,-0.02526008,-0.02547931,0.027181672,-0.04093714,0.023338884,-0.011638428,-0.0850023,0.00837446,0.01912702,-0.013959935,-0.03475496,-0.033305526,-0.021860445,-0.11429066,-5.4244126e-08,-0.00015263977,0.028371163,0.062043484,0.05565807,0.04959529,-0.03274805,-0.026768394,-0.059518453,-0.11332362,-0.04552972,0.0549273,-0.0100107,0.015573075,-0.0026338517,0.009304696,0.008035322,-0.015003432,0.024840888,-0.010987019,0.08395586,0.046467558,-0.023658076,-0.051970825,-0.051631026,0.010967583,-0.021406274,0.05438849,0.03666968,-0.02878573,0.13443004,0.0047368314,0.05657669,-0.022058701,-0.0031619344,-0.0125522455,-0.008889657,-0.021775533,-0.013879338,-0.04976598,-0.043693926,0.0013232104,0.057991628,0.024134792,-0.014053149,0.074412,-0.05976134,-0.015317172,-0.027950373,0.113703765,-0.02607685,0.029630948,-0.06990541,0.039157666,0.0022642247,0.08749458,0.0027995752,0.06535379,-0.02188534,-0.11217004,0.035215892,0.079220794,0.072118364,0.06913746,-0.07784729]', 'created_at': '2024-10-25T06:36:00.91363+00:00'}, {'document_id': '684dcd89c7e3ff1c4697405ff2bb849c', 'id': '10.1017_err.2023.1.pdf', 'order_chunks': 0, 'section': None, 'content': 'ARTICLE\\nRisk Management in the Artificial Intelligence Act\\nJonas Schuett\\nCentre for the Governance of AI, Oxford, UK; Legal Priorities Project, Cambridge, MA, USA; Faculty of\\nLaw, Goethe University Frankfurt, Frankfurt am Main, Germany\\nEmail: jonas.schuett@governance.ai\\nAbstract\\nThe proposed Artificial Intelligence Act (AI Act) is the first comprehensive attempt to regulate arti-\\nficial intelligence (AI) in a major jurisdiction. This article analyses Article 9, the key risk management\\nprovision in the AI Act. It gives an overview of the regulatory concept behind the norm, determines\\nits purpose and scope of application, offers a comprehensive interpretation of the specific risk man-\\nagement requirements and outlines ways in which the requirements can be enforced. This article can', 'embedding': '[-0.0063771163,-0.04142594,-0.032273673,-0.019509237,0.02352222,0.08676036,0.039882813,0.04555224,-0.08198228,0.08201591,0.015736058,0.009877563,0.03480691,0.026301038,-0.034081306,0.06507869,-0.05194579,-0.09198433,-0.06705864,0.03546064,0.087920696,0.030925019,-0.053639013,-0.056155216,-0.083786875,-0.012471733,0.014568365,-0.03644086,-0.022601238,-0.0013995696,0.04286944,-0.0056400923,0.122522384,-0.012019608,0.003865553,0.013251512,-0.039845508,-0.045433987,0.06218587,-0.028580695,0.022084618,-0.110952795,-0.009032189,0.0033740911,0.031619366,0.079680726,-0.026554387,-0.076008916,-0.021044314,0.008109292,-0.14350061,-0.034965232,0.023504503,0.007951648,-0.028532254,-0.08661369,-0.004035304,-0.012554516,-0.0495672,-0.035433132,0.06652067,-0.035176337,0.05852351,-0.002377656,0.03604147,0.03152321,-0.0546205,-0.014600999,-0.031830125,-0.004135112,0.03673232,-0.012319437,-0.083678596,0.040342398,0.015739458,0.01884104,-0.039549693,0.018332623,0.096829884,-0.10041803,-0.011821664,-0.008513836,0.062813334,0.057352144,-0.032559138,-0.0031441238,0.0074914824,-0.07462218,0.07510366,0.040828682,0.058626432,-0.13416368,0.032223478,0.059166905,0.08656448,-0.023625465,-0.038582906,-0.021791676,-0.06619942,-0.0064083147,-0.033990975,-0.02198966,-0.058173105,0.00171188,-0.009748437,-0.016223032,0.065036155,-0.07176775,0.05489801,0.0012726443,-0.0044018445,0.031338867,0.035687678,-0.10869512,0.0357057,0.02924869,-0.06663583,0.107361116,0.0651548,-0.009624887,-0.0024632136,0.024849407,0.018696664,0.03088049,0.011986342,0.009656963,-0.051201086,-1.6418457e-33,-0.09371408,-0.05943056,-0.07956834,-0.025655309,-0.005335061,-0.115602985,-0.0066178557,-0.0017916377,-0.03744837,-0.041385144,-0.008636899,-0.015089035,-0.01420036,-0.033520926,0.040325116,0.04904639,0.015890228,0.03608685,0.0296245,-0.031377472,0.043840565,-0.085602924,0.0008124975,-0.020252027,0.0064506736,0.023527117,0.022811923,-0.040186033,0.06476371,-0.0046400726,0.014236363,0.11264995,-0.021797186,-0.0627754,0.043269373,0.09064625,-0.08144987,0.03983929,-0.007250109,0.07219513,-0.00055003795,0.02159556,0.02502905,0.02929642,0.057859533,-0.0058072247,0.023890184,-0.06296867,0.029585088,-0.03436667,-0.038447652,-0.0009729662,0.065177254,-0.05526327,0.024712639,-0.018602047,-0.06220121,0.017905694,-0.03083234,-0.035495732,0.003950771,-0.0114646675,0.017095514,0.12818132,-0.035413988,-0.011361621,0.006452428,0.014407569,0.051205333,0.007917763,-0.0064662877,0.0062949583,-0.038939882,-0.026192194,-0.13162923,0.0043403376,0.0009227556,-0.07711284,-0.011432244,-0.05646508,-0.09623546,0.027261326,0.0016915912,-0.02364498,0.050147932,-0.014889404,-0.008517157,-0.018328385,0.008366221,0.031334814,-0.006465962,-0.077377826,-0.01753497,0.08310854,-0.0027542748,-9.1182775e-34,-0.10085817,-0.01784036,-0.109378025,0.017795913,0.007567757,0.013157035,-0.048428714,-0.032213833,0.071355134,0.08105943,-0.07574866,-0.07473468,0.05700838,0.03125636,0.056320775,-0.0068403194,-0.04393385,-0.0027604676,0.0037716022,0.0048721475,0.034959216,0.071056046,-0.012147724,0.045576338,-0.009561764,0.048269372,-0.03956943,0.042170122,0.060605846,0.008714736,-0.03338697,-0.0011481975,-0.06206839,0.101637095,-0.044796064,-0.015816737,0.08727867,-0.11264654,0.02686295,0.044783622,0.044758588,0.01309356,-0.06735467,-0.037911486,-0.013881281,0.028215038,0.08498295,0.01995638,-0.02927219,-0.10642837,0.044639364,-0.035847604,-0.01389406,-0.09007578,-0.09621943,0.020822527,0.038545888,0.0028849677,-0.019424476,0.12723227,0.045019064,0.040827245,-0.009726543,0.036095653,-0.059580702,0.06431117,-0.027279792,0.010344313,-0.011817367,-0.03768785,-0.0062184017,-0.058734544,-0.035677694,0.030993214,-0.032984808,-0.044005793,0.04616445,0.04824628,-0.028127283,-0.009039605,0.049348507,-0.030655615,0.0059929895,0.04240052,0.03152572,0.06765016,0.011895889,-0.07763,-0.030673932,0.0614368,-0.08399346,0.021355912,-0.05653421,0.0009701134,-0.124716565,-4.0144602e-08,0.045122247,0.015706364,0.0756901,-0.011258121,0.03823312,-0.00022127164,-0.06327675,-0.03314711,-0.03564794,0.035371657,0.06533457,-0.0058315857,0.014389165,-0.02152491,0.0067922343,-0.017833741,-0.027718874,0.0769921,-0.0075284103,0.11898617,0.09646987,-0.040094897,-0.029915707,-0.052095823,0.032874223,-0.034234155,0.06413249,0.0493714,-0.05230777,0.12025814,-0.04640405,0.055948194,0.06625105,0.056190267,-0.0015167699,-0.012220997,0.06439294,-0.0549149,-0.02803209,-0.0037248104,0.02489176,0.08044535,0.03308412,0.009345295,0.056651637,0.01898295,-0.077352,-0.066836685,0.1432944,-0.017322151,-0.03142467,-0.010790583,0.060182337,0.15048452,0.07656073,-0.012771144,0.057710312,0.0007129554,-0.05748803,0.037435688,0.04179499,0.02145341,0.020525727,-0.058942463]', 'created_at': '2024-10-25T06:36:09.295737+00:00'}]\n"
     ]
    }
   ],
   "source": [
    "response = (\n",
    "    supabase.table(\"documents_chunks\")\n",
    "    .select(\"*\")\n",
    "    .eq(\"order_chunks\", 0)\n",
    "    .execute()\n",
    ")\n",
    "\n",
    "print(len(response.data))\n",
    "print(response.data)"
   ]
  },
  {
   "cell_type": "code",
   "execution_count": 17,
   "id": "741ab3a1",
   "metadata": {},
   "outputs": [
    {
     "name": "stdout",
     "output_type": "stream",
     "text": [
      "102\n"
     ]
    }
   ],
   "source": [
    "response = (\n",
    "    supabase.table(\"documents_chunks\")\n",
    "    .select(\"*\")\n",
    "    .eq(\"id\", \"10.1017_err.2019.8.pdf\")\n",
    "    .execute()\n",
    ")\n",
    "\n",
    "print(len(response.data))\n",
    "#print(response.data)"
   ]
  },
  {
   "cell_type": "markdown",
   "id": "c3f01f1a",
   "metadata": {},
   "source": [
    "# Outcomes"
   ]
  },
  {
   "cell_type": "code",
   "execution_count": null,
   "id": "02f2d4bb",
   "metadata": {},
   "outputs": [],
   "source": [
    "data = supabase.rpc('hello_world3').execute()\n",
    "print(\"Hello World:\", data)"
   ]
  },
  {
   "cell_type": "code",
   "execution_count": 24,
   "id": "b9113120",
   "metadata": {},
   "outputs": [
    {
     "name": "stdout",
     "output_type": "stream",
     "text": [
      "embedding:\n",
      " [0.015590731054544449, -0.0014040754176676273, -0.0017040095990523696, -0.03447266295552254, 0.09766996651887894, 0.10837697237730026, 0.01510717160999775, 0.054916199296712875, 0.004265499766916037, 0.06800765544176102, 0.01796419359743595, 0.025512173771858215, 0.013039699755609035, -0.005051808897405863, -0.03730042278766632, 0.022326044738292694, -0.013636360876262188, -0.02060031332075596, -0.12669864296913147, -0.037537068128585815, 0.049131546169519424, -0.04182096943259239, -0.04689469933509827, 0.010040856897830963, -0.06738842278718948, -0.001647068769671023, 0.016694990918040276, -0.08428200334310532, -0.010556918568909168, -0.04807668924331665, -0.051953498274087906, -0.049975279718637466, 0.08247032016515732, -0.04592299833893776, -0.007842435501515865, -0.022438373416662216, -0.007997633889317513, -0.028029626235365868, 0.06806881725788116, -0.03452880308032036, 0.013360774144530296, -0.07295720279216766, -0.03219093009829521, -0.040609512478113174, 0.060356490314006805, 0.027455216273665428, 0.0017914517084136605, -0.071039579808712, -0.04450332000851631, 0.02867402695119381, -0.055319562554359436, -0.05385158956050873, 0.03384704515337944, 0.00985313206911087, -0.005495693534612656, -0.14243720471858978, -0.007100666407495737, -0.025046244263648987, 0.017753571271896362, 0.047986604273319244, 0.0393359437584877, -0.07656557857990265, -0.04018532112240791, 0.028240099549293518, 0.09316376596689224, 0.015461921691894531, -0.04875515401363373, -0.0034517860040068626, -0.003005232661962509, 0.06353791803121567, 0.03673721104860306, -0.057602833956480026, -0.06895958632230759, 0.001807610155083239, 0.0369514599442482, -0.0077787903137505054, 0.006304014474153519, 0.007805914152413607, 0.10367079079151154, -0.09877625852823257, 0.025579024106264114, 0.008301562629640102, 0.0488346591591835, 0.05746800824999809, 0.00805461686104536, 0.025611303746700287, 0.0029627447947859764, -0.0444091372191906, 0.02225315198302269, 0.05186114460229874, -0.0060565052554011345, -0.1045728251338005, 0.08598043769598007, 0.007344507612287998, 0.07719220966100693, 0.07445055991411209, -0.07141713798046112, -0.10111392289400101, -0.005376876797527075, -0.00937073677778244, 0.01417310256510973, 0.01800825074315071, -0.010884772054851055, 0.05197075009346008, -0.039169345051050186, 0.009828547015786171, 0.06884302943944931, -0.10071878880262375, 0.024848153814673424, 0.04524374380707741, -0.04772980883717537, 0.042980559170246124, 0.07093314081430435, -0.05447623133659363, 0.054833050817251205, 0.01383468508720398, -0.0019865112844854593, 0.04101783037185669, 0.013057909905910492, 0.03695112466812134, -0.0777452141046524, -0.018594948574900627, 0.061913516372442245, 0.057473551481962204, 0.0017418741481378675, 0.026162749156355858, -0.162245512008667, -4.5449982142604954e-33, -0.01875416375696659, -0.011624729260802269, -0.04248789697885513, -0.001825873856432736, 0.01853315532207489, -0.0681353285908699, -0.028148340061306953, 0.01250541489571333, 0.008415930904448032, 0.004587655421346426, -0.021367818117141724, -0.011309291236102581, -0.020481957122683525, 0.0058174231089651585, 0.06564182043075562, -0.008642095141112804, 0.0013284331653267145, 0.04026886075735092, 0.005128148943185806, 0.01753109320998192, 0.054112110286951065, -0.08428739011287689, -0.0074166785925626755, 0.015069989487528801, 0.01158240344375372, -0.020333318039774895, -0.04657626152038574, -0.05746982619166374, 0.07100269198417664, 0.027004072442650795, -0.06189586594700813, 0.06190047413110733, -0.006292189471423626, -0.010382336564362049, 0.007579321041703224, 0.07664162665605545, -0.06873070448637009, 0.04294100031256676, -0.05579656362533569, 0.07577665895223618, -0.007444483693689108, 0.04218628630042076, 0.016065234318375587, 0.01923098973929882, 0.08603530377149582, -0.04448658972978592, 0.05772895738482475, -0.0872456282377243, -0.09036050736904144, -0.012933583930134773, -0.11481320858001709, 0.08144304901361465, 0.02163074165582657, -0.11412256211042404, 0.04549279063940048, -0.022500427439808846, -0.05972845479846001, -0.06434976309537888, -0.04509172588586807, -0.01532557513564825, -0.003189126495271921, 0.0443899929523468, -0.04023975133895874, 0.09517816454172134, -0.04190608859062195, 0.10002212226390839, 0.00702833104878664, -0.026478338986635208, 0.03436816483736038, 0.004937775898724794, -0.017541470006108284, -0.0354800783097744, -0.07206590473651886, -0.02368100732564926, -0.0707683265209198, 0.01242678053677082, -0.08181940019130707, -0.07489769160747528, -0.03556095063686371, -0.08551250398159027, -0.06476729363203049, -0.008878925815224648, 0.018175514414906502, 0.02302602492272854, -0.009578132070600986, -0.0479457825422287, 0.005290096625685692, 0.021659132093191147, -0.024268638342618942, 0.045847419649362564, -0.030057838186621666, -0.014794744551181793, 0.002808275865390897, 0.10643315315246582, -0.047406718134880066, 2.0764442818283525e-33, -0.13265149295330048, 0.01995914615690708, -0.07239066064357758, -0.045889124274253845, -0.020930718630552292, 0.023226918652653694, -0.004042384214699268, -0.06561940163373947, 0.10136909782886505, 0.023130225017666817, -0.05924329161643982, -0.0205488670617342, 0.002538085449486971, 0.01909492537379265, -0.00509603088721633, -0.07055137306451797, -0.01232099812477827, 0.047121312469244, 0.0179583802819252, -0.0690835565328598, 0.04943416267633438, 0.0461902990937233, -0.04331637918949127, 0.030224639922380447, -0.018930092453956604, 0.06918395310640335, -0.16132158041000366, -0.012348741292953491, 0.021222397685050964, 0.02702532336115837, -0.03367288038134575, 0.08451169729232788, -0.02868376486003399, 0.10595319420099258, -0.011267682537436485, 0.03967135027050972, 0.009553804062306881, -0.023465285077691078, 4.9981303163804114e-05, -0.005806932225823402, 0.07960440218448639, 0.023008333519101143, -0.012460258789360523, 0.022656025364995003, 0.05477626249194145, -0.019294271245598793, 0.031854890286922455, 0.012229416519403458, 0.025228358805179596, 0.032028406858444214, -0.002718344796448946, -0.03933300822973251, 0.0009371156338602304, -0.0002639207523316145, -0.07507103681564331, 0.03101363778114319, 0.0992647185921669, -0.026845471933484077, 0.007978813722729683, 0.11239703744649887, -0.026211770251393318, 0.06021702289581299, -0.01747857592999935, 0.0010898896725848317, -0.02644916996359825, 0.008954085409641266, 0.010663716122508049, 0.08864369988441467, 0.1000218465924263, -0.04666253924369812, 0.07162878662347794, -0.018270310014486313, -0.05589263513684273, 0.048928000032901764, -0.05626298859715462, 0.03525833785533905, -0.018819941207766533, 0.031050996854901314, -0.031865768134593964, 0.02000942826271057, -0.01782679557800293, -0.027904093265533447, 0.05054738000035286, -0.013364285230636597, -0.03181766718626022, 0.059330105781555176, 0.032524555921554565, -0.08942122012376785, -0.016500597819685936, -0.015349862165749073, -0.0940503478050232, -0.020770657807588577, -0.07940124720335007, 0.025701286271214485, -0.0940183475613594, -1.4441855711311291e-08, -0.0014604282332584262, -0.01299431174993515, 0.09070252627134323, 0.048057734966278076, 0.05577798932790756, 0.004581752698868513, -0.03977334499359131, 0.007611142937093973, -0.04375126585364342, 0.07224071770906448, 0.03391387686133385, 0.024070871993899345, 0.008761256001889706, -0.002304179361090064, 0.03629673272371292, 0.04635969176888466, -0.026824740692973137, 0.0695107951760292, -0.012454847805202007, -0.0009235949837602675, 0.08102232217788696, -0.0027454879600554705, -0.045989129692316055, -0.04418894648551941, 0.0036331862211227417, -0.06487426161766052, 0.06524760276079178, 0.09788083285093307, -0.04591623321175575, 0.14225126802921295, -0.022138815373182297, 0.06386873126029968, 0.017432352527976036, 0.0364818200469017, -0.05595071241259575, -0.006411264650523663, 0.028917687013745308, -0.023669596761465073, -0.028812117874622345, 0.015606990084052086, 0.03731212764978409, 0.10070902854204178, 0.05214991420507431, 0.011194913648068905, 0.0844922885298729, -0.02397766150534153, -0.04663578048348427, -0.052771713584661484, 0.11193913966417313, -0.03525432571768761, -0.005956992972642183, 0.0034675851929932833, 0.06331892311573029, 0.10641878843307495, 0.11117915064096451, 0.011113859713077545, 0.009463123045861721, -0.02882261946797371, -0.06009495258331299, 0.037180282175540924, 0.013043464161455631, 0.044276684522628784, 0.01825711876153946, -0.060388270765542984]\n",
      "length embedding:\n",
      " 384\n"
     ]
    }
   ],
   "source": [
    "from collections import namedtuple\n",
    "\n",
    "# Define the namedtuple\n",
    "Document = namedtuple('Document', ['page_content'])\n",
    "\n",
    "# Create an instance of Document\n",
    "#doc = Document(\"How can AI Regulation be defined?\")\n",
    "doc = Document(\"What are central risks of AI Regulation?\")\n",
    "\n",
    "# Pass the object inside a list\n",
    "embedding = di.create_embeddings([doc], LMM='all-MiniLM-L6-v2', verbose=False)\n",
    "print(\"embedding:\\n\", embedding[0].tolist())\n",
    "print(\"length embedding:\\n\", len(embedding[0].tolist()))"
   ]
  },
  {
   "cell_type": "code",
   "execution_count": 25,
   "id": "6a74c548",
   "metadata": {},
   "outputs": [],
   "source": [
    "match_threshold = 0.7  # Replace with your desired threshold\n",
    "\n",
    "# Call the RPC function\n",
    "data = supabase.rpc('match_documents_chunks', {\n",
    "    'embedding': embedding[0].tolist(),\n",
    "    'match_threshold': match_threshold,\n",
    "    'match_count': 5\n",
    "}).execute()"
   ]
  },
  {
   "cell_type": "code",
   "execution_count": 26,
   "id": "c679049e",
   "metadata": {},
   "outputs": [
    {
     "data": {
      "text/plain": [
       "5"
      ]
     },
     "execution_count": 26,
     "metadata": {},
     "output_type": "execute_result"
    }
   ],
   "source": [
    "len(data.data)"
   ]
  },
  {
   "cell_type": "code",
   "execution_count": null,
   "id": "2ce06c8a",
   "metadata": {},
   "outputs": [],
   "source": [
    "data.data"
   ]
  },
  {
   "cell_type": "code",
   "execution_count": 43,
   "id": "e2763710",
   "metadata": {},
   "outputs": [
    {
     "name": "stdout",
     "output_type": "stream",
     "text": [
      "ence, philosophy, law, risk research and technology \n",
      "assessment.\n",
      "After some light is shed on the characteristics of \n",
      "AI applications as objects of risk regulation (Sec -\n",
      "tion “ Applications of artiﬁcial intelligence as objects \n",
      "of risk regulation ”), the European approach to AI \n",
      "regulation (the AI Act) is outlined in Section “ Risk \n",
      "regulation in the European Artiﬁcial Intelligence \n",
      "Act”. Section “ Operationalising risks: options and \n",
      "challenges ” discusses the need for the risks to fun -\n",
      "damental rights and societal values to be interpreted \n",
      "and operationalised given that the AI Act is seen as \n",
      "a regulatory framework that needs to be ﬁlled with \n",
      "normative choices. The normative ambiguities in\n",
      "[-0.004556655,0.0026064916,-0.06992638,-0.05402437,0.04051935,0.096363835,0.08717033,0.03598786,-0.027202839,0.037706353,0.036698196,-0.020172024,-0.0071080923,0.039583758,-0.023244157,0.02948049,-0.02397024,-0.0676223,-0.1172657,0.06490634,0.07891032,-0.023304693,-0.033173647,-0.027152205,-0.09948206,-0.029661762,0.028947223,-0.08334988,-0.03203145,-9.340859e-05,0.019691618,-0.016959172,0.06113675,-0.02733593,-0.0056210617,-0.020870589,-0.011797317,-0.07306805,0.08056455,-0.042183217,-0.0027304054,-0.08773054,-0.07120318,-0.010879146,0.03612493,0.03664185,-0.006242294,-0.08084773,-0.0267269,-0.007898018,-0.07855936,-0.020809047,-0.009144744,-0.03587456,-0.014561042,-0.0834581,-0.04209982,-0.041009177,0.016432073,0.004583638,0.0760979,-0.06943207,0.069163874,0.029563729,0.031931445,0.023236487,-0.06939902,-0.008500744,-0.05905451,0.0038269341,0.016552553,-0.028760547,-0.055819556,0.05650754,0.03520289,0.03613884,-0.018450253,-0.010774506,0.05151977,-0.102364644,0.032321386,-0.039904002,0.056212943,0.02592836,-0.012139383,-0.00864199,-0.0019383003,-0.08791702,0.09686623,0.07521287,-0.014477766,-0.13548753,0.0272651,0.026016654,0.11212063,0.0052845906,-0.06582585,-0.01693354,-0.07116871,-0.0054839468,-0.015263992,-0.011292277,-0.050731417,0.013438865,-0.043958727,-0.041545015,0.04340404,-0.09468918,0.064945444,0.040722944,-0.06741385,0.025534248,0.08672343,-0.11661536,0.051261906,0.044536933,-0.082023725,0.075672194,0.06635958,-0.017648822,-0.020135786,0.013642431,0.05691472,0.07966419,0.032419182,-0.00010269421,-0.06781426,-8.017925e-34,-0.06972863,-0.088012576,-0.031468075,-0.03020024,-0.0019517386,-0.066644296,-0.027338678,-0.027133102,-0.047597438,-0.016917653,0.0042150863,-0.0003244433,0.006407952,0.017082104,0.029037831,0.03890817,0.012188402,0.034467213,0.02088352,-0.0055656116,0.058386795,-0.08304604,0.03197734,-0.0060750204,-0.047342308,-0.015261253,-0.022698406,-0.10084646,0.063789055,0.019001361,-0.023645101,0.088319376,-0.0050013578,-0.071073845,0.029620476,0.074990354,-0.066221885,0.019779157,-0.0139230825,0.03130198,0.0070276973,0.04584384,-0.0035253614,0.059093285,0.045187846,-0.020456936,0.02832843,-0.05656043,-0.036732018,-0.010981867,-0.07369702,0.039537136,0.07679492,-0.09510329,0.060435295,0.0036225095,-0.051865406,0.042197816,-0.041707765,-0.090970695,-0.030060966,0.005819036,0.0008614503,0.0702767,-0.04177686,0.042374827,-0.034315854,0.009962123,0.01801615,-0.024373485,-0.014228615,0.008307162,-0.019573951,-0.019937105,-0.100376844,0.047212977,-0.037481487,-0.052174754,-0.031361964,-0.07314832,-0.08977512,0.021261936,0.014160306,0.008002439,0.041663792,-0.023148414,0.013123406,-0.001998541,0.028587436,0.051032443,-0.01968496,-0.014370342,-0.009457331,0.05413993,-0.02214391,-2.3773776e-33,-0.09800841,-0.013377193,-0.116508566,-0.019441418,0.05469277,0.03061997,-0.0531421,-0.070318215,0.07984907,0.09061164,-0.058850754,-0.07585806,0.039117582,-0.013213296,0.047042884,-0.053504854,-0.05046643,0.031621072,0.0027386833,-0.030265281,-0.004946215,0.01570124,-0.020743083,0.027018853,-0.020882253,0.049262106,-0.04983101,-0.007514531,0.039546747,-0.020823007,-0.08071834,0.07492631,-0.022990048,0.10416924,0.015164899,0.010428258,0.079337895,-0.093516044,0.015983166,0.022651028,-0.020889908,0.033424873,-0.0631165,-0.002721369,0.0062171565,0.008763772,0.078786895,-0.012367501,0.012650811,-0.052539248,0.057668887,-0.032919906,-0.018100528,-0.065508924,-0.07831521,-0.008697511,0.042247906,-0.042620853,0.014567949,0.15187186,0.06771047,0.07085275,0.01338814,0.029132437,-0.08111636,0.057422735,-0.050749462,0.062877946,0.014453684,-0.051695537,0.03015153,-0.06570588,-0.037342556,0.029318782,-0.036984775,-0.06314268,0.04163704,0.040910114,-0.011518094,-0.008359429,0.016142916,-0.068557695,0.017485717,0.00865397,0.01722404,0.009184838,-0.010261624,-0.069342986,-0.03828871,0.02418344,-0.049178906,0.03380759,-0.034402326,0.02395638,-0.11148203,-3.965382e-08,0.03356074,0.0047171437,0.08670241,0.05418214,0.014726252,0.020828918,-0.04208287,-0.038311776,-0.06792137,0.010701046,0.040551968,-0.021273479,0.028727092,0.0011471445,0.034883775,-0.015004072,-0.010267723,0.06605301,0.025268553,0.14574718,0.12644953,-0.010809869,-0.017266136,-0.049574867,-0.008696455,-0.033194475,0.06146998,0.05524762,-0.04408044,0.14327219,-0.012819719,0.055355802,0.031382058,0.056546777,-0.029884001,-0.016439158,-0.022684176,-0.026750777,-0.037530024,0.046523042,0.050932813,0.040613227,0.050979335,0.0020168747,0.046168525,0.017448474,-0.04962257,-0.057129018,0.11854011,0.030712944,-0.056246098,-0.008597376,0.09662954,0.10724052,0.111800954,0.014134122,0.035897646,0.0055556213,-0.06392763,0.059320413,0.058617365,0.04915754,-0.004351375,-0.07558882]\n"
     ]
    }
   ],
   "source": [
    "print(data.data[0][\"content\"])\n",
    "print(data.data[0][\"embedding\"])"
   ]
  },
  {
   "cell_type": "code",
   "execution_count": 44,
   "id": "d4dd0b21",
   "metadata": {},
   "outputs": [
    {
     "data": {
      "text/plain": [
       "384"
      ]
     },
     "execution_count": 44,
     "metadata": {},
     "output_type": "execute_result"
    }
   ],
   "source": [
    "import numpy as np\n",
    "numeric_vector = np.fromstring(data.data[0][\"embedding\"].strip('[]'), sep=',')\n",
    "len(numeric_vector.tolist())"
   ]
  },
  {
   "cell_type": "code",
   "execution_count": 45,
   "id": "b582b871",
   "metadata": {},
   "outputs": [
    {
     "name": "stderr",
     "output_type": "stream",
     "text": [
      "c:\\Users\\fenn\\AppData\\Local\\R-MINI~1\\Lib\\site-packages\\transformers\\tokenization_utils_base.py:1617: FutureWarning: `clean_up_tokenization_spaces` was not set. It will be set to `True` by default. This behavior will be deprecated in transformers v4.45, and will be then set to `False` by default. For more details check this issue: https://github.com/huggingface/transformers/issues/31884\n",
      "  warnings.warn(\n"
     ]
    },
    {
     "name": "stdout",
     "output_type": "stream",
     "text": [
      "tensor([[0.7318]])\n"
     ]
    }
   ],
   "source": [
    "from sentence_transformers import SentenceTransformer\n",
    "\n",
    "# Load the pre-trained model\n",
    "model = SentenceTransformer('all-MiniLM-L6-v2')\n",
    "\n",
    "similarities = model.similarity(embedding[0].tolist(), numeric_vector.tolist())\n",
    "print(similarities)"
   ]
  },
  {
   "cell_type": "code",
   "execution_count": null,
   "id": "a76f9f7e",
   "metadata": {},
   "outputs": [],
   "source": [
    "ERROR"
   ]
  },
  {
   "cell_type": "markdown",
   "id": "f5dbd003",
   "metadata": {},
   "source": [
    "**load_pdfs_by_filename**: Loads and stores PDF pages by filename:"
   ]
  },
  {
   "cell_type": "code",
   "execution_count": null,
   "id": "81e9dcb8",
   "metadata": {},
   "outputs": [],
   "source": [
    "\n",
    "\n",
    "\n",
    "pdf_pages = di.load_pdfs_by_filename(path_to_PDFs, verbose=False)\n",
    "\n",
    "# Optional: Print the loaded pages by filename\n",
    "for filename, pages in pdf_pages.items():\n",
    "    print(f\"\\nPDF: {filename}\")\n",
    "    print(f\"Total Pages: {len(pages)}\")\n",
    "    # print(pages[0])"
   ]
  },
  {
   "cell_type": "code",
   "execution_count": null,
   "id": "c8630b63",
   "metadata": {},
   "outputs": [],
   "source": [
    "# Assuming pdf_chunks is the dictionary containing chunks for each PDF\n",
    "first_key = list(pdf_pages.keys())[0]  # Get the first PDF filename\n",
    "print(\"first PDF of folder:\", first_key)\n",
    "first_pdf_pages = pdf_pages[first_key]  # Get the chunks for the first PDF\n",
    "\n",
    "\n",
    "# Print the first page\n",
    "print(\"First Page:\", first_pdf_pages[0], \"\\n\\n\")"
   ]
  },
  {
   "cell_type": "markdown",
   "id": "d04d581a",
   "metadata": {},
   "source": [
    "**split_pdf_pages_into_chunks**: Splits and stores PDF pages into chunks by filename:\n",
    "\n",
    "On average, one token is roughly 4 characters in English text. So, each chunk of 800 characters roughly corresponds to 200 tokens.\n",
    "\n",
    "\n",
    "**The maximal number of tokens of `all-MiniLM-L6-v2` is 512.**"
   ]
  },
  {
   "cell_type": "code",
   "execution_count": null,
   "id": "63c2bf01",
   "metadata": {},
   "outputs": [],
   "source": [
    "pdf_chunks = di.split_pdf_pages_into_chunks(pdf_pages, chunk_size=800, chunk_overlap=150, verbose=False)\n",
    "\n",
    "# Optional: Print a summary of chunks created per PDF\n",
    "for filename, chunks in pdf_chunks.items():\n",
    "    print(f\"\\nPDF: {filename}\")\n",
    "    print(f\"Total Chunks: {len(chunks)}\")"
   ]
  },
  {
   "cell_type": "code",
   "execution_count": null,
   "id": "fe313b08",
   "metadata": {},
   "outputs": [],
   "source": [
    "# Assuming pdf_chunks is the dictionary containing chunks for each PDF\n",
    "first_key = list(pdf_chunks.keys())[0]  # Get the first PDF filename\n",
    "print(\"first PDF of folder:\", first_key)\n",
    "first_pdf_chunks = pdf_chunks[first_key]  # Get the chunks for the first PDF\n",
    "\n",
    "# Access the first and second chunks\n",
    "first_chunk = first_pdf_chunks[0]\n",
    "second_chunk = first_pdf_chunks[1]\n",
    "\n",
    "# Print the first two chunks\n",
    "print(\"\\nFirst Chunk:\", first_chunk, \"\\n\\n\")\n",
    "print(\"Second Chunk:\", second_chunk)"
   ]
  },
  {
   "cell_type": "code",
   "execution_count": null,
   "id": "506bbb83",
   "metadata": {},
   "outputs": [],
   "source": [
    "print(\"page content:\", first_chunk.page_content, \"\\n\\n\")\n",
    "print(\"metadata:\", first_chunk.metadata)"
   ]
  },
  {
   "cell_type": "code",
   "execution_count": null,
   "id": "3e336786",
   "metadata": {},
   "outputs": [],
   "source": [
    "print(second_chunk.page_content)"
   ]
  },
  {
   "cell_type": "code",
   "execution_count": null,
   "id": "041a887d",
   "metadata": {},
   "outputs": [],
   "source": [
    "len(first_pdf_chunks)\n",
    "first_pdf_chunks[0].page_content"
   ]
  },
  {
   "cell_type": "code",
   "execution_count": null,
   "id": "133c5ed9",
   "metadata": {},
   "outputs": [],
   "source": [
    "pdf_chunks.keys()"
   ]
  },
  {
   "cell_type": "code",
   "execution_count": null,
   "id": "209f5bce",
   "metadata": {},
   "outputs": [],
   "source": [
    "list(pdf_chunks.keys())"
   ]
  },
  {
   "cell_type": "code",
   "execution_count": 50,
   "id": "4017f1df",
   "metadata": {},
   "outputs": [],
   "source": [
    "\n",
    "\n",
    "\n",
    "# Assuming first_pdf_chunks is an array of PDF page objects or text chunks\n",
    "tmp_chunks = []  # Initialize an empty array to store the extracted content\n",
    "\n",
    "# Iterate over each page or chunk in first_pdf_chunks\n",
    "for chunk in first_pdf_chunks:\n",
    "    # Extract the page content (assuming 'chunk' has a method or property called 'extract_content')\n",
    "    content = chunk.page_content  # Modify this line based on how you extract content from your PDF chunks\n",
    "    # Append the extracted content to tmp_chunks\n",
    "    tmp_chunks.append(content)\n",
    "\n",
    "# tmp_chunks now contains the extracted content from each page\n"
   ]
  },
  {
   "cell_type": "code",
   "execution_count": null,
   "id": "e0f5e01e",
   "metadata": {},
   "outputs": [],
   "source": [
    "len(tmp_chunks)"
   ]
  },
  {
   "cell_type": "markdown",
   "id": "e7c4ca22",
   "metadata": {},
   "source": [
    "# Data Storage: Text chunks are converted into vector embeddings and stored in a vector database (Vector DB) next to their respective text chunks."
   ]
  },
  {
   "cell_type": "code",
   "execution_count": null,
   "id": "dc889403",
   "metadata": {},
   "outputs": [],
   "source": [
    "from sentence_transformers import SentenceTransformer\n",
    "import pandas as pd\n",
    "\n",
    "\n",
    "# Define sentences\n",
    "sentences = tmp_chunks\n",
    "\n",
    "# Load the pre-trained model\n",
    "model = SentenceTransformer('all-MiniLM-L6-v2')\n",
    "\n",
    "# Extract features\n",
    "features = model.encode(sentences)\n",
    "\n",
    "# Print the features as a pandas dataframe\n",
    "pd.DataFrame(features)"
   ]
  },
  {
   "cell_type": "code",
   "execution_count": null,
   "id": "cac1af2b",
   "metadata": {},
   "outputs": [],
   "source": [
    "len(features)\n",
    "features[0]"
   ]
  },
  {
   "cell_type": "code",
   "execution_count": null,
   "id": "f90b9c96",
   "metadata": {},
   "outputs": [],
   "source": [
    "similarities = model.similarity(features, features)\n",
    "print(similarities)"
   ]
  },
  {
   "cell_type": "code",
   "execution_count": null,
   "id": "e01c9c11",
   "metadata": {},
   "outputs": [],
   "source": [
    "import numpy as np\n",
    "import matplotlib.pyplot as plt\n",
    "import seaborn as sns\n",
    "from sklearn.metrics.pairwise import cosine_similarity\n",
    "from scipy.cluster.hierarchy import dendrogram, linkage\n",
    "from sentence_transformers import SentenceTransformer\n",
    "\n",
    "# Initialize the model and encode the corpus\n",
    "embedder = SentenceTransformer(\"all-MiniLM-L6-v2\")\n",
    "corpus = sentences\n",
    "corpus_embeddings = embedder.encode(corpus)\n",
    "\n",
    "# Calculate similarity matrix using cosine similarity\n",
    "similarity_matrix = cosine_similarity(corpus_embeddings)\n",
    "\n",
    "# Convert similarity matrix to a distance matrix\n",
    "distance_matrix = 1 - similarity_matrix\n",
    "\n",
    "# Perform hierarchical clustering\n",
    "linked = linkage(distance_matrix, 'ward')\n",
    "\n",
    "# Plot the dendrogram\n",
    "plt.figure(figsize=(10, 8))\n",
    "dendrogram(linked, labels=corpus, orientation='top', distance_sort='descending', show_leaf_counts=True)\n",
    "plt.title(\"Dendrogram of Sentence Clustering\")\n",
    "plt.xlabel(\"Sentences\")\n",
    "plt.ylabel(\"Distance\")\n",
    "plt.xticks(rotation=90)\n",
    "plt.tight_layout()\n",
    "plt.show()\n"
   ]
  },
  {
   "cell_type": "code",
   "execution_count": null,
   "id": "357d5239",
   "metadata": {},
   "outputs": [],
   "source": [
    "aaaaaaaaaaaa"
   ]
  },
  {
   "cell_type": "code",
   "execution_count": 24,
   "id": "14e22fcc",
   "metadata": {},
   "outputs": [],
   "source": [
    "import os\n",
    "import json\n",
    "#from dotenv import load_dotenv\n",
    "from supabase import create_client, Client\n",
    "from faker import Faker\n",
    "import faker_commerce\n",
    "\n",
    "\n",
    "def add_entries_to_vendor_table(supabase, vendor_count):\n",
    "    fake = Faker()\n",
    "    foreign_key_list = []\n",
    "    fake.add_provider(faker_commerce.Provider)\n",
    "    main_list = []\n",
    "    for i in range(vendor_count):\n",
    "        value = {'vendor_name': fake.company(), 'total_employees': fake.random_int(40, 169),\n",
    "                 'vendor_location': fake.country()}\n",
    "\n",
    "        main_list.append(value)\n",
    "    data = supabase.table('vendor2').insert(main_list).execute()\n",
    "    data_json = json.loads(data.json())\n",
    "    data_entries = data_json['data']\n",
    "    for i in range(len(data_entries)):\n",
    "        foreign_key_list.append(int(data_entries[i]['vendor_id']))\n",
    "    return foreign_key_list\n",
    "\n",
    "\n",
    "def add_entries_to_product_table(supabase, vendor_id):\n",
    "    fake = Faker()\n",
    "    fake.add_provider(faker_commerce.Provider)\n",
    "    main_list = []\n",
    "    iterator = fake.random_int(1, 15)\n",
    "    for i in range(iterator):\n",
    "        value = {'vendor_id': vendor_id, 'product_name': fake.ecommerce_name(),\n",
    "                 'inventory_count': fake.random_int(1, 100), 'price': fake.random_int(45, 100)}\n",
    "        main_list.append(value)\n",
    "    data = supabase.table('Product').insert(main_list).execute()\n",
    "\n",
    "\n",
    "def main():\n",
    "    vendor_count = 10\n",
    "    supabase: Client = create_client(key.SUPABASE_URL, key.SUPABASE_KEY)\n",
    "    fk_list = add_entries_to_vendor_table(supabase, vendor_count)\n",
    "    #for i in range(len(fk_list)):\n",
    "    #    add_entries_to_product_table(supabase, fk_list[i])\n",
    "\n",
    "\n",
    "main()\n"
   ]
  },
  {
   "cell_type": "code",
   "execution_count": null,
   "id": "f8dd2496",
   "metadata": {},
   "outputs": [],
   "source": [
    "from supabase import create_client, Client\n",
    "\n",
    "supabase: Client = create_client(key.SUPABASE_URL, key.SUPABASE_KEY)\n",
    "\n",
    "data = supabase.rpc('hello_world').execute()\n",
    "print(\"Hello World:\", data)\n",
    "\n",
    "\n",
    "data = supabase.rpc('get_vendors').gt('total_employees', 160).execute()\n",
    "print(\"Vendors:\", data)\n",
    "vars(data)\n",
    "data.data[0]"
   ]
  }
 ],
 "metadata": {
  "kernelspec": {
   "display_name": "Python 3",
   "language": "python",
   "name": "python3"
  },
  "language_info": {
   "codemirror_mode": {
    "name": "ipython",
    "version": 3
   },
   "file_extension": ".py",
   "mimetype": "text/x-python",
   "name": "python",
   "nbconvert_exporter": "python",
   "pygments_lexer": "ipython3",
   "version": "3.11.9"
  }
 },
 "nbformat": 4,
 "nbformat_minor": 5
}
